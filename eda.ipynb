{
 "cells": [
  {
   "cell_type": "code",
   "execution_count": 26,
   "metadata": {
    "scrolled": false
   },
   "outputs": [
    {
     "data": {
      "text/html": [
       "<div>\n",
       "<style scoped>\n",
       "    .dataframe tbody tr th:only-of-type {\n",
       "        vertical-align: middle;\n",
       "    }\n",
       "\n",
       "    .dataframe tbody tr th {\n",
       "        vertical-align: top;\n",
       "    }\n",
       "\n",
       "    .dataframe thead th {\n",
       "        text-align: right;\n",
       "    }\n",
       "</style>\n",
       "<table border=\"1\" class=\"dataframe\">\n",
       "  <thead>\n",
       "    <tr style=\"text-align: right;\">\n",
       "      <th></th>\n",
       "      <th>ID Race</th>\n",
       "      <th>Race</th>\n",
       "      <th>ID Year</th>\n",
       "      <th>Year</th>\n",
       "      <th>Household Income by Race</th>\n",
       "      <th>Household Income by Race Moe</th>\n",
       "      <th>Geography</th>\n",
       "      <th>ID Geography</th>\n",
       "      <th>Slug Geography</th>\n",
       "    </tr>\n",
       "  </thead>\n",
       "  <tbody>\n",
       "    <tr>\n",
       "      <th>0</th>\n",
       "      <td>0</td>\n",
       "      <td>Total</td>\n",
       "      <td>2018</td>\n",
       "      <td>2018</td>\n",
       "      <td>102125</td>\n",
       "      <td>1678.0</td>\n",
       "      <td>Alameda County, CA</td>\n",
       "      <td>05000US06001</td>\n",
       "      <td>alameda-county-ca</td>\n",
       "    </tr>\n",
       "    <tr>\n",
       "      <th>1</th>\n",
       "      <td>0</td>\n",
       "      <td>Total</td>\n",
       "      <td>2018</td>\n",
       "      <td>2018</td>\n",
       "      <td>51652</td>\n",
       "      <td>3471.0</td>\n",
       "      <td>Butte County, CA</td>\n",
       "      <td>05000US06007</td>\n",
       "      <td>butte-county-ca</td>\n",
       "    </tr>\n",
       "    <tr>\n",
       "      <th>2</th>\n",
       "      <td>0</td>\n",
       "      <td>Total</td>\n",
       "      <td>2018</td>\n",
       "      <td>2018</td>\n",
       "      <td>101618</td>\n",
       "      <td>1585.0</td>\n",
       "      <td>Contra Costa County, CA</td>\n",
       "      <td>05000US06013</td>\n",
       "      <td>contra-costa-county-ca</td>\n",
       "    </tr>\n",
       "    <tr>\n",
       "      <th>3</th>\n",
       "      <td>0</td>\n",
       "      <td>Total</td>\n",
       "      <td>2018</td>\n",
       "      <td>2018</td>\n",
       "      <td>82742</td>\n",
       "      <td>5957.0</td>\n",
       "      <td>El Dorado County, CA</td>\n",
       "      <td>05000US06017</td>\n",
       "      <td>el-dorado-county-ca</td>\n",
       "    </tr>\n",
       "    <tr>\n",
       "      <th>4</th>\n",
       "      <td>0</td>\n",
       "      <td>Total</td>\n",
       "      <td>2018</td>\n",
       "      <td>2018</td>\n",
       "      <td>52629</td>\n",
       "      <td>2017.0</td>\n",
       "      <td>Fresno County, CA</td>\n",
       "      <td>05000US06019</td>\n",
       "      <td>fresno-county-ca</td>\n",
       "    </tr>\n",
       "  </tbody>\n",
       "</table>\n",
       "</div>"
      ],
      "text/plain": [
       "   ID Race   Race  ID Year  Year  Household Income by Race  \\\n",
       "0        0  Total     2018  2018                    102125   \n",
       "1        0  Total     2018  2018                     51652   \n",
       "2        0  Total     2018  2018                    101618   \n",
       "3        0  Total     2018  2018                     82742   \n",
       "4        0  Total     2018  2018                     52629   \n",
       "\n",
       "   Household Income by Race Moe                Geography  ID Geography  \\\n",
       "0                        1678.0       Alameda County, CA  05000US06001   \n",
       "1                        3471.0         Butte County, CA  05000US06007   \n",
       "2                        1585.0  Contra Costa County, CA  05000US06013   \n",
       "3                        5957.0     El Dorado County, CA  05000US06017   \n",
       "4                        2017.0        Fresno County, CA  05000US06019   \n",
       "\n",
       "           Slug Geography  \n",
       "0       alameda-county-ca  \n",
       "1         butte-county-ca  \n",
       "2  contra-costa-county-ca  \n",
       "3     el-dorado-county-ca  \n",
       "4        fresno-county-ca  "
      ]
     },
     "execution_count": 26,
     "metadata": {},
     "output_type": "execute_result"
    }
   ],
   "source": [
    "import pandas as pd\n",
    "from sklearn.linear_model import LinearRegression\n",
    "from plotly import express as px\n",
    "import numpy as np\n",
    "eth = pd.read_csv('Income by Location.csv')\n",
    "eth.head()"
   ]
  },
  {
   "cell_type": "code",
   "execution_count": 27,
   "metadata": {},
   "outputs": [
    {
     "data": {
      "text/html": [
       "<div>\n",
       "<style scoped>\n",
       "    .dataframe tbody tr th:only-of-type {\n",
       "        vertical-align: middle;\n",
       "    }\n",
       "\n",
       "    .dataframe tbody tr th {\n",
       "        vertical-align: top;\n",
       "    }\n",
       "\n",
       "    .dataframe thead th {\n",
       "        text-align: right;\n",
       "    }\n",
       "</style>\n",
       "<table border=\"1\" class=\"dataframe\">\n",
       "  <thead>\n",
       "    <tr style=\"text-align: right;\">\n",
       "      <th></th>\n",
       "      <th>Race</th>\n",
       "      <th>Household Income by Race</th>\n",
       "    </tr>\n",
       "  </thead>\n",
       "  <tbody>\n",
       "    <tr>\n",
       "      <th>0</th>\n",
       "      <td>Asian</td>\n",
       "      <td>78021.887892</td>\n",
       "    </tr>\n",
       "    <tr>\n",
       "      <th>1</th>\n",
       "      <td>Black</td>\n",
       "      <td>54729.333333</td>\n",
       "    </tr>\n",
       "    <tr>\n",
       "      <th>2</th>\n",
       "      <td>Hispanic</td>\n",
       "      <td>51684.779167</td>\n",
       "    </tr>\n",
       "    <tr>\n",
       "      <th>3</th>\n",
       "      <td>Native American</td>\n",
       "      <td>54841.640625</td>\n",
       "    </tr>\n",
       "    <tr>\n",
       "      <th>4</th>\n",
       "      <td>Other</td>\n",
       "      <td>50276.939130</td>\n",
       "    </tr>\n",
       "    <tr>\n",
       "      <th>5</th>\n",
       "      <td>Pacific Islander</td>\n",
       "      <td>72120.620000</td>\n",
       "    </tr>\n",
       "    <tr>\n",
       "      <th>6</th>\n",
       "      <td>Total</td>\n",
       "      <td>65064.066667</td>\n",
       "    </tr>\n",
       "    <tr>\n",
       "      <th>7</th>\n",
       "      <td>Two Or More</td>\n",
       "      <td>64457.556522</td>\n",
       "    </tr>\n",
       "    <tr>\n",
       "      <th>8</th>\n",
       "      <td>White</td>\n",
       "      <td>68072.129167</td>\n",
       "    </tr>\n",
       "    <tr>\n",
       "      <th>9</th>\n",
       "      <td>White Non-Hispanic</td>\n",
       "      <td>74016.883333</td>\n",
       "    </tr>\n",
       "  </tbody>\n",
       "</table>\n",
       "</div>"
      ],
      "text/plain": [
       "                 Race  Household Income by Race\n",
       "0               Asian              78021.887892\n",
       "1               Black              54729.333333\n",
       "2            Hispanic              51684.779167\n",
       "3     Native American              54841.640625\n",
       "4               Other              50276.939130\n",
       "5    Pacific Islander              72120.620000\n",
       "6               Total              65064.066667\n",
       "7         Two Or More              64457.556522\n",
       "8               White              68072.129167\n",
       "9  White Non-Hispanic              74016.883333"
      ]
     },
     "execution_count": 27,
     "metadata": {},
     "output_type": "execute_result"
    }
   ],
   "source": [
    "income = eth.groupby([\"Race\"])[\"Household Income by Race\"].mean()\n",
    "#income = eth.groupby([\"Race\"]).aggregate([np.mean])[\"Household Income by Race\"]\n",
    "#income.rename({'Race': 'X', 'mean': 'Y'}, axis=1, inplace=True)\n",
    "income = income.to_frame()\n",
    "income = income.reset_index()\n",
    "income"
   ]
  },
  {
   "cell_type": "code",
   "execution_count": 28,
   "metadata": {},
   "outputs": [
    {
     "data": {
      "application/vnd.plotly.v1+json": {
       "config": {
        "plotlyServerURL": "https://plot.ly"
       },
       "data": [
        {
         "orientation": "h",
         "type": "bar",
         "x": [
          78021.88789237668,
          54729.333333333336,
          51684.77916666667,
          54841.640625,
          50276.93913043478,
          72120.62,
          65064.066666666666,
          64457.556521739134,
          68072.12916666667,
          74016.88333333333
         ],
         "y": [
          "Asian",
          "Black",
          "Hispanic",
          "Native American",
          "Other",
          "Pacific Islander",
          "Total",
          "Two Or More",
          "White",
          "White Non-Hispanic"
         ]
        }
       ],
       "layout": {
        "font": {
         "color": "gray",
         "family": "Courier New"
        },
        "legend": {
         "title": {
          "font": {
           "color": "green"
          }
         }
        },
        "template": {
         "data": {
          "bar": [
           {
            "error_x": {
             "color": "#2a3f5f"
            },
            "error_y": {
             "color": "#2a3f5f"
            },
            "marker": {
             "line": {
              "color": "#E5ECF6",
              "width": 0.5
             }
            },
            "type": "bar"
           }
          ],
          "barpolar": [
           {
            "marker": {
             "line": {
              "color": "#E5ECF6",
              "width": 0.5
             }
            },
            "type": "barpolar"
           }
          ],
          "carpet": [
           {
            "aaxis": {
             "endlinecolor": "#2a3f5f",
             "gridcolor": "white",
             "linecolor": "white",
             "minorgridcolor": "white",
             "startlinecolor": "#2a3f5f"
            },
            "baxis": {
             "endlinecolor": "#2a3f5f",
             "gridcolor": "white",
             "linecolor": "white",
             "minorgridcolor": "white",
             "startlinecolor": "#2a3f5f"
            },
            "type": "carpet"
           }
          ],
          "choropleth": [
           {
            "colorbar": {
             "outlinewidth": 0,
             "ticks": ""
            },
            "type": "choropleth"
           }
          ],
          "contour": [
           {
            "colorbar": {
             "outlinewidth": 0,
             "ticks": ""
            },
            "colorscale": [
             [
              0,
              "#0d0887"
             ],
             [
              0.1111111111111111,
              "#46039f"
             ],
             [
              0.2222222222222222,
              "#7201a8"
             ],
             [
              0.3333333333333333,
              "#9c179e"
             ],
             [
              0.4444444444444444,
              "#bd3786"
             ],
             [
              0.5555555555555556,
              "#d8576b"
             ],
             [
              0.6666666666666666,
              "#ed7953"
             ],
             [
              0.7777777777777778,
              "#fb9f3a"
             ],
             [
              0.8888888888888888,
              "#fdca26"
             ],
             [
              1,
              "#f0f921"
             ]
            ],
            "type": "contour"
           }
          ],
          "contourcarpet": [
           {
            "colorbar": {
             "outlinewidth": 0,
             "ticks": ""
            },
            "type": "contourcarpet"
           }
          ],
          "heatmap": [
           {
            "colorbar": {
             "outlinewidth": 0,
             "ticks": ""
            },
            "colorscale": [
             [
              0,
              "#0d0887"
             ],
             [
              0.1111111111111111,
              "#46039f"
             ],
             [
              0.2222222222222222,
              "#7201a8"
             ],
             [
              0.3333333333333333,
              "#9c179e"
             ],
             [
              0.4444444444444444,
              "#bd3786"
             ],
             [
              0.5555555555555556,
              "#d8576b"
             ],
             [
              0.6666666666666666,
              "#ed7953"
             ],
             [
              0.7777777777777778,
              "#fb9f3a"
             ],
             [
              0.8888888888888888,
              "#fdca26"
             ],
             [
              1,
              "#f0f921"
             ]
            ],
            "type": "heatmap"
           }
          ],
          "heatmapgl": [
           {
            "colorbar": {
             "outlinewidth": 0,
             "ticks": ""
            },
            "colorscale": [
             [
              0,
              "#0d0887"
             ],
             [
              0.1111111111111111,
              "#46039f"
             ],
             [
              0.2222222222222222,
              "#7201a8"
             ],
             [
              0.3333333333333333,
              "#9c179e"
             ],
             [
              0.4444444444444444,
              "#bd3786"
             ],
             [
              0.5555555555555556,
              "#d8576b"
             ],
             [
              0.6666666666666666,
              "#ed7953"
             ],
             [
              0.7777777777777778,
              "#fb9f3a"
             ],
             [
              0.8888888888888888,
              "#fdca26"
             ],
             [
              1,
              "#f0f921"
             ]
            ],
            "type": "heatmapgl"
           }
          ],
          "histogram": [
           {
            "marker": {
             "colorbar": {
              "outlinewidth": 0,
              "ticks": ""
             }
            },
            "type": "histogram"
           }
          ],
          "histogram2d": [
           {
            "colorbar": {
             "outlinewidth": 0,
             "ticks": ""
            },
            "colorscale": [
             [
              0,
              "#0d0887"
             ],
             [
              0.1111111111111111,
              "#46039f"
             ],
             [
              0.2222222222222222,
              "#7201a8"
             ],
             [
              0.3333333333333333,
              "#9c179e"
             ],
             [
              0.4444444444444444,
              "#bd3786"
             ],
             [
              0.5555555555555556,
              "#d8576b"
             ],
             [
              0.6666666666666666,
              "#ed7953"
             ],
             [
              0.7777777777777778,
              "#fb9f3a"
             ],
             [
              0.8888888888888888,
              "#fdca26"
             ],
             [
              1,
              "#f0f921"
             ]
            ],
            "type": "histogram2d"
           }
          ],
          "histogram2dcontour": [
           {
            "colorbar": {
             "outlinewidth": 0,
             "ticks": ""
            },
            "colorscale": [
             [
              0,
              "#0d0887"
             ],
             [
              0.1111111111111111,
              "#46039f"
             ],
             [
              0.2222222222222222,
              "#7201a8"
             ],
             [
              0.3333333333333333,
              "#9c179e"
             ],
             [
              0.4444444444444444,
              "#bd3786"
             ],
             [
              0.5555555555555556,
              "#d8576b"
             ],
             [
              0.6666666666666666,
              "#ed7953"
             ],
             [
              0.7777777777777778,
              "#fb9f3a"
             ],
             [
              0.8888888888888888,
              "#fdca26"
             ],
             [
              1,
              "#f0f921"
             ]
            ],
            "type": "histogram2dcontour"
           }
          ],
          "mesh3d": [
           {
            "colorbar": {
             "outlinewidth": 0,
             "ticks": ""
            },
            "type": "mesh3d"
           }
          ],
          "parcoords": [
           {
            "line": {
             "colorbar": {
              "outlinewidth": 0,
              "ticks": ""
             }
            },
            "type": "parcoords"
           }
          ],
          "pie": [
           {
            "automargin": true,
            "type": "pie"
           }
          ],
          "scatter": [
           {
            "marker": {
             "colorbar": {
              "outlinewidth": 0,
              "ticks": ""
             }
            },
            "type": "scatter"
           }
          ],
          "scatter3d": [
           {
            "line": {
             "colorbar": {
              "outlinewidth": 0,
              "ticks": ""
             }
            },
            "marker": {
             "colorbar": {
              "outlinewidth": 0,
              "ticks": ""
             }
            },
            "type": "scatter3d"
           }
          ],
          "scattercarpet": [
           {
            "marker": {
             "colorbar": {
              "outlinewidth": 0,
              "ticks": ""
             }
            },
            "type": "scattercarpet"
           }
          ],
          "scattergeo": [
           {
            "marker": {
             "colorbar": {
              "outlinewidth": 0,
              "ticks": ""
             }
            },
            "type": "scattergeo"
           }
          ],
          "scattergl": [
           {
            "marker": {
             "colorbar": {
              "outlinewidth": 0,
              "ticks": ""
             }
            },
            "type": "scattergl"
           }
          ],
          "scattermapbox": [
           {
            "marker": {
             "colorbar": {
              "outlinewidth": 0,
              "ticks": ""
             }
            },
            "type": "scattermapbox"
           }
          ],
          "scatterpolar": [
           {
            "marker": {
             "colorbar": {
              "outlinewidth": 0,
              "ticks": ""
             }
            },
            "type": "scatterpolar"
           }
          ],
          "scatterpolargl": [
           {
            "marker": {
             "colorbar": {
              "outlinewidth": 0,
              "ticks": ""
             }
            },
            "type": "scatterpolargl"
           }
          ],
          "scatterternary": [
           {
            "marker": {
             "colorbar": {
              "outlinewidth": 0,
              "ticks": ""
             }
            },
            "type": "scatterternary"
           }
          ],
          "surface": [
           {
            "colorbar": {
             "outlinewidth": 0,
             "ticks": ""
            },
            "colorscale": [
             [
              0,
              "#0d0887"
             ],
             [
              0.1111111111111111,
              "#46039f"
             ],
             [
              0.2222222222222222,
              "#7201a8"
             ],
             [
              0.3333333333333333,
              "#9c179e"
             ],
             [
              0.4444444444444444,
              "#bd3786"
             ],
             [
              0.5555555555555556,
              "#d8576b"
             ],
             [
              0.6666666666666666,
              "#ed7953"
             ],
             [
              0.7777777777777778,
              "#fb9f3a"
             ],
             [
              0.8888888888888888,
              "#fdca26"
             ],
             [
              1,
              "#f0f921"
             ]
            ],
            "type": "surface"
           }
          ],
          "table": [
           {
            "cells": {
             "fill": {
              "color": "#EBF0F8"
             },
             "line": {
              "color": "white"
             }
            },
            "header": {
             "fill": {
              "color": "#C8D4E3"
             },
             "line": {
              "color": "white"
             }
            },
            "type": "table"
           }
          ]
         },
         "layout": {
          "annotationdefaults": {
           "arrowcolor": "#2a3f5f",
           "arrowhead": 0,
           "arrowwidth": 1
          },
          "autotypenumbers": "strict",
          "coloraxis": {
           "colorbar": {
            "outlinewidth": 0,
            "ticks": ""
           }
          },
          "colorscale": {
           "diverging": [
            [
             0,
             "#8e0152"
            ],
            [
             0.1,
             "#c51b7d"
            ],
            [
             0.2,
             "#de77ae"
            ],
            [
             0.3,
             "#f1b6da"
            ],
            [
             0.4,
             "#fde0ef"
            ],
            [
             0.5,
             "#f7f7f7"
            ],
            [
             0.6,
             "#e6f5d0"
            ],
            [
             0.7,
             "#b8e186"
            ],
            [
             0.8,
             "#7fbc41"
            ],
            [
             0.9,
             "#4d9221"
            ],
            [
             1,
             "#276419"
            ]
           ],
           "sequential": [
            [
             0,
             "#0d0887"
            ],
            [
             0.1111111111111111,
             "#46039f"
            ],
            [
             0.2222222222222222,
             "#7201a8"
            ],
            [
             0.3333333333333333,
             "#9c179e"
            ],
            [
             0.4444444444444444,
             "#bd3786"
            ],
            [
             0.5555555555555556,
             "#d8576b"
            ],
            [
             0.6666666666666666,
             "#ed7953"
            ],
            [
             0.7777777777777778,
             "#fb9f3a"
            ],
            [
             0.8888888888888888,
             "#fdca26"
            ],
            [
             1,
             "#f0f921"
            ]
           ],
           "sequentialminus": [
            [
             0,
             "#0d0887"
            ],
            [
             0.1111111111111111,
             "#46039f"
            ],
            [
             0.2222222222222222,
             "#7201a8"
            ],
            [
             0.3333333333333333,
             "#9c179e"
            ],
            [
             0.4444444444444444,
             "#bd3786"
            ],
            [
             0.5555555555555556,
             "#d8576b"
            ],
            [
             0.6666666666666666,
             "#ed7953"
            ],
            [
             0.7777777777777778,
             "#fb9f3a"
            ],
            [
             0.8888888888888888,
             "#fdca26"
            ],
            [
             1,
             "#f0f921"
            ]
           ]
          },
          "colorway": [
           "#636efa",
           "#EF553B",
           "#00cc96",
           "#ab63fa",
           "#FFA15A",
           "#19d3f3",
           "#FF6692",
           "#B6E880",
           "#FF97FF",
           "#FECB52"
          ],
          "font": {
           "color": "#2a3f5f"
          },
          "geo": {
           "bgcolor": "white",
           "lakecolor": "white",
           "landcolor": "#E5ECF6",
           "showlakes": true,
           "showland": true,
           "subunitcolor": "white"
          },
          "hoverlabel": {
           "align": "left"
          },
          "hovermode": "closest",
          "mapbox": {
           "style": "light"
          },
          "paper_bgcolor": "white",
          "plot_bgcolor": "#E5ECF6",
          "polar": {
           "angularaxis": {
            "gridcolor": "white",
            "linecolor": "white",
            "ticks": ""
           },
           "bgcolor": "#E5ECF6",
           "radialaxis": {
            "gridcolor": "white",
            "linecolor": "white",
            "ticks": ""
           }
          },
          "scene": {
           "xaxis": {
            "backgroundcolor": "#E5ECF6",
            "gridcolor": "white",
            "gridwidth": 2,
            "linecolor": "white",
            "showbackground": true,
            "ticks": "",
            "zerolinecolor": "white"
           },
           "yaxis": {
            "backgroundcolor": "#E5ECF6",
            "gridcolor": "white",
            "gridwidth": 2,
            "linecolor": "white",
            "showbackground": true,
            "ticks": "",
            "zerolinecolor": "white"
           },
           "zaxis": {
            "backgroundcolor": "#E5ECF6",
            "gridcolor": "white",
            "gridwidth": 2,
            "linecolor": "white",
            "showbackground": true,
            "ticks": "",
            "zerolinecolor": "white"
           }
          },
          "shapedefaults": {
           "line": {
            "color": "#2a3f5f"
           }
          },
          "ternary": {
           "aaxis": {
            "gridcolor": "white",
            "linecolor": "white",
            "ticks": ""
           },
           "baxis": {
            "gridcolor": "white",
            "linecolor": "white",
            "ticks": ""
           },
           "bgcolor": "#E5ECF6",
           "caxis": {
            "gridcolor": "white",
            "linecolor": "white",
            "ticks": ""
           }
          },
          "title": {
           "x": 0.05
          },
          "xaxis": {
           "automargin": true,
           "gridcolor": "white",
           "linecolor": "white",
           "ticks": "",
           "title": {
            "standoff": 15
           },
           "zerolinecolor": "white",
           "zerolinewidth": 2
          },
          "yaxis": {
           "automargin": true,
           "gridcolor": "white",
           "linecolor": "white",
           "ticks": "",
           "title": {
            "standoff": 15
           },
           "zerolinecolor": "white",
           "zerolinewidth": 2
          }
         }
        },
        "title": {
         "font": {
          "color": "Purple",
          "family": "Times New Roman"
         },
         "text": "Annual Household Income By Races in California"
        }
       }
      },
      "text/html": [
       "<div>                            <div id=\"8e143d93-af8d-4ffd-aaca-15b22365b578\" class=\"plotly-graph-div\" style=\"height:525px; width:100%;\"></div>            <script type=\"text/javascript\">                require([\"plotly\"], function(Plotly) {                    window.PLOTLYENV=window.PLOTLYENV || {};                                    if (document.getElementById(\"8e143d93-af8d-4ffd-aaca-15b22365b578\")) {                    Plotly.newPlot(                        \"8e143d93-af8d-4ffd-aaca-15b22365b578\",                        [{\"orientation\": \"h\", \"type\": \"bar\", \"x\": [78021.88789237668, 54729.333333333336, 51684.77916666667, 54841.640625, 50276.93913043478, 72120.62, 65064.066666666666, 64457.556521739134, 68072.12916666667, 74016.88333333333], \"y\": [\"Asian\", \"Black\", \"Hispanic\", \"Native American\", \"Other\", \"Pacific Islander\", \"Total\", \"Two Or More\", \"White\", \"White Non-Hispanic\"]}],                        {\"font\": {\"color\": \"gray\", \"family\": \"Courier New\"}, \"legend\": {\"title\": {\"font\": {\"color\": \"green\"}}}, \"template\": {\"data\": {\"bar\": [{\"error_x\": {\"color\": \"#2a3f5f\"}, \"error_y\": {\"color\": \"#2a3f5f\"}, \"marker\": {\"line\": {\"color\": \"#E5ECF6\", \"width\": 0.5}}, \"type\": \"bar\"}], \"barpolar\": [{\"marker\": {\"line\": {\"color\": \"#E5ECF6\", \"width\": 0.5}}, \"type\": \"barpolar\"}], \"carpet\": [{\"aaxis\": {\"endlinecolor\": \"#2a3f5f\", \"gridcolor\": \"white\", \"linecolor\": \"white\", \"minorgridcolor\": \"white\", \"startlinecolor\": \"#2a3f5f\"}, \"baxis\": {\"endlinecolor\": \"#2a3f5f\", \"gridcolor\": \"white\", \"linecolor\": \"white\", \"minorgridcolor\": \"white\", \"startlinecolor\": \"#2a3f5f\"}, \"type\": \"carpet\"}], \"choropleth\": [{\"colorbar\": {\"outlinewidth\": 0, \"ticks\": \"\"}, \"type\": \"choropleth\"}], \"contour\": [{\"colorbar\": {\"outlinewidth\": 0, \"ticks\": \"\"}, \"colorscale\": [[0.0, \"#0d0887\"], [0.1111111111111111, \"#46039f\"], [0.2222222222222222, \"#7201a8\"], [0.3333333333333333, \"#9c179e\"], [0.4444444444444444, \"#bd3786\"], [0.5555555555555556, \"#d8576b\"], [0.6666666666666666, \"#ed7953\"], [0.7777777777777778, \"#fb9f3a\"], [0.8888888888888888, \"#fdca26\"], [1.0, \"#f0f921\"]], \"type\": \"contour\"}], \"contourcarpet\": [{\"colorbar\": {\"outlinewidth\": 0, \"ticks\": \"\"}, \"type\": \"contourcarpet\"}], \"heatmap\": [{\"colorbar\": {\"outlinewidth\": 0, \"ticks\": \"\"}, \"colorscale\": [[0.0, \"#0d0887\"], [0.1111111111111111, \"#46039f\"], [0.2222222222222222, \"#7201a8\"], [0.3333333333333333, \"#9c179e\"], [0.4444444444444444, \"#bd3786\"], [0.5555555555555556, \"#d8576b\"], [0.6666666666666666, \"#ed7953\"], [0.7777777777777778, \"#fb9f3a\"], [0.8888888888888888, \"#fdca26\"], [1.0, \"#f0f921\"]], \"type\": \"heatmap\"}], \"heatmapgl\": [{\"colorbar\": {\"outlinewidth\": 0, \"ticks\": \"\"}, \"colorscale\": [[0.0, \"#0d0887\"], [0.1111111111111111, \"#46039f\"], [0.2222222222222222, \"#7201a8\"], [0.3333333333333333, \"#9c179e\"], [0.4444444444444444, \"#bd3786\"], [0.5555555555555556, \"#d8576b\"], [0.6666666666666666, \"#ed7953\"], [0.7777777777777778, \"#fb9f3a\"], [0.8888888888888888, \"#fdca26\"], [1.0, \"#f0f921\"]], \"type\": \"heatmapgl\"}], \"histogram\": [{\"marker\": {\"colorbar\": {\"outlinewidth\": 0, \"ticks\": \"\"}}, \"type\": \"histogram\"}], \"histogram2d\": [{\"colorbar\": {\"outlinewidth\": 0, \"ticks\": \"\"}, \"colorscale\": [[0.0, \"#0d0887\"], [0.1111111111111111, \"#46039f\"], [0.2222222222222222, \"#7201a8\"], [0.3333333333333333, \"#9c179e\"], [0.4444444444444444, \"#bd3786\"], [0.5555555555555556, \"#d8576b\"], [0.6666666666666666, \"#ed7953\"], [0.7777777777777778, \"#fb9f3a\"], [0.8888888888888888, \"#fdca26\"], [1.0, \"#f0f921\"]], \"type\": \"histogram2d\"}], \"histogram2dcontour\": [{\"colorbar\": {\"outlinewidth\": 0, \"ticks\": \"\"}, \"colorscale\": [[0.0, \"#0d0887\"], [0.1111111111111111, \"#46039f\"], [0.2222222222222222, \"#7201a8\"], [0.3333333333333333, \"#9c179e\"], [0.4444444444444444, \"#bd3786\"], [0.5555555555555556, \"#d8576b\"], [0.6666666666666666, \"#ed7953\"], [0.7777777777777778, \"#fb9f3a\"], [0.8888888888888888, \"#fdca26\"], [1.0, \"#f0f921\"]], \"type\": \"histogram2dcontour\"}], \"mesh3d\": [{\"colorbar\": {\"outlinewidth\": 0, \"ticks\": \"\"}, \"type\": \"mesh3d\"}], \"parcoords\": [{\"line\": {\"colorbar\": {\"outlinewidth\": 0, \"ticks\": \"\"}}, \"type\": \"parcoords\"}], \"pie\": [{\"automargin\": true, \"type\": \"pie\"}], \"scatter\": [{\"marker\": {\"colorbar\": {\"outlinewidth\": 0, \"ticks\": \"\"}}, \"type\": \"scatter\"}], \"scatter3d\": [{\"line\": {\"colorbar\": {\"outlinewidth\": 0, \"ticks\": \"\"}}, \"marker\": {\"colorbar\": {\"outlinewidth\": 0, \"ticks\": \"\"}}, \"type\": \"scatter3d\"}], \"scattercarpet\": [{\"marker\": {\"colorbar\": {\"outlinewidth\": 0, \"ticks\": \"\"}}, \"type\": \"scattercarpet\"}], \"scattergeo\": [{\"marker\": {\"colorbar\": {\"outlinewidth\": 0, \"ticks\": \"\"}}, \"type\": \"scattergeo\"}], \"scattergl\": [{\"marker\": {\"colorbar\": {\"outlinewidth\": 0, \"ticks\": \"\"}}, \"type\": \"scattergl\"}], \"scattermapbox\": [{\"marker\": {\"colorbar\": {\"outlinewidth\": 0, \"ticks\": \"\"}}, \"type\": \"scattermapbox\"}], \"scatterpolar\": [{\"marker\": {\"colorbar\": {\"outlinewidth\": 0, \"ticks\": \"\"}}, \"type\": \"scatterpolar\"}], \"scatterpolargl\": [{\"marker\": {\"colorbar\": {\"outlinewidth\": 0, \"ticks\": \"\"}}, \"type\": \"scatterpolargl\"}], \"scatterternary\": [{\"marker\": {\"colorbar\": {\"outlinewidth\": 0, \"ticks\": \"\"}}, \"type\": \"scatterternary\"}], \"surface\": [{\"colorbar\": {\"outlinewidth\": 0, \"ticks\": \"\"}, \"colorscale\": [[0.0, \"#0d0887\"], [0.1111111111111111, \"#46039f\"], [0.2222222222222222, \"#7201a8\"], [0.3333333333333333, \"#9c179e\"], [0.4444444444444444, \"#bd3786\"], [0.5555555555555556, \"#d8576b\"], [0.6666666666666666, \"#ed7953\"], [0.7777777777777778, \"#fb9f3a\"], [0.8888888888888888, \"#fdca26\"], [1.0, \"#f0f921\"]], \"type\": \"surface\"}], \"table\": [{\"cells\": {\"fill\": {\"color\": \"#EBF0F8\"}, \"line\": {\"color\": \"white\"}}, \"header\": {\"fill\": {\"color\": \"#C8D4E3\"}, \"line\": {\"color\": \"white\"}}, \"type\": \"table\"}]}, \"layout\": {\"annotationdefaults\": {\"arrowcolor\": \"#2a3f5f\", \"arrowhead\": 0, \"arrowwidth\": 1}, \"autotypenumbers\": \"strict\", \"coloraxis\": {\"colorbar\": {\"outlinewidth\": 0, \"ticks\": \"\"}}, \"colorscale\": {\"diverging\": [[0, \"#8e0152\"], [0.1, \"#c51b7d\"], [0.2, \"#de77ae\"], [0.3, \"#f1b6da\"], [0.4, \"#fde0ef\"], [0.5, \"#f7f7f7\"], [0.6, \"#e6f5d0\"], [0.7, \"#b8e186\"], [0.8, \"#7fbc41\"], [0.9, \"#4d9221\"], [1, \"#276419\"]], \"sequential\": [[0.0, \"#0d0887\"], [0.1111111111111111, \"#46039f\"], [0.2222222222222222, \"#7201a8\"], [0.3333333333333333, \"#9c179e\"], [0.4444444444444444, \"#bd3786\"], [0.5555555555555556, \"#d8576b\"], [0.6666666666666666, \"#ed7953\"], [0.7777777777777778, \"#fb9f3a\"], [0.8888888888888888, \"#fdca26\"], [1.0, \"#f0f921\"]], \"sequentialminus\": [[0.0, \"#0d0887\"], [0.1111111111111111, \"#46039f\"], [0.2222222222222222, \"#7201a8\"], [0.3333333333333333, \"#9c179e\"], [0.4444444444444444, \"#bd3786\"], [0.5555555555555556, \"#d8576b\"], [0.6666666666666666, \"#ed7953\"], [0.7777777777777778, \"#fb9f3a\"], [0.8888888888888888, \"#fdca26\"], [1.0, \"#f0f921\"]]}, \"colorway\": [\"#636efa\", \"#EF553B\", \"#00cc96\", \"#ab63fa\", \"#FFA15A\", \"#19d3f3\", \"#FF6692\", \"#B6E880\", \"#FF97FF\", \"#FECB52\"], \"font\": {\"color\": \"#2a3f5f\"}, \"geo\": {\"bgcolor\": \"white\", \"lakecolor\": \"white\", \"landcolor\": \"#E5ECF6\", \"showlakes\": true, \"showland\": true, \"subunitcolor\": \"white\"}, \"hoverlabel\": {\"align\": \"left\"}, \"hovermode\": \"closest\", \"mapbox\": {\"style\": \"light\"}, \"paper_bgcolor\": \"white\", \"plot_bgcolor\": \"#E5ECF6\", \"polar\": {\"angularaxis\": {\"gridcolor\": \"white\", \"linecolor\": \"white\", \"ticks\": \"\"}, \"bgcolor\": \"#E5ECF6\", \"radialaxis\": {\"gridcolor\": \"white\", \"linecolor\": \"white\", \"ticks\": \"\"}}, \"scene\": {\"xaxis\": {\"backgroundcolor\": \"#E5ECF6\", \"gridcolor\": \"white\", \"gridwidth\": 2, \"linecolor\": \"white\", \"showbackground\": true, \"ticks\": \"\", \"zerolinecolor\": \"white\"}, \"yaxis\": {\"backgroundcolor\": \"#E5ECF6\", \"gridcolor\": \"white\", \"gridwidth\": 2, \"linecolor\": \"white\", \"showbackground\": true, \"ticks\": \"\", \"zerolinecolor\": \"white\"}, \"zaxis\": {\"backgroundcolor\": \"#E5ECF6\", \"gridcolor\": \"white\", \"gridwidth\": 2, \"linecolor\": \"white\", \"showbackground\": true, \"ticks\": \"\", \"zerolinecolor\": \"white\"}}, \"shapedefaults\": {\"line\": {\"color\": \"#2a3f5f\"}}, \"ternary\": {\"aaxis\": {\"gridcolor\": \"white\", \"linecolor\": \"white\", \"ticks\": \"\"}, \"baxis\": {\"gridcolor\": \"white\", \"linecolor\": \"white\", \"ticks\": \"\"}, \"bgcolor\": \"#E5ECF6\", \"caxis\": {\"gridcolor\": \"white\", \"linecolor\": \"white\", \"ticks\": \"\"}}, \"title\": {\"x\": 0.05}, \"xaxis\": {\"automargin\": true, \"gridcolor\": \"white\", \"linecolor\": \"white\", \"ticks\": \"\", \"title\": {\"standoff\": 15}, \"zerolinecolor\": \"white\", \"zerolinewidth\": 2}, \"yaxis\": {\"automargin\": true, \"gridcolor\": \"white\", \"linecolor\": \"white\", \"ticks\": \"\", \"title\": {\"standoff\": 15}, \"zerolinecolor\": \"white\", \"zerolinewidth\": 2}}}, \"title\": {\"font\": {\"color\": \"Purple\", \"family\": \"Times New Roman\"}, \"text\": \"Annual Household Income By Races in California\"}},                        {\"responsive\": true}                    ).then(function(){\n",
       "                            \n",
       "var gd = document.getElementById('8e143d93-af8d-4ffd-aaca-15b22365b578');\n",
       "var x = new MutationObserver(function (mutations, observer) {{\n",
       "        var display = window.getComputedStyle(gd).display;\n",
       "        if (!display || display === 'none') {{\n",
       "            console.log([gd, 'removed!']);\n",
       "            Plotly.purge(gd);\n",
       "            observer.disconnect();\n",
       "        }}\n",
       "}});\n",
       "\n",
       "// Listen for the removal of the full notebook cells\n",
       "var notebookContainer = gd.closest('#notebook-container');\n",
       "if (notebookContainer) {{\n",
       "    x.observe(notebookContainer, {childList: true});\n",
       "}}\n",
       "\n",
       "// Listen for the clearing of the current output cell\n",
       "var outputEl = gd.closest('.output');\n",
       "if (outputEl) {{\n",
       "    x.observe(outputEl, {childList: true});\n",
       "}}\n",
       "\n",
       "                        })                };                });            </script>        </div>"
      ]
     },
     "metadata": {},
     "output_type": "display_data"
    }
   ],
   "source": [
    "import plotly.graph_objects as go\n",
    "\n",
    "fig = go.Figure(go.Bar(\n",
    "            x=income[\"Household Income by Race\"],\n",
    "            y=income[\"Race\"],\n",
    "            orientation='h'\n",
    "            ))\n",
    "fig.update_layout(\n",
    "    title=\"Annual Household Income By Races in California\",\n",
    "    font_family=\"Courier New\",\n",
    "    font_color=\"gray\",\n",
    "    title_font_family=\"Times New Roman\",\n",
    "    title_font_color=\"Purple\",\n",
    "    legend_title_font_color=\"green\"\n",
    ")\n",
    "fig.show()"
   ]
  },
  {
   "cell_type": "code",
   "execution_count": 29,
   "metadata": {},
   "outputs": [
    {
     "data": {
      "text/html": [
       "<div>\n",
       "<style scoped>\n",
       "    .dataframe tbody tr th:only-of-type {\n",
       "        vertical-align: middle;\n",
       "    }\n",
       "\n",
       "    .dataframe tbody tr th {\n",
       "        vertical-align: top;\n",
       "    }\n",
       "\n",
       "    .dataframe thead th {\n",
       "        text-align: right;\n",
       "    }\n",
       "</style>\n",
       "<table border=\"1\" class=\"dataframe\">\n",
       "  <thead>\n",
       "    <tr style=\"text-align: right;\">\n",
       "      <th></th>\n",
       "      <th>Geography</th>\n",
       "      <th>Household Income by Race</th>\n",
       "    </tr>\n",
       "  </thead>\n",
       "  <tbody>\n",
       "    <tr>\n",
       "      <th>0</th>\n",
       "      <td>Alameda County, CA</td>\n",
       "      <td>79351.766667</td>\n",
       "    </tr>\n",
       "    <tr>\n",
       "      <th>1</th>\n",
       "      <td>Butte County, CA</td>\n",
       "      <td>43592.000000</td>\n",
       "    </tr>\n",
       "    <tr>\n",
       "      <th>2</th>\n",
       "      <td>Contra Costa County, CA</td>\n",
       "      <td>79850.800000</td>\n",
       "    </tr>\n",
       "    <tr>\n",
       "      <th>3</th>\n",
       "      <td>El Dorado County, CA</td>\n",
       "      <td>80747.906977</td>\n",
       "    </tr>\n",
       "    <tr>\n",
       "      <th>4</th>\n",
       "      <td>Fresno County, CA</td>\n",
       "      <td>45148.241379</td>\n",
       "    </tr>\n",
       "    <tr>\n",
       "      <th>5</th>\n",
       "      <td>Humboldt County, CA</td>\n",
       "      <td>40723.938776</td>\n",
       "    </tr>\n",
       "    <tr>\n",
       "      <th>6</th>\n",
       "      <td>Imperial County, CA</td>\n",
       "      <td>52185.531915</td>\n",
       "    </tr>\n",
       "    <tr>\n",
       "      <th>7</th>\n",
       "      <td>Kern County, CA</td>\n",
       "      <td>49986.678571</td>\n",
       "    </tr>\n",
       "    <tr>\n",
       "      <th>8</th>\n",
       "      <td>Kings County, CA</td>\n",
       "      <td>53960.339623</td>\n",
       "    </tr>\n",
       "    <tr>\n",
       "      <th>9</th>\n",
       "      <td>Lake County, CA</td>\n",
       "      <td>38598.488372</td>\n",
       "    </tr>\n",
       "    <tr>\n",
       "      <th>10</th>\n",
       "      <td>Los Angeles County, CA</td>\n",
       "      <td>60377.250000</td>\n",
       "    </tr>\n",
       "    <tr>\n",
       "      <th>11</th>\n",
       "      <td>Madera County, CA</td>\n",
       "      <td>51976.468085</td>\n",
       "    </tr>\n",
       "    <tr>\n",
       "      <th>12</th>\n",
       "      <td>Marin County, CA</td>\n",
       "      <td>89630.740000</td>\n",
       "    </tr>\n",
       "    <tr>\n",
       "      <th>13</th>\n",
       "      <td>Mendocino County, CA</td>\n",
       "      <td>44617.250000</td>\n",
       "    </tr>\n",
       "    <tr>\n",
       "      <th>14</th>\n",
       "      <td>Merced County, CA</td>\n",
       "      <td>44971.460000</td>\n",
       "    </tr>\n",
       "    <tr>\n",
       "      <th>15</th>\n",
       "      <td>Monterey County, CA</td>\n",
       "      <td>66421.964286</td>\n",
       "    </tr>\n",
       "    <tr>\n",
       "      <th>16</th>\n",
       "      <td>Napa County, CA</td>\n",
       "      <td>76758.122449</td>\n",
       "    </tr>\n",
       "    <tr>\n",
       "      <th>17</th>\n",
       "      <td>Nevada County, CA</td>\n",
       "      <td>60881.125000</td>\n",
       "    </tr>\n",
       "    <tr>\n",
       "      <th>18</th>\n",
       "      <td>Orange County, CA</td>\n",
       "      <td>75924.083333</td>\n",
       "    </tr>\n",
       "    <tr>\n",
       "      <th>19</th>\n",
       "      <td>Placer County, CA</td>\n",
       "      <td>77391.727273</td>\n",
       "    </tr>\n",
       "    <tr>\n",
       "      <th>20</th>\n",
       "      <td>Riverside County, CA</td>\n",
       "      <td>60530.050847</td>\n",
       "    </tr>\n",
       "    <tr>\n",
       "      <th>21</th>\n",
       "      <td>Sacramento County, CA</td>\n",
       "      <td>55667.083333</td>\n",
       "    </tr>\n",
       "    <tr>\n",
       "      <th>22</th>\n",
       "      <td>San Bernardino County, CA</td>\n",
       "      <td>55941.403509</td>\n",
       "    </tr>\n",
       "    <tr>\n",
       "      <th>23</th>\n",
       "      <td>San Diego County, CA</td>\n",
       "      <td>64905.633333</td>\n",
       "    </tr>\n",
       "    <tr>\n",
       "      <th>24</th>\n",
       "      <td>San Francisco County, CA</td>\n",
       "      <td>83884.178571</td>\n",
       "    </tr>\n",
       "    <tr>\n",
       "      <th>25</th>\n",
       "      <td>San Joaquin County, CA</td>\n",
       "      <td>55513.779661</td>\n",
       "    </tr>\n",
       "    <tr>\n",
       "      <th>26</th>\n",
       "      <td>San Luis Obispo County, CA</td>\n",
       "      <td>63684.215686</td>\n",
       "    </tr>\n",
       "    <tr>\n",
       "      <th>27</th>\n",
       "      <td>San Mateo County, CA</td>\n",
       "      <td>93119.000000</td>\n",
       "    </tr>\n",
       "    <tr>\n",
       "      <th>28</th>\n",
       "      <td>Santa Barbara County, CA</td>\n",
       "      <td>62879.660377</td>\n",
       "    </tr>\n",
       "    <tr>\n",
       "      <th>29</th>\n",
       "      <td>Santa Clara County, CA</td>\n",
       "      <td>91185.516667</td>\n",
       "    </tr>\n",
       "    <tr>\n",
       "      <th>30</th>\n",
       "      <td>Santa Cruz County, CA</td>\n",
       "      <td>67896.375000</td>\n",
       "    </tr>\n",
       "    <tr>\n",
       "      <th>31</th>\n",
       "      <td>Shasta County, CA</td>\n",
       "      <td>46581.693878</td>\n",
       "    </tr>\n",
       "    <tr>\n",
       "      <th>32</th>\n",
       "      <td>Solano County, CA</td>\n",
       "      <td>71227.155172</td>\n",
       "    </tr>\n",
       "    <tr>\n",
       "      <th>33</th>\n",
       "      <td>Sonoma County, CA</td>\n",
       "      <td>69496.275862</td>\n",
       "    </tr>\n",
       "    <tr>\n",
       "      <th>34</th>\n",
       "      <td>Stanislaus County, CA</td>\n",
       "      <td>52308.517857</td>\n",
       "    </tr>\n",
       "    <tr>\n",
       "      <th>35</th>\n",
       "      <td>Sutter County, CA</td>\n",
       "      <td>56026.358491</td>\n",
       "    </tr>\n",
       "    <tr>\n",
       "      <th>36</th>\n",
       "      <td>Tulare County, CA</td>\n",
       "      <td>45619.905660</td>\n",
       "    </tr>\n",
       "    <tr>\n",
       "      <th>37</th>\n",
       "      <td>Ventura County, CA</td>\n",
       "      <td>81578.454545</td>\n",
       "    </tr>\n",
       "    <tr>\n",
       "      <th>38</th>\n",
       "      <td>Yolo County, CA</td>\n",
       "      <td>56517.358491</td>\n",
       "    </tr>\n",
       "    <tr>\n",
       "      <th>39</th>\n",
       "      <td>Yuba County, CA</td>\n",
       "      <td>51726.173913</td>\n",
       "    </tr>\n",
       "  </tbody>\n",
       "</table>\n",
       "</div>"
      ],
      "text/plain": [
       "                     Geography  Household Income by Race\n",
       "0           Alameda County, CA              79351.766667\n",
       "1             Butte County, CA              43592.000000\n",
       "2      Contra Costa County, CA              79850.800000\n",
       "3         El Dorado County, CA              80747.906977\n",
       "4            Fresno County, CA              45148.241379\n",
       "5          Humboldt County, CA              40723.938776\n",
       "6          Imperial County, CA              52185.531915\n",
       "7              Kern County, CA              49986.678571\n",
       "8             Kings County, CA              53960.339623\n",
       "9              Lake County, CA              38598.488372\n",
       "10      Los Angeles County, CA              60377.250000\n",
       "11           Madera County, CA              51976.468085\n",
       "12            Marin County, CA              89630.740000\n",
       "13        Mendocino County, CA              44617.250000\n",
       "14           Merced County, CA              44971.460000\n",
       "15         Monterey County, CA              66421.964286\n",
       "16             Napa County, CA              76758.122449\n",
       "17           Nevada County, CA              60881.125000\n",
       "18           Orange County, CA              75924.083333\n",
       "19           Placer County, CA              77391.727273\n",
       "20        Riverside County, CA              60530.050847\n",
       "21       Sacramento County, CA              55667.083333\n",
       "22   San Bernardino County, CA              55941.403509\n",
       "23        San Diego County, CA              64905.633333\n",
       "24    San Francisco County, CA              83884.178571\n",
       "25      San Joaquin County, CA              55513.779661\n",
       "26  San Luis Obispo County, CA              63684.215686\n",
       "27        San Mateo County, CA              93119.000000\n",
       "28    Santa Barbara County, CA              62879.660377\n",
       "29      Santa Clara County, CA              91185.516667\n",
       "30       Santa Cruz County, CA              67896.375000\n",
       "31           Shasta County, CA              46581.693878\n",
       "32           Solano County, CA              71227.155172\n",
       "33           Sonoma County, CA              69496.275862\n",
       "34       Stanislaus County, CA              52308.517857\n",
       "35           Sutter County, CA              56026.358491\n",
       "36           Tulare County, CA              45619.905660\n",
       "37          Ventura County, CA              81578.454545\n",
       "38             Yolo County, CA              56517.358491\n",
       "39             Yuba County, CA              51726.173913"
      ]
     },
     "execution_count": 29,
     "metadata": {},
     "output_type": "execute_result"
    }
   ],
   "source": [
    "loca = eth.groupby([\"Geography\"])[\"Household Income by Race\"].mean()\n",
    "loca = loca.to_frame().reset_index()\n",
    "loca"
   ]
  },
  {
   "cell_type": "code",
   "execution_count": 30,
   "metadata": {},
   "outputs": [
    {
     "data": {
      "application/vnd.plotly.v1+json": {
       "config": {
        "plotlyServerURL": "https://plot.ly"
       },
       "data": [
        {
         "orientation": "h",
         "type": "bar",
         "x": [
          79351.76666666666,
          43592,
          79850.8,
          80747.90697674418,
          45148.24137931035,
          40723.93877551021,
          52185.53191489362,
          49986.67857142857,
          53960.339622641506,
          38598.48837209302,
          60377.25,
          51976.46808510638,
          89630.74,
          44617.25,
          44971.46,
          66421.96428571429,
          76758.12244897959,
          60881.125,
          75924.08333333333,
          77391.72727272728,
          60530.05084745763,
          55667.083333333336,
          55941.40350877193,
          64905.63333333333,
          83884.17857142857,
          55513.779661016946,
          63684.21568627451,
          93119,
          62879.660377358494,
          91185.51666666666,
          67896.375,
          46581.69387755102,
          71227.1551724138,
          69496.27586206897,
          52308.517857142855,
          56026.35849056604,
          45619.90566037736,
          81578.45454545454,
          56517.35849056604,
          51726.17391304348
         ],
         "y": [
          "Alameda County, CA",
          "Butte County, CA",
          "Contra Costa County, CA",
          "El Dorado County, CA",
          "Fresno County, CA",
          "Humboldt County, CA",
          "Imperial County, CA",
          "Kern County, CA",
          "Kings County, CA",
          "Lake County, CA",
          "Los Angeles County, CA",
          "Madera County, CA",
          "Marin County, CA",
          "Mendocino County, CA",
          "Merced County, CA",
          "Monterey County, CA",
          "Napa County, CA",
          "Nevada County, CA",
          "Orange County, CA",
          "Placer County, CA",
          "Riverside County, CA",
          "Sacramento County, CA",
          "San Bernardino County, CA",
          "San Diego County, CA",
          "San Francisco County, CA",
          "San Joaquin County, CA",
          "San Luis Obispo County, CA",
          "San Mateo County, CA",
          "Santa Barbara County, CA",
          "Santa Clara County, CA",
          "Santa Cruz County, CA",
          "Shasta County, CA",
          "Solano County, CA",
          "Sonoma County, CA",
          "Stanislaus County, CA",
          "Sutter County, CA",
          "Tulare County, CA",
          "Ventura County, CA",
          "Yolo County, CA",
          "Yuba County, CA"
         ]
        }
       ],
       "layout": {
        "font": {
         "color": "gray",
         "family": "Courier New"
        },
        "legend": {
         "title": {
          "font": {
           "color": "green"
          }
         }
        },
        "template": {
         "data": {
          "bar": [
           {
            "error_x": {
             "color": "#2a3f5f"
            },
            "error_y": {
             "color": "#2a3f5f"
            },
            "marker": {
             "line": {
              "color": "#E5ECF6",
              "width": 0.5
             }
            },
            "type": "bar"
           }
          ],
          "barpolar": [
           {
            "marker": {
             "line": {
              "color": "#E5ECF6",
              "width": 0.5
             }
            },
            "type": "barpolar"
           }
          ],
          "carpet": [
           {
            "aaxis": {
             "endlinecolor": "#2a3f5f",
             "gridcolor": "white",
             "linecolor": "white",
             "minorgridcolor": "white",
             "startlinecolor": "#2a3f5f"
            },
            "baxis": {
             "endlinecolor": "#2a3f5f",
             "gridcolor": "white",
             "linecolor": "white",
             "minorgridcolor": "white",
             "startlinecolor": "#2a3f5f"
            },
            "type": "carpet"
           }
          ],
          "choropleth": [
           {
            "colorbar": {
             "outlinewidth": 0,
             "ticks": ""
            },
            "type": "choropleth"
           }
          ],
          "contour": [
           {
            "colorbar": {
             "outlinewidth": 0,
             "ticks": ""
            },
            "colorscale": [
             [
              0,
              "#0d0887"
             ],
             [
              0.1111111111111111,
              "#46039f"
             ],
             [
              0.2222222222222222,
              "#7201a8"
             ],
             [
              0.3333333333333333,
              "#9c179e"
             ],
             [
              0.4444444444444444,
              "#bd3786"
             ],
             [
              0.5555555555555556,
              "#d8576b"
             ],
             [
              0.6666666666666666,
              "#ed7953"
             ],
             [
              0.7777777777777778,
              "#fb9f3a"
             ],
             [
              0.8888888888888888,
              "#fdca26"
             ],
             [
              1,
              "#f0f921"
             ]
            ],
            "type": "contour"
           }
          ],
          "contourcarpet": [
           {
            "colorbar": {
             "outlinewidth": 0,
             "ticks": ""
            },
            "type": "contourcarpet"
           }
          ],
          "heatmap": [
           {
            "colorbar": {
             "outlinewidth": 0,
             "ticks": ""
            },
            "colorscale": [
             [
              0,
              "#0d0887"
             ],
             [
              0.1111111111111111,
              "#46039f"
             ],
             [
              0.2222222222222222,
              "#7201a8"
             ],
             [
              0.3333333333333333,
              "#9c179e"
             ],
             [
              0.4444444444444444,
              "#bd3786"
             ],
             [
              0.5555555555555556,
              "#d8576b"
             ],
             [
              0.6666666666666666,
              "#ed7953"
             ],
             [
              0.7777777777777778,
              "#fb9f3a"
             ],
             [
              0.8888888888888888,
              "#fdca26"
             ],
             [
              1,
              "#f0f921"
             ]
            ],
            "type": "heatmap"
           }
          ],
          "heatmapgl": [
           {
            "colorbar": {
             "outlinewidth": 0,
             "ticks": ""
            },
            "colorscale": [
             [
              0,
              "#0d0887"
             ],
             [
              0.1111111111111111,
              "#46039f"
             ],
             [
              0.2222222222222222,
              "#7201a8"
             ],
             [
              0.3333333333333333,
              "#9c179e"
             ],
             [
              0.4444444444444444,
              "#bd3786"
             ],
             [
              0.5555555555555556,
              "#d8576b"
             ],
             [
              0.6666666666666666,
              "#ed7953"
             ],
             [
              0.7777777777777778,
              "#fb9f3a"
             ],
             [
              0.8888888888888888,
              "#fdca26"
             ],
             [
              1,
              "#f0f921"
             ]
            ],
            "type": "heatmapgl"
           }
          ],
          "histogram": [
           {
            "marker": {
             "colorbar": {
              "outlinewidth": 0,
              "ticks": ""
             }
            },
            "type": "histogram"
           }
          ],
          "histogram2d": [
           {
            "colorbar": {
             "outlinewidth": 0,
             "ticks": ""
            },
            "colorscale": [
             [
              0,
              "#0d0887"
             ],
             [
              0.1111111111111111,
              "#46039f"
             ],
             [
              0.2222222222222222,
              "#7201a8"
             ],
             [
              0.3333333333333333,
              "#9c179e"
             ],
             [
              0.4444444444444444,
              "#bd3786"
             ],
             [
              0.5555555555555556,
              "#d8576b"
             ],
             [
              0.6666666666666666,
              "#ed7953"
             ],
             [
              0.7777777777777778,
              "#fb9f3a"
             ],
             [
              0.8888888888888888,
              "#fdca26"
             ],
             [
              1,
              "#f0f921"
             ]
            ],
            "type": "histogram2d"
           }
          ],
          "histogram2dcontour": [
           {
            "colorbar": {
             "outlinewidth": 0,
             "ticks": ""
            },
            "colorscale": [
             [
              0,
              "#0d0887"
             ],
             [
              0.1111111111111111,
              "#46039f"
             ],
             [
              0.2222222222222222,
              "#7201a8"
             ],
             [
              0.3333333333333333,
              "#9c179e"
             ],
             [
              0.4444444444444444,
              "#bd3786"
             ],
             [
              0.5555555555555556,
              "#d8576b"
             ],
             [
              0.6666666666666666,
              "#ed7953"
             ],
             [
              0.7777777777777778,
              "#fb9f3a"
             ],
             [
              0.8888888888888888,
              "#fdca26"
             ],
             [
              1,
              "#f0f921"
             ]
            ],
            "type": "histogram2dcontour"
           }
          ],
          "mesh3d": [
           {
            "colorbar": {
             "outlinewidth": 0,
             "ticks": ""
            },
            "type": "mesh3d"
           }
          ],
          "parcoords": [
           {
            "line": {
             "colorbar": {
              "outlinewidth": 0,
              "ticks": ""
             }
            },
            "type": "parcoords"
           }
          ],
          "pie": [
           {
            "automargin": true,
            "type": "pie"
           }
          ],
          "scatter": [
           {
            "marker": {
             "colorbar": {
              "outlinewidth": 0,
              "ticks": ""
             }
            },
            "type": "scatter"
           }
          ],
          "scatter3d": [
           {
            "line": {
             "colorbar": {
              "outlinewidth": 0,
              "ticks": ""
             }
            },
            "marker": {
             "colorbar": {
              "outlinewidth": 0,
              "ticks": ""
             }
            },
            "type": "scatter3d"
           }
          ],
          "scattercarpet": [
           {
            "marker": {
             "colorbar": {
              "outlinewidth": 0,
              "ticks": ""
             }
            },
            "type": "scattercarpet"
           }
          ],
          "scattergeo": [
           {
            "marker": {
             "colorbar": {
              "outlinewidth": 0,
              "ticks": ""
             }
            },
            "type": "scattergeo"
           }
          ],
          "scattergl": [
           {
            "marker": {
             "colorbar": {
              "outlinewidth": 0,
              "ticks": ""
             }
            },
            "type": "scattergl"
           }
          ],
          "scattermapbox": [
           {
            "marker": {
             "colorbar": {
              "outlinewidth": 0,
              "ticks": ""
             }
            },
            "type": "scattermapbox"
           }
          ],
          "scatterpolar": [
           {
            "marker": {
             "colorbar": {
              "outlinewidth": 0,
              "ticks": ""
             }
            },
            "type": "scatterpolar"
           }
          ],
          "scatterpolargl": [
           {
            "marker": {
             "colorbar": {
              "outlinewidth": 0,
              "ticks": ""
             }
            },
            "type": "scatterpolargl"
           }
          ],
          "scatterternary": [
           {
            "marker": {
             "colorbar": {
              "outlinewidth": 0,
              "ticks": ""
             }
            },
            "type": "scatterternary"
           }
          ],
          "surface": [
           {
            "colorbar": {
             "outlinewidth": 0,
             "ticks": ""
            },
            "colorscale": [
             [
              0,
              "#0d0887"
             ],
             [
              0.1111111111111111,
              "#46039f"
             ],
             [
              0.2222222222222222,
              "#7201a8"
             ],
             [
              0.3333333333333333,
              "#9c179e"
             ],
             [
              0.4444444444444444,
              "#bd3786"
             ],
             [
              0.5555555555555556,
              "#d8576b"
             ],
             [
              0.6666666666666666,
              "#ed7953"
             ],
             [
              0.7777777777777778,
              "#fb9f3a"
             ],
             [
              0.8888888888888888,
              "#fdca26"
             ],
             [
              1,
              "#f0f921"
             ]
            ],
            "type": "surface"
           }
          ],
          "table": [
           {
            "cells": {
             "fill": {
              "color": "#EBF0F8"
             },
             "line": {
              "color": "white"
             }
            },
            "header": {
             "fill": {
              "color": "#C8D4E3"
             },
             "line": {
              "color": "white"
             }
            },
            "type": "table"
           }
          ]
         },
         "layout": {
          "annotationdefaults": {
           "arrowcolor": "#2a3f5f",
           "arrowhead": 0,
           "arrowwidth": 1
          },
          "autotypenumbers": "strict",
          "coloraxis": {
           "colorbar": {
            "outlinewidth": 0,
            "ticks": ""
           }
          },
          "colorscale": {
           "diverging": [
            [
             0,
             "#8e0152"
            ],
            [
             0.1,
             "#c51b7d"
            ],
            [
             0.2,
             "#de77ae"
            ],
            [
             0.3,
             "#f1b6da"
            ],
            [
             0.4,
             "#fde0ef"
            ],
            [
             0.5,
             "#f7f7f7"
            ],
            [
             0.6,
             "#e6f5d0"
            ],
            [
             0.7,
             "#b8e186"
            ],
            [
             0.8,
             "#7fbc41"
            ],
            [
             0.9,
             "#4d9221"
            ],
            [
             1,
             "#276419"
            ]
           ],
           "sequential": [
            [
             0,
             "#0d0887"
            ],
            [
             0.1111111111111111,
             "#46039f"
            ],
            [
             0.2222222222222222,
             "#7201a8"
            ],
            [
             0.3333333333333333,
             "#9c179e"
            ],
            [
             0.4444444444444444,
             "#bd3786"
            ],
            [
             0.5555555555555556,
             "#d8576b"
            ],
            [
             0.6666666666666666,
             "#ed7953"
            ],
            [
             0.7777777777777778,
             "#fb9f3a"
            ],
            [
             0.8888888888888888,
             "#fdca26"
            ],
            [
             1,
             "#f0f921"
            ]
           ],
           "sequentialminus": [
            [
             0,
             "#0d0887"
            ],
            [
             0.1111111111111111,
             "#46039f"
            ],
            [
             0.2222222222222222,
             "#7201a8"
            ],
            [
             0.3333333333333333,
             "#9c179e"
            ],
            [
             0.4444444444444444,
             "#bd3786"
            ],
            [
             0.5555555555555556,
             "#d8576b"
            ],
            [
             0.6666666666666666,
             "#ed7953"
            ],
            [
             0.7777777777777778,
             "#fb9f3a"
            ],
            [
             0.8888888888888888,
             "#fdca26"
            ],
            [
             1,
             "#f0f921"
            ]
           ]
          },
          "colorway": [
           "#636efa",
           "#EF553B",
           "#00cc96",
           "#ab63fa",
           "#FFA15A",
           "#19d3f3",
           "#FF6692",
           "#B6E880",
           "#FF97FF",
           "#FECB52"
          ],
          "font": {
           "color": "#2a3f5f"
          },
          "geo": {
           "bgcolor": "white",
           "lakecolor": "white",
           "landcolor": "#E5ECF6",
           "showlakes": true,
           "showland": true,
           "subunitcolor": "white"
          },
          "hoverlabel": {
           "align": "left"
          },
          "hovermode": "closest",
          "mapbox": {
           "style": "light"
          },
          "paper_bgcolor": "white",
          "plot_bgcolor": "#E5ECF6",
          "polar": {
           "angularaxis": {
            "gridcolor": "white",
            "linecolor": "white",
            "ticks": ""
           },
           "bgcolor": "#E5ECF6",
           "radialaxis": {
            "gridcolor": "white",
            "linecolor": "white",
            "ticks": ""
           }
          },
          "scene": {
           "xaxis": {
            "backgroundcolor": "#E5ECF6",
            "gridcolor": "white",
            "gridwidth": 2,
            "linecolor": "white",
            "showbackground": true,
            "ticks": "",
            "zerolinecolor": "white"
           },
           "yaxis": {
            "backgroundcolor": "#E5ECF6",
            "gridcolor": "white",
            "gridwidth": 2,
            "linecolor": "white",
            "showbackground": true,
            "ticks": "",
            "zerolinecolor": "white"
           },
           "zaxis": {
            "backgroundcolor": "#E5ECF6",
            "gridcolor": "white",
            "gridwidth": 2,
            "linecolor": "white",
            "showbackground": true,
            "ticks": "",
            "zerolinecolor": "white"
           }
          },
          "shapedefaults": {
           "line": {
            "color": "#2a3f5f"
           }
          },
          "ternary": {
           "aaxis": {
            "gridcolor": "white",
            "linecolor": "white",
            "ticks": ""
           },
           "baxis": {
            "gridcolor": "white",
            "linecolor": "white",
            "ticks": ""
           },
           "bgcolor": "#E5ECF6",
           "caxis": {
            "gridcolor": "white",
            "linecolor": "white",
            "ticks": ""
           }
          },
          "title": {
           "x": 0.05
          },
          "xaxis": {
           "automargin": true,
           "gridcolor": "white",
           "linecolor": "white",
           "ticks": "",
           "title": {
            "standoff": 15
           },
           "zerolinecolor": "white",
           "zerolinewidth": 2
          },
          "yaxis": {
           "automargin": true,
           "gridcolor": "white",
           "linecolor": "white",
           "ticks": "",
           "title": {
            "standoff": 15
           },
           "zerolinecolor": "white",
           "zerolinewidth": 2
          }
         }
        },
        "title": {
         "font": {
          "color": "Purple",
          "family": "Times New Roman"
         },
         "text": "Annual Household Income Mean By Locations in California"
        }
       }
      },
      "text/html": [
       "<div>                            <div id=\"f6a8b040-5df3-4e57-bfb6-aba0423ba267\" class=\"plotly-graph-div\" style=\"height:525px; width:100%;\"></div>            <script type=\"text/javascript\">                require([\"plotly\"], function(Plotly) {                    window.PLOTLYENV=window.PLOTLYENV || {};                                    if (document.getElementById(\"f6a8b040-5df3-4e57-bfb6-aba0423ba267\")) {                    Plotly.newPlot(                        \"f6a8b040-5df3-4e57-bfb6-aba0423ba267\",                        [{\"orientation\": \"h\", \"type\": \"bar\", \"x\": [79351.76666666666, 43592.0, 79850.8, 80747.90697674418, 45148.24137931035, 40723.93877551021, 52185.53191489362, 49986.67857142857, 53960.339622641506, 38598.48837209302, 60377.25, 51976.46808510638, 89630.74, 44617.25, 44971.46, 66421.96428571429, 76758.12244897959, 60881.125, 75924.08333333333, 77391.72727272728, 60530.05084745763, 55667.083333333336, 55941.40350877193, 64905.63333333333, 83884.17857142857, 55513.779661016946, 63684.21568627451, 93119.0, 62879.660377358494, 91185.51666666666, 67896.375, 46581.69387755102, 71227.1551724138, 69496.27586206897, 52308.517857142855, 56026.35849056604, 45619.90566037736, 81578.45454545454, 56517.35849056604, 51726.17391304348], \"y\": [\"Alameda County, CA\", \"Butte County, CA\", \"Contra Costa County, CA\", \"El Dorado County, CA\", \"Fresno County, CA\", \"Humboldt County, CA\", \"Imperial County, CA\", \"Kern County, CA\", \"Kings County, CA\", \"Lake County, CA\", \"Los Angeles County, CA\", \"Madera County, CA\", \"Marin County, CA\", \"Mendocino County, CA\", \"Merced County, CA\", \"Monterey County, CA\", \"Napa County, CA\", \"Nevada County, CA\", \"Orange County, CA\", \"Placer County, CA\", \"Riverside County, CA\", \"Sacramento County, CA\", \"San Bernardino County, CA\", \"San Diego County, CA\", \"San Francisco County, CA\", \"San Joaquin County, CA\", \"San Luis Obispo County, CA\", \"San Mateo County, CA\", \"Santa Barbara County, CA\", \"Santa Clara County, CA\", \"Santa Cruz County, CA\", \"Shasta County, CA\", \"Solano County, CA\", \"Sonoma County, CA\", \"Stanislaus County, CA\", \"Sutter County, CA\", \"Tulare County, CA\", \"Ventura County, CA\", \"Yolo County, CA\", \"Yuba County, CA\"]}],                        {\"font\": {\"color\": \"gray\", \"family\": \"Courier New\"}, \"legend\": {\"title\": {\"font\": {\"color\": \"green\"}}}, \"template\": {\"data\": {\"bar\": [{\"error_x\": {\"color\": \"#2a3f5f\"}, \"error_y\": {\"color\": \"#2a3f5f\"}, \"marker\": {\"line\": {\"color\": \"#E5ECF6\", \"width\": 0.5}}, \"type\": \"bar\"}], \"barpolar\": [{\"marker\": {\"line\": {\"color\": \"#E5ECF6\", \"width\": 0.5}}, \"type\": \"barpolar\"}], \"carpet\": [{\"aaxis\": {\"endlinecolor\": \"#2a3f5f\", \"gridcolor\": \"white\", \"linecolor\": \"white\", \"minorgridcolor\": \"white\", \"startlinecolor\": \"#2a3f5f\"}, \"baxis\": {\"endlinecolor\": \"#2a3f5f\", \"gridcolor\": \"white\", \"linecolor\": \"white\", \"minorgridcolor\": \"white\", \"startlinecolor\": \"#2a3f5f\"}, \"type\": \"carpet\"}], \"choropleth\": [{\"colorbar\": {\"outlinewidth\": 0, \"ticks\": \"\"}, \"type\": \"choropleth\"}], \"contour\": [{\"colorbar\": {\"outlinewidth\": 0, \"ticks\": \"\"}, \"colorscale\": [[0.0, \"#0d0887\"], [0.1111111111111111, \"#46039f\"], [0.2222222222222222, \"#7201a8\"], [0.3333333333333333, \"#9c179e\"], [0.4444444444444444, \"#bd3786\"], [0.5555555555555556, \"#d8576b\"], [0.6666666666666666, \"#ed7953\"], [0.7777777777777778, \"#fb9f3a\"], [0.8888888888888888, \"#fdca26\"], [1.0, \"#f0f921\"]], \"type\": \"contour\"}], \"contourcarpet\": [{\"colorbar\": {\"outlinewidth\": 0, \"ticks\": \"\"}, \"type\": \"contourcarpet\"}], \"heatmap\": [{\"colorbar\": {\"outlinewidth\": 0, \"ticks\": \"\"}, \"colorscale\": [[0.0, \"#0d0887\"], [0.1111111111111111, \"#46039f\"], [0.2222222222222222, \"#7201a8\"], [0.3333333333333333, \"#9c179e\"], [0.4444444444444444, \"#bd3786\"], [0.5555555555555556, \"#d8576b\"], [0.6666666666666666, \"#ed7953\"], [0.7777777777777778, \"#fb9f3a\"], [0.8888888888888888, \"#fdca26\"], [1.0, \"#f0f921\"]], \"type\": \"heatmap\"}], \"heatmapgl\": [{\"colorbar\": {\"outlinewidth\": 0, \"ticks\": \"\"}, \"colorscale\": [[0.0, \"#0d0887\"], [0.1111111111111111, \"#46039f\"], [0.2222222222222222, \"#7201a8\"], [0.3333333333333333, \"#9c179e\"], [0.4444444444444444, \"#bd3786\"], [0.5555555555555556, \"#d8576b\"], [0.6666666666666666, \"#ed7953\"], [0.7777777777777778, \"#fb9f3a\"], [0.8888888888888888, \"#fdca26\"], [1.0, \"#f0f921\"]], \"type\": \"heatmapgl\"}], \"histogram\": [{\"marker\": {\"colorbar\": {\"outlinewidth\": 0, \"ticks\": \"\"}}, \"type\": \"histogram\"}], \"histogram2d\": [{\"colorbar\": {\"outlinewidth\": 0, \"ticks\": \"\"}, \"colorscale\": [[0.0, \"#0d0887\"], [0.1111111111111111, \"#46039f\"], [0.2222222222222222, \"#7201a8\"], [0.3333333333333333, \"#9c179e\"], [0.4444444444444444, \"#bd3786\"], [0.5555555555555556, \"#d8576b\"], [0.6666666666666666, \"#ed7953\"], [0.7777777777777778, \"#fb9f3a\"], [0.8888888888888888, \"#fdca26\"], [1.0, \"#f0f921\"]], \"type\": \"histogram2d\"}], \"histogram2dcontour\": [{\"colorbar\": {\"outlinewidth\": 0, \"ticks\": \"\"}, \"colorscale\": [[0.0, \"#0d0887\"], [0.1111111111111111, \"#46039f\"], [0.2222222222222222, \"#7201a8\"], [0.3333333333333333, \"#9c179e\"], [0.4444444444444444, \"#bd3786\"], [0.5555555555555556, \"#d8576b\"], [0.6666666666666666, \"#ed7953\"], [0.7777777777777778, \"#fb9f3a\"], [0.8888888888888888, \"#fdca26\"], [1.0, \"#f0f921\"]], \"type\": \"histogram2dcontour\"}], \"mesh3d\": [{\"colorbar\": {\"outlinewidth\": 0, \"ticks\": \"\"}, \"type\": \"mesh3d\"}], \"parcoords\": [{\"line\": {\"colorbar\": {\"outlinewidth\": 0, \"ticks\": \"\"}}, \"type\": \"parcoords\"}], \"pie\": [{\"automargin\": true, \"type\": \"pie\"}], \"scatter\": [{\"marker\": {\"colorbar\": {\"outlinewidth\": 0, \"ticks\": \"\"}}, \"type\": \"scatter\"}], \"scatter3d\": [{\"line\": {\"colorbar\": {\"outlinewidth\": 0, \"ticks\": \"\"}}, \"marker\": {\"colorbar\": {\"outlinewidth\": 0, \"ticks\": \"\"}}, \"type\": \"scatter3d\"}], \"scattercarpet\": [{\"marker\": {\"colorbar\": {\"outlinewidth\": 0, \"ticks\": \"\"}}, \"type\": \"scattercarpet\"}], \"scattergeo\": [{\"marker\": {\"colorbar\": {\"outlinewidth\": 0, \"ticks\": \"\"}}, \"type\": \"scattergeo\"}], \"scattergl\": [{\"marker\": {\"colorbar\": {\"outlinewidth\": 0, \"ticks\": \"\"}}, \"type\": \"scattergl\"}], \"scattermapbox\": [{\"marker\": {\"colorbar\": {\"outlinewidth\": 0, \"ticks\": \"\"}}, \"type\": \"scattermapbox\"}], \"scatterpolar\": [{\"marker\": {\"colorbar\": {\"outlinewidth\": 0, \"ticks\": \"\"}}, \"type\": \"scatterpolar\"}], \"scatterpolargl\": [{\"marker\": {\"colorbar\": {\"outlinewidth\": 0, \"ticks\": \"\"}}, \"type\": \"scatterpolargl\"}], \"scatterternary\": [{\"marker\": {\"colorbar\": {\"outlinewidth\": 0, \"ticks\": \"\"}}, \"type\": \"scatterternary\"}], \"surface\": [{\"colorbar\": {\"outlinewidth\": 0, \"ticks\": \"\"}, \"colorscale\": [[0.0, \"#0d0887\"], [0.1111111111111111, \"#46039f\"], [0.2222222222222222, \"#7201a8\"], [0.3333333333333333, \"#9c179e\"], [0.4444444444444444, \"#bd3786\"], [0.5555555555555556, \"#d8576b\"], [0.6666666666666666, \"#ed7953\"], [0.7777777777777778, \"#fb9f3a\"], [0.8888888888888888, \"#fdca26\"], [1.0, \"#f0f921\"]], \"type\": \"surface\"}], \"table\": [{\"cells\": {\"fill\": {\"color\": \"#EBF0F8\"}, \"line\": {\"color\": \"white\"}}, \"header\": {\"fill\": {\"color\": \"#C8D4E3\"}, \"line\": {\"color\": \"white\"}}, \"type\": \"table\"}]}, \"layout\": {\"annotationdefaults\": {\"arrowcolor\": \"#2a3f5f\", \"arrowhead\": 0, \"arrowwidth\": 1}, \"autotypenumbers\": \"strict\", \"coloraxis\": {\"colorbar\": {\"outlinewidth\": 0, \"ticks\": \"\"}}, \"colorscale\": {\"diverging\": [[0, \"#8e0152\"], [0.1, \"#c51b7d\"], [0.2, \"#de77ae\"], [0.3, \"#f1b6da\"], [0.4, \"#fde0ef\"], [0.5, \"#f7f7f7\"], [0.6, \"#e6f5d0\"], [0.7, \"#b8e186\"], [0.8, \"#7fbc41\"], [0.9, \"#4d9221\"], [1, \"#276419\"]], \"sequential\": [[0.0, \"#0d0887\"], [0.1111111111111111, \"#46039f\"], [0.2222222222222222, \"#7201a8\"], [0.3333333333333333, \"#9c179e\"], [0.4444444444444444, \"#bd3786\"], [0.5555555555555556, \"#d8576b\"], [0.6666666666666666, \"#ed7953\"], [0.7777777777777778, \"#fb9f3a\"], [0.8888888888888888, \"#fdca26\"], [1.0, \"#f0f921\"]], \"sequentialminus\": [[0.0, \"#0d0887\"], [0.1111111111111111, \"#46039f\"], [0.2222222222222222, \"#7201a8\"], [0.3333333333333333, \"#9c179e\"], [0.4444444444444444, \"#bd3786\"], [0.5555555555555556, \"#d8576b\"], [0.6666666666666666, \"#ed7953\"], [0.7777777777777778, \"#fb9f3a\"], [0.8888888888888888, \"#fdca26\"], [1.0, \"#f0f921\"]]}, \"colorway\": [\"#636efa\", \"#EF553B\", \"#00cc96\", \"#ab63fa\", \"#FFA15A\", \"#19d3f3\", \"#FF6692\", \"#B6E880\", \"#FF97FF\", \"#FECB52\"], \"font\": {\"color\": \"#2a3f5f\"}, \"geo\": {\"bgcolor\": \"white\", \"lakecolor\": \"white\", \"landcolor\": \"#E5ECF6\", \"showlakes\": true, \"showland\": true, \"subunitcolor\": \"white\"}, \"hoverlabel\": {\"align\": \"left\"}, \"hovermode\": \"closest\", \"mapbox\": {\"style\": \"light\"}, \"paper_bgcolor\": \"white\", \"plot_bgcolor\": \"#E5ECF6\", \"polar\": {\"angularaxis\": {\"gridcolor\": \"white\", \"linecolor\": \"white\", \"ticks\": \"\"}, \"bgcolor\": \"#E5ECF6\", \"radialaxis\": {\"gridcolor\": \"white\", \"linecolor\": \"white\", \"ticks\": \"\"}}, \"scene\": {\"xaxis\": {\"backgroundcolor\": \"#E5ECF6\", \"gridcolor\": \"white\", \"gridwidth\": 2, \"linecolor\": \"white\", \"showbackground\": true, \"ticks\": \"\", \"zerolinecolor\": \"white\"}, \"yaxis\": {\"backgroundcolor\": \"#E5ECF6\", \"gridcolor\": \"white\", \"gridwidth\": 2, \"linecolor\": \"white\", \"showbackground\": true, \"ticks\": \"\", \"zerolinecolor\": \"white\"}, \"zaxis\": {\"backgroundcolor\": \"#E5ECF6\", \"gridcolor\": \"white\", \"gridwidth\": 2, \"linecolor\": \"white\", \"showbackground\": true, \"ticks\": \"\", \"zerolinecolor\": \"white\"}}, \"shapedefaults\": {\"line\": {\"color\": \"#2a3f5f\"}}, \"ternary\": {\"aaxis\": {\"gridcolor\": \"white\", \"linecolor\": \"white\", \"ticks\": \"\"}, \"baxis\": {\"gridcolor\": \"white\", \"linecolor\": \"white\", \"ticks\": \"\"}, \"bgcolor\": \"#E5ECF6\", \"caxis\": {\"gridcolor\": \"white\", \"linecolor\": \"white\", \"ticks\": \"\"}}, \"title\": {\"x\": 0.05}, \"xaxis\": {\"automargin\": true, \"gridcolor\": \"white\", \"linecolor\": \"white\", \"ticks\": \"\", \"title\": {\"standoff\": 15}, \"zerolinecolor\": \"white\", \"zerolinewidth\": 2}, \"yaxis\": {\"automargin\": true, \"gridcolor\": \"white\", \"linecolor\": \"white\", \"ticks\": \"\", \"title\": {\"standoff\": 15}, \"zerolinecolor\": \"white\", \"zerolinewidth\": 2}}}, \"title\": {\"font\": {\"color\": \"Purple\", \"family\": \"Times New Roman\"}, \"text\": \"Annual Household Income Mean By Locations in California\"}},                        {\"responsive\": true}                    ).then(function(){\n",
       "                            \n",
       "var gd = document.getElementById('f6a8b040-5df3-4e57-bfb6-aba0423ba267');\n",
       "var x = new MutationObserver(function (mutations, observer) {{\n",
       "        var display = window.getComputedStyle(gd).display;\n",
       "        if (!display || display === 'none') {{\n",
       "            console.log([gd, 'removed!']);\n",
       "            Plotly.purge(gd);\n",
       "            observer.disconnect();\n",
       "        }}\n",
       "}});\n",
       "\n",
       "// Listen for the removal of the full notebook cells\n",
       "var notebookContainer = gd.closest('#notebook-container');\n",
       "if (notebookContainer) {{\n",
       "    x.observe(notebookContainer, {childList: true});\n",
       "}}\n",
       "\n",
       "// Listen for the clearing of the current output cell\n",
       "var outputEl = gd.closest('.output');\n",
       "if (outputEl) {{\n",
       "    x.observe(outputEl, {childList: true});\n",
       "}}\n",
       "\n",
       "                        })                };                });            </script>        </div>"
      ]
     },
     "metadata": {},
     "output_type": "display_data"
    }
   ],
   "source": [
    "import plotly.graph_objects as go\n",
    "\n",
    "fig = go.Figure(go.Bar(\n",
    "            x=loca[\"Household Income by Race\"],\n",
    "            y=loca[\"Geography\"],\n",
    "            orientation='h'\n",
    "            ))\n",
    "fig.update_layout(\n",
    "    title=\"Annual Household Income Mean By Locations in California\",\n",
    "    font_family=\"Courier New\",\n",
    "    font_color=\"gray\",\n",
    "    title_font_family=\"Times New Roman\",\n",
    "    title_font_color=\"Purple\",\n",
    "    legend_title_font_color=\"green\"\n",
    ")\n",
    "fig.show()"
   ]
  },
  {
   "cell_type": "code",
   "execution_count": 31,
   "metadata": {},
   "outputs": [
    {
     "data": {
      "text/html": [
       "<div>\n",
       "<style scoped>\n",
       "    .dataframe tbody tr th:only-of-type {\n",
       "        vertical-align: middle;\n",
       "    }\n",
       "\n",
       "    .dataframe tbody tr th {\n",
       "        vertical-align: top;\n",
       "    }\n",
       "\n",
       "    .dataframe thead th {\n",
       "        text-align: right;\n",
       "    }\n",
       "</style>\n",
       "<table border=\"1\" class=\"dataframe\">\n",
       "  <thead>\n",
       "    <tr style=\"text-align: right;\">\n",
       "      <th></th>\n",
       "      <th>Year</th>\n",
       "      <th>Race</th>\n",
       "      <th>Household Income by Race</th>\n",
       "    </tr>\n",
       "  </thead>\n",
       "  <tbody>\n",
       "    <tr>\n",
       "      <th>0</th>\n",
       "      <td>2013</td>\n",
       "      <td>Asian</td>\n",
       "      <td>70936.789474</td>\n",
       "    </tr>\n",
       "    <tr>\n",
       "      <th>1</th>\n",
       "      <td>2013</td>\n",
       "      <td>Black</td>\n",
       "      <td>52766.941176</td>\n",
       "    </tr>\n",
       "    <tr>\n",
       "      <th>2</th>\n",
       "      <td>2013</td>\n",
       "      <td>Hispanic</td>\n",
       "      <td>45248.600000</td>\n",
       "    </tr>\n",
       "    <tr>\n",
       "      <th>3</th>\n",
       "      <td>2013</td>\n",
       "      <td>Native American</td>\n",
       "      <td>49273.218750</td>\n",
       "    </tr>\n",
       "    <tr>\n",
       "      <th>4</th>\n",
       "      <td>2013</td>\n",
       "      <td>Other</td>\n",
       "      <td>44788.684211</td>\n",
       "    </tr>\n",
       "  </tbody>\n",
       "</table>\n",
       "</div>"
      ],
      "text/plain": [
       "   Year             Race  Household Income by Race\n",
       "0  2013            Asian              70936.789474\n",
       "1  2013            Black              52766.941176\n",
       "2  2013         Hispanic              45248.600000\n",
       "3  2013  Native American              49273.218750\n",
       "4  2013            Other              44788.684211"
      ]
     },
     "execution_count": 31,
     "metadata": {},
     "output_type": "execute_result"
    }
   ],
   "source": [
    "year = eth.groupby([\"Year\",\"Race\"])[\"Household Income by Race\"].mean()\n",
    "year = year.to_frame().reset_index()\n",
    "year.head()"
   ]
  },
  {
   "cell_type": "code",
   "execution_count": 32,
   "metadata": {},
   "outputs": [
    {
     "data": {
      "application/vnd.plotly.v1+json": {
       "config": {
        "plotlyServerURL": "https://plot.ly"
       },
       "data": [
        {
         "name": "2013",
         "type": "bar",
         "x": [
          "Asian",
          "Black",
          "Hispanic",
          "Native American",
          "Other",
          "Pacific Islander",
          "Total",
          "Two Or More",
          "White",
          "White Non-Hispanic"
         ],
         "y": [
          70936.78947368421,
          52766.94117647059,
          45248.6,
          49273.21875,
          44788.68421052631,
          63160.05882352941,
          57952.375,
          52880.65789473684,
          60768.85,
          66266.6
         ]
        },
        {
         "name": "2014",
         "type": "bar",
         "x": [
          "Asian",
          "Black",
          "Hispanic",
          "Native American",
          "Other",
          "Pacific Islander",
          "Total",
          "Two Or More",
          "White",
          "White Non-Hispanic"
         ],
         "y": [
          74275.2972972973,
          51396.970588235294,
          47304.425,
          48990.4,
          46275.07894736842,
          63909.375,
          59965.55,
          59486.07894736842,
          62598.275,
          68699.3
         ]
        },
        {
         "name": "2015",
         "type": "bar",
         "x": [
          "Asian",
          "Black",
          "Hispanic",
          "Native American",
          "Other",
          "Pacific Islander",
          "Total",
          "Two Or More",
          "White",
          "White Non-Hispanic"
         ],
         "y": [
          75968.97222222222,
          50869.545454545456,
          48726.225,
          51972,
          47885.8717948718,
          66806.375,
          62095.05,
          61482.725,
          64907.5,
          71034.95
         ]
        },
        {
         "name": "2016",
         "type": "bar",
         "x": [
          "Asian",
          "Black",
          "Hispanic",
          "Native American",
          "Other",
          "Pacific Islander",
          "Total",
          "Two Or More",
          "White",
          "White Non-Hispanic"
         ],
         "y": [
          79196.21621621621,
          49143.4375,
          52444.675,
          58739.709677419356,
          50691.8717948718,
          78304.4,
          66196.05,
          63191.7027027027,
          69597.25,
          74955.85
         ]
        },
        {
         "name": "2017",
         "type": "bar",
         "x": [
          "Asian",
          "Black",
          "Hispanic",
          "Native American",
          "Other",
          "Pacific Islander",
          "Total",
          "Two Or More",
          "White",
          "White Non-Hispanic"
         ],
         "y": [
          82995.6052631579,
          58386.76470588235,
          56769.025,
          56138.11111111111,
          54459.92105263158,
          74636.22222222222,
          70489.5,
          69396.94871794872,
          73692.625,
          80073.15
         ]
        },
        {
         "name": "2018",
         "type": "bar",
         "x": [
          "Asian",
          "Black",
          "Hispanic",
          "Native American",
          "Other",
          "Pacific Islander",
          "Total",
          "Two Or More",
          "White",
          "White Non-Hispanic"
         ],
         "y": [
          84760.02702702703,
          65370.23529411765,
          59615.725,
          64307.41176470588,
          57612.21052631579,
          84937.27777777778,
          73685.875,
          80300.5,
          76868.275,
          83071.45
         ]
        }
       ],
       "layout": {
        "barmode": "group",
        "font": {
         "color": "gray",
         "family": "Courier New"
        },
        "legend": {
         "title": {
          "font": {
           "color": "green"
          }
         }
        },
        "template": {
         "data": {
          "bar": [
           {
            "error_x": {
             "color": "#2a3f5f"
            },
            "error_y": {
             "color": "#2a3f5f"
            },
            "marker": {
             "line": {
              "color": "#E5ECF6",
              "width": 0.5
             }
            },
            "type": "bar"
           }
          ],
          "barpolar": [
           {
            "marker": {
             "line": {
              "color": "#E5ECF6",
              "width": 0.5
             }
            },
            "type": "barpolar"
           }
          ],
          "carpet": [
           {
            "aaxis": {
             "endlinecolor": "#2a3f5f",
             "gridcolor": "white",
             "linecolor": "white",
             "minorgridcolor": "white",
             "startlinecolor": "#2a3f5f"
            },
            "baxis": {
             "endlinecolor": "#2a3f5f",
             "gridcolor": "white",
             "linecolor": "white",
             "minorgridcolor": "white",
             "startlinecolor": "#2a3f5f"
            },
            "type": "carpet"
           }
          ],
          "choropleth": [
           {
            "colorbar": {
             "outlinewidth": 0,
             "ticks": ""
            },
            "type": "choropleth"
           }
          ],
          "contour": [
           {
            "colorbar": {
             "outlinewidth": 0,
             "ticks": ""
            },
            "colorscale": [
             [
              0,
              "#0d0887"
             ],
             [
              0.1111111111111111,
              "#46039f"
             ],
             [
              0.2222222222222222,
              "#7201a8"
             ],
             [
              0.3333333333333333,
              "#9c179e"
             ],
             [
              0.4444444444444444,
              "#bd3786"
             ],
             [
              0.5555555555555556,
              "#d8576b"
             ],
             [
              0.6666666666666666,
              "#ed7953"
             ],
             [
              0.7777777777777778,
              "#fb9f3a"
             ],
             [
              0.8888888888888888,
              "#fdca26"
             ],
             [
              1,
              "#f0f921"
             ]
            ],
            "type": "contour"
           }
          ],
          "contourcarpet": [
           {
            "colorbar": {
             "outlinewidth": 0,
             "ticks": ""
            },
            "type": "contourcarpet"
           }
          ],
          "heatmap": [
           {
            "colorbar": {
             "outlinewidth": 0,
             "ticks": ""
            },
            "colorscale": [
             [
              0,
              "#0d0887"
             ],
             [
              0.1111111111111111,
              "#46039f"
             ],
             [
              0.2222222222222222,
              "#7201a8"
             ],
             [
              0.3333333333333333,
              "#9c179e"
             ],
             [
              0.4444444444444444,
              "#bd3786"
             ],
             [
              0.5555555555555556,
              "#d8576b"
             ],
             [
              0.6666666666666666,
              "#ed7953"
             ],
             [
              0.7777777777777778,
              "#fb9f3a"
             ],
             [
              0.8888888888888888,
              "#fdca26"
             ],
             [
              1,
              "#f0f921"
             ]
            ],
            "type": "heatmap"
           }
          ],
          "heatmapgl": [
           {
            "colorbar": {
             "outlinewidth": 0,
             "ticks": ""
            },
            "colorscale": [
             [
              0,
              "#0d0887"
             ],
             [
              0.1111111111111111,
              "#46039f"
             ],
             [
              0.2222222222222222,
              "#7201a8"
             ],
             [
              0.3333333333333333,
              "#9c179e"
             ],
             [
              0.4444444444444444,
              "#bd3786"
             ],
             [
              0.5555555555555556,
              "#d8576b"
             ],
             [
              0.6666666666666666,
              "#ed7953"
             ],
             [
              0.7777777777777778,
              "#fb9f3a"
             ],
             [
              0.8888888888888888,
              "#fdca26"
             ],
             [
              1,
              "#f0f921"
             ]
            ],
            "type": "heatmapgl"
           }
          ],
          "histogram": [
           {
            "marker": {
             "colorbar": {
              "outlinewidth": 0,
              "ticks": ""
             }
            },
            "type": "histogram"
           }
          ],
          "histogram2d": [
           {
            "colorbar": {
             "outlinewidth": 0,
             "ticks": ""
            },
            "colorscale": [
             [
              0,
              "#0d0887"
             ],
             [
              0.1111111111111111,
              "#46039f"
             ],
             [
              0.2222222222222222,
              "#7201a8"
             ],
             [
              0.3333333333333333,
              "#9c179e"
             ],
             [
              0.4444444444444444,
              "#bd3786"
             ],
             [
              0.5555555555555556,
              "#d8576b"
             ],
             [
              0.6666666666666666,
              "#ed7953"
             ],
             [
              0.7777777777777778,
              "#fb9f3a"
             ],
             [
              0.8888888888888888,
              "#fdca26"
             ],
             [
              1,
              "#f0f921"
             ]
            ],
            "type": "histogram2d"
           }
          ],
          "histogram2dcontour": [
           {
            "colorbar": {
             "outlinewidth": 0,
             "ticks": ""
            },
            "colorscale": [
             [
              0,
              "#0d0887"
             ],
             [
              0.1111111111111111,
              "#46039f"
             ],
             [
              0.2222222222222222,
              "#7201a8"
             ],
             [
              0.3333333333333333,
              "#9c179e"
             ],
             [
              0.4444444444444444,
              "#bd3786"
             ],
             [
              0.5555555555555556,
              "#d8576b"
             ],
             [
              0.6666666666666666,
              "#ed7953"
             ],
             [
              0.7777777777777778,
              "#fb9f3a"
             ],
             [
              0.8888888888888888,
              "#fdca26"
             ],
             [
              1,
              "#f0f921"
             ]
            ],
            "type": "histogram2dcontour"
           }
          ],
          "mesh3d": [
           {
            "colorbar": {
             "outlinewidth": 0,
             "ticks": ""
            },
            "type": "mesh3d"
           }
          ],
          "parcoords": [
           {
            "line": {
             "colorbar": {
              "outlinewidth": 0,
              "ticks": ""
             }
            },
            "type": "parcoords"
           }
          ],
          "pie": [
           {
            "automargin": true,
            "type": "pie"
           }
          ],
          "scatter": [
           {
            "marker": {
             "colorbar": {
              "outlinewidth": 0,
              "ticks": ""
             }
            },
            "type": "scatter"
           }
          ],
          "scatter3d": [
           {
            "line": {
             "colorbar": {
              "outlinewidth": 0,
              "ticks": ""
             }
            },
            "marker": {
             "colorbar": {
              "outlinewidth": 0,
              "ticks": ""
             }
            },
            "type": "scatter3d"
           }
          ],
          "scattercarpet": [
           {
            "marker": {
             "colorbar": {
              "outlinewidth": 0,
              "ticks": ""
             }
            },
            "type": "scattercarpet"
           }
          ],
          "scattergeo": [
           {
            "marker": {
             "colorbar": {
              "outlinewidth": 0,
              "ticks": ""
             }
            },
            "type": "scattergeo"
           }
          ],
          "scattergl": [
           {
            "marker": {
             "colorbar": {
              "outlinewidth": 0,
              "ticks": ""
             }
            },
            "type": "scattergl"
           }
          ],
          "scattermapbox": [
           {
            "marker": {
             "colorbar": {
              "outlinewidth": 0,
              "ticks": ""
             }
            },
            "type": "scattermapbox"
           }
          ],
          "scatterpolar": [
           {
            "marker": {
             "colorbar": {
              "outlinewidth": 0,
              "ticks": ""
             }
            },
            "type": "scatterpolar"
           }
          ],
          "scatterpolargl": [
           {
            "marker": {
             "colorbar": {
              "outlinewidth": 0,
              "ticks": ""
             }
            },
            "type": "scatterpolargl"
           }
          ],
          "scatterternary": [
           {
            "marker": {
             "colorbar": {
              "outlinewidth": 0,
              "ticks": ""
             }
            },
            "type": "scatterternary"
           }
          ],
          "surface": [
           {
            "colorbar": {
             "outlinewidth": 0,
             "ticks": ""
            },
            "colorscale": [
             [
              0,
              "#0d0887"
             ],
             [
              0.1111111111111111,
              "#46039f"
             ],
             [
              0.2222222222222222,
              "#7201a8"
             ],
             [
              0.3333333333333333,
              "#9c179e"
             ],
             [
              0.4444444444444444,
              "#bd3786"
             ],
             [
              0.5555555555555556,
              "#d8576b"
             ],
             [
              0.6666666666666666,
              "#ed7953"
             ],
             [
              0.7777777777777778,
              "#fb9f3a"
             ],
             [
              0.8888888888888888,
              "#fdca26"
             ],
             [
              1,
              "#f0f921"
             ]
            ],
            "type": "surface"
           }
          ],
          "table": [
           {
            "cells": {
             "fill": {
              "color": "#EBF0F8"
             },
             "line": {
              "color": "white"
             }
            },
            "header": {
             "fill": {
              "color": "#C8D4E3"
             },
             "line": {
              "color": "white"
             }
            },
            "type": "table"
           }
          ]
         },
         "layout": {
          "annotationdefaults": {
           "arrowcolor": "#2a3f5f",
           "arrowhead": 0,
           "arrowwidth": 1
          },
          "autotypenumbers": "strict",
          "coloraxis": {
           "colorbar": {
            "outlinewidth": 0,
            "ticks": ""
           }
          },
          "colorscale": {
           "diverging": [
            [
             0,
             "#8e0152"
            ],
            [
             0.1,
             "#c51b7d"
            ],
            [
             0.2,
             "#de77ae"
            ],
            [
             0.3,
             "#f1b6da"
            ],
            [
             0.4,
             "#fde0ef"
            ],
            [
             0.5,
             "#f7f7f7"
            ],
            [
             0.6,
             "#e6f5d0"
            ],
            [
             0.7,
             "#b8e186"
            ],
            [
             0.8,
             "#7fbc41"
            ],
            [
             0.9,
             "#4d9221"
            ],
            [
             1,
             "#276419"
            ]
           ],
           "sequential": [
            [
             0,
             "#0d0887"
            ],
            [
             0.1111111111111111,
             "#46039f"
            ],
            [
             0.2222222222222222,
             "#7201a8"
            ],
            [
             0.3333333333333333,
             "#9c179e"
            ],
            [
             0.4444444444444444,
             "#bd3786"
            ],
            [
             0.5555555555555556,
             "#d8576b"
            ],
            [
             0.6666666666666666,
             "#ed7953"
            ],
            [
             0.7777777777777778,
             "#fb9f3a"
            ],
            [
             0.8888888888888888,
             "#fdca26"
            ],
            [
             1,
             "#f0f921"
            ]
           ],
           "sequentialminus": [
            [
             0,
             "#0d0887"
            ],
            [
             0.1111111111111111,
             "#46039f"
            ],
            [
             0.2222222222222222,
             "#7201a8"
            ],
            [
             0.3333333333333333,
             "#9c179e"
            ],
            [
             0.4444444444444444,
             "#bd3786"
            ],
            [
             0.5555555555555556,
             "#d8576b"
            ],
            [
             0.6666666666666666,
             "#ed7953"
            ],
            [
             0.7777777777777778,
             "#fb9f3a"
            ],
            [
             0.8888888888888888,
             "#fdca26"
            ],
            [
             1,
             "#f0f921"
            ]
           ]
          },
          "colorway": [
           "#636efa",
           "#EF553B",
           "#00cc96",
           "#ab63fa",
           "#FFA15A",
           "#19d3f3",
           "#FF6692",
           "#B6E880",
           "#FF97FF",
           "#FECB52"
          ],
          "font": {
           "color": "#2a3f5f"
          },
          "geo": {
           "bgcolor": "white",
           "lakecolor": "white",
           "landcolor": "#E5ECF6",
           "showlakes": true,
           "showland": true,
           "subunitcolor": "white"
          },
          "hoverlabel": {
           "align": "left"
          },
          "hovermode": "closest",
          "mapbox": {
           "style": "light"
          },
          "paper_bgcolor": "white",
          "plot_bgcolor": "#E5ECF6",
          "polar": {
           "angularaxis": {
            "gridcolor": "white",
            "linecolor": "white",
            "ticks": ""
           },
           "bgcolor": "#E5ECF6",
           "radialaxis": {
            "gridcolor": "white",
            "linecolor": "white",
            "ticks": ""
           }
          },
          "scene": {
           "xaxis": {
            "backgroundcolor": "#E5ECF6",
            "gridcolor": "white",
            "gridwidth": 2,
            "linecolor": "white",
            "showbackground": true,
            "ticks": "",
            "zerolinecolor": "white"
           },
           "yaxis": {
            "backgroundcolor": "#E5ECF6",
            "gridcolor": "white",
            "gridwidth": 2,
            "linecolor": "white",
            "showbackground": true,
            "ticks": "",
            "zerolinecolor": "white"
           },
           "zaxis": {
            "backgroundcolor": "#E5ECF6",
            "gridcolor": "white",
            "gridwidth": 2,
            "linecolor": "white",
            "showbackground": true,
            "ticks": "",
            "zerolinecolor": "white"
           }
          },
          "shapedefaults": {
           "line": {
            "color": "#2a3f5f"
           }
          },
          "ternary": {
           "aaxis": {
            "gridcolor": "white",
            "linecolor": "white",
            "ticks": ""
           },
           "baxis": {
            "gridcolor": "white",
            "linecolor": "white",
            "ticks": ""
           },
           "bgcolor": "#E5ECF6",
           "caxis": {
            "gridcolor": "white",
            "linecolor": "white",
            "ticks": ""
           }
          },
          "title": {
           "x": 0.05
          },
          "xaxis": {
           "automargin": true,
           "gridcolor": "white",
           "linecolor": "white",
           "ticks": "",
           "title": {
            "standoff": 15
           },
           "zerolinecolor": "white",
           "zerolinewidth": 2
          },
          "yaxis": {
           "automargin": true,
           "gridcolor": "white",
           "linecolor": "white",
           "ticks": "",
           "title": {
            "standoff": 15
           },
           "zerolinecolor": "white",
           "zerolinewidth": 2
          }
         }
        },
        "title": {
         "font": {
          "color": "Purple",
          "family": "Times New Roman"
         },
         "text": "Annual Household Income Mean By Races from 2013-2018 in California"
        }
       }
      },
      "text/html": [
       "<div>                            <div id=\"62beac43-d8d4-41e3-94c5-dbf4aca85c1d\" class=\"plotly-graph-div\" style=\"height:525px; width:100%;\"></div>            <script type=\"text/javascript\">                require([\"plotly\"], function(Plotly) {                    window.PLOTLYENV=window.PLOTLYENV || {};                                    if (document.getElementById(\"62beac43-d8d4-41e3-94c5-dbf4aca85c1d\")) {                    Plotly.newPlot(                        \"62beac43-d8d4-41e3-94c5-dbf4aca85c1d\",                        [{\"name\": \"2013\", \"type\": \"bar\", \"x\": [\"Asian\", \"Black\", \"Hispanic\", \"Native American\", \"Other\", \"Pacific Islander\", \"Total\", \"Two Or More\", \"White\", \"White Non-Hispanic\"], \"y\": [70936.78947368421, 52766.94117647059, 45248.6, 49273.21875, 44788.68421052631, 63160.05882352941, 57952.375, 52880.65789473684, 60768.85, 66266.6]}, {\"name\": \"2014\", \"type\": \"bar\", \"x\": [\"Asian\", \"Black\", \"Hispanic\", \"Native American\", \"Other\", \"Pacific Islander\", \"Total\", \"Two Or More\", \"White\", \"White Non-Hispanic\"], \"y\": [74275.2972972973, 51396.970588235294, 47304.425, 48990.4, 46275.07894736842, 63909.375, 59965.55, 59486.07894736842, 62598.275, 68699.3]}, {\"name\": \"2015\", \"type\": \"bar\", \"x\": [\"Asian\", \"Black\", \"Hispanic\", \"Native American\", \"Other\", \"Pacific Islander\", \"Total\", \"Two Or More\", \"White\", \"White Non-Hispanic\"], \"y\": [75968.97222222222, 50869.545454545456, 48726.225, 51972.0, 47885.8717948718, 66806.375, 62095.05, 61482.725, 64907.5, 71034.95]}, {\"name\": \"2016\", \"type\": \"bar\", \"x\": [\"Asian\", \"Black\", \"Hispanic\", \"Native American\", \"Other\", \"Pacific Islander\", \"Total\", \"Two Or More\", \"White\", \"White Non-Hispanic\"], \"y\": [79196.21621621621, 49143.4375, 52444.675, 58739.709677419356, 50691.8717948718, 78304.4, 66196.05, 63191.7027027027, 69597.25, 74955.85]}, {\"name\": \"2017\", \"type\": \"bar\", \"x\": [\"Asian\", \"Black\", \"Hispanic\", \"Native American\", \"Other\", \"Pacific Islander\", \"Total\", \"Two Or More\", \"White\", \"White Non-Hispanic\"], \"y\": [82995.6052631579, 58386.76470588235, 56769.025, 56138.11111111111, 54459.92105263158, 74636.22222222222, 70489.5, 69396.94871794872, 73692.625, 80073.15]}, {\"name\": \"2018\", \"type\": \"bar\", \"x\": [\"Asian\", \"Black\", \"Hispanic\", \"Native American\", \"Other\", \"Pacific Islander\", \"Total\", \"Two Or More\", \"White\", \"White Non-Hispanic\"], \"y\": [84760.02702702703, 65370.23529411765, 59615.725, 64307.41176470588, 57612.21052631579, 84937.27777777778, 73685.875, 80300.5, 76868.275, 83071.45]}],                        {\"barmode\": \"group\", \"font\": {\"color\": \"gray\", \"family\": \"Courier New\"}, \"legend\": {\"title\": {\"font\": {\"color\": \"green\"}}}, \"template\": {\"data\": {\"bar\": [{\"error_x\": {\"color\": \"#2a3f5f\"}, \"error_y\": {\"color\": \"#2a3f5f\"}, \"marker\": {\"line\": {\"color\": \"#E5ECF6\", \"width\": 0.5}}, \"type\": \"bar\"}], \"barpolar\": [{\"marker\": {\"line\": {\"color\": \"#E5ECF6\", \"width\": 0.5}}, \"type\": \"barpolar\"}], \"carpet\": [{\"aaxis\": {\"endlinecolor\": \"#2a3f5f\", \"gridcolor\": \"white\", \"linecolor\": \"white\", \"minorgridcolor\": \"white\", \"startlinecolor\": \"#2a3f5f\"}, \"baxis\": {\"endlinecolor\": \"#2a3f5f\", \"gridcolor\": \"white\", \"linecolor\": \"white\", \"minorgridcolor\": \"white\", \"startlinecolor\": \"#2a3f5f\"}, \"type\": \"carpet\"}], \"choropleth\": [{\"colorbar\": {\"outlinewidth\": 0, \"ticks\": \"\"}, \"type\": \"choropleth\"}], \"contour\": [{\"colorbar\": {\"outlinewidth\": 0, \"ticks\": \"\"}, \"colorscale\": [[0.0, \"#0d0887\"], [0.1111111111111111, \"#46039f\"], [0.2222222222222222, \"#7201a8\"], [0.3333333333333333, \"#9c179e\"], [0.4444444444444444, \"#bd3786\"], [0.5555555555555556, \"#d8576b\"], [0.6666666666666666, \"#ed7953\"], [0.7777777777777778, \"#fb9f3a\"], [0.8888888888888888, \"#fdca26\"], [1.0, \"#f0f921\"]], \"type\": \"contour\"}], \"contourcarpet\": [{\"colorbar\": {\"outlinewidth\": 0, \"ticks\": \"\"}, \"type\": \"contourcarpet\"}], \"heatmap\": [{\"colorbar\": {\"outlinewidth\": 0, \"ticks\": \"\"}, \"colorscale\": [[0.0, \"#0d0887\"], [0.1111111111111111, \"#46039f\"], [0.2222222222222222, \"#7201a8\"], [0.3333333333333333, \"#9c179e\"], [0.4444444444444444, \"#bd3786\"], [0.5555555555555556, \"#d8576b\"], [0.6666666666666666, \"#ed7953\"], [0.7777777777777778, \"#fb9f3a\"], [0.8888888888888888, \"#fdca26\"], [1.0, \"#f0f921\"]], \"type\": \"heatmap\"}], \"heatmapgl\": [{\"colorbar\": {\"outlinewidth\": 0, \"ticks\": \"\"}, \"colorscale\": [[0.0, \"#0d0887\"], [0.1111111111111111, \"#46039f\"], [0.2222222222222222, \"#7201a8\"], [0.3333333333333333, \"#9c179e\"], [0.4444444444444444, \"#bd3786\"], [0.5555555555555556, \"#d8576b\"], [0.6666666666666666, \"#ed7953\"], [0.7777777777777778, \"#fb9f3a\"], [0.8888888888888888, \"#fdca26\"], [1.0, \"#f0f921\"]], \"type\": \"heatmapgl\"}], \"histogram\": [{\"marker\": {\"colorbar\": {\"outlinewidth\": 0, \"ticks\": \"\"}}, \"type\": \"histogram\"}], \"histogram2d\": [{\"colorbar\": {\"outlinewidth\": 0, \"ticks\": \"\"}, \"colorscale\": [[0.0, \"#0d0887\"], [0.1111111111111111, \"#46039f\"], [0.2222222222222222, \"#7201a8\"], [0.3333333333333333, \"#9c179e\"], [0.4444444444444444, \"#bd3786\"], [0.5555555555555556, \"#d8576b\"], [0.6666666666666666, \"#ed7953\"], [0.7777777777777778, \"#fb9f3a\"], [0.8888888888888888, \"#fdca26\"], [1.0, \"#f0f921\"]], \"type\": \"histogram2d\"}], \"histogram2dcontour\": [{\"colorbar\": {\"outlinewidth\": 0, \"ticks\": \"\"}, \"colorscale\": [[0.0, \"#0d0887\"], [0.1111111111111111, \"#46039f\"], [0.2222222222222222, \"#7201a8\"], [0.3333333333333333, \"#9c179e\"], [0.4444444444444444, \"#bd3786\"], [0.5555555555555556, \"#d8576b\"], [0.6666666666666666, \"#ed7953\"], [0.7777777777777778, \"#fb9f3a\"], [0.8888888888888888, \"#fdca26\"], [1.0, \"#f0f921\"]], \"type\": \"histogram2dcontour\"}], \"mesh3d\": [{\"colorbar\": {\"outlinewidth\": 0, \"ticks\": \"\"}, \"type\": \"mesh3d\"}], \"parcoords\": [{\"line\": {\"colorbar\": {\"outlinewidth\": 0, \"ticks\": \"\"}}, \"type\": \"parcoords\"}], \"pie\": [{\"automargin\": true, \"type\": \"pie\"}], \"scatter\": [{\"marker\": {\"colorbar\": {\"outlinewidth\": 0, \"ticks\": \"\"}}, \"type\": \"scatter\"}], \"scatter3d\": [{\"line\": {\"colorbar\": {\"outlinewidth\": 0, \"ticks\": \"\"}}, \"marker\": {\"colorbar\": {\"outlinewidth\": 0, \"ticks\": \"\"}}, \"type\": \"scatter3d\"}], \"scattercarpet\": [{\"marker\": {\"colorbar\": {\"outlinewidth\": 0, \"ticks\": \"\"}}, \"type\": \"scattercarpet\"}], \"scattergeo\": [{\"marker\": {\"colorbar\": {\"outlinewidth\": 0, \"ticks\": \"\"}}, \"type\": \"scattergeo\"}], \"scattergl\": [{\"marker\": {\"colorbar\": {\"outlinewidth\": 0, \"ticks\": \"\"}}, \"type\": \"scattergl\"}], \"scattermapbox\": [{\"marker\": {\"colorbar\": {\"outlinewidth\": 0, \"ticks\": \"\"}}, \"type\": \"scattermapbox\"}], \"scatterpolar\": [{\"marker\": {\"colorbar\": {\"outlinewidth\": 0, \"ticks\": \"\"}}, \"type\": \"scatterpolar\"}], \"scatterpolargl\": [{\"marker\": {\"colorbar\": {\"outlinewidth\": 0, \"ticks\": \"\"}}, \"type\": \"scatterpolargl\"}], \"scatterternary\": [{\"marker\": {\"colorbar\": {\"outlinewidth\": 0, \"ticks\": \"\"}}, \"type\": \"scatterternary\"}], \"surface\": [{\"colorbar\": {\"outlinewidth\": 0, \"ticks\": \"\"}, \"colorscale\": [[0.0, \"#0d0887\"], [0.1111111111111111, \"#46039f\"], [0.2222222222222222, \"#7201a8\"], [0.3333333333333333, \"#9c179e\"], [0.4444444444444444, \"#bd3786\"], [0.5555555555555556, \"#d8576b\"], [0.6666666666666666, \"#ed7953\"], [0.7777777777777778, \"#fb9f3a\"], [0.8888888888888888, \"#fdca26\"], [1.0, \"#f0f921\"]], \"type\": \"surface\"}], \"table\": [{\"cells\": {\"fill\": {\"color\": \"#EBF0F8\"}, \"line\": {\"color\": \"white\"}}, \"header\": {\"fill\": {\"color\": \"#C8D4E3\"}, \"line\": {\"color\": \"white\"}}, \"type\": \"table\"}]}, \"layout\": {\"annotationdefaults\": {\"arrowcolor\": \"#2a3f5f\", \"arrowhead\": 0, \"arrowwidth\": 1}, \"autotypenumbers\": \"strict\", \"coloraxis\": {\"colorbar\": {\"outlinewidth\": 0, \"ticks\": \"\"}}, \"colorscale\": {\"diverging\": [[0, \"#8e0152\"], [0.1, \"#c51b7d\"], [0.2, \"#de77ae\"], [0.3, \"#f1b6da\"], [0.4, \"#fde0ef\"], [0.5, \"#f7f7f7\"], [0.6, \"#e6f5d0\"], [0.7, \"#b8e186\"], [0.8, \"#7fbc41\"], [0.9, \"#4d9221\"], [1, \"#276419\"]], \"sequential\": [[0.0, \"#0d0887\"], [0.1111111111111111, \"#46039f\"], [0.2222222222222222, \"#7201a8\"], [0.3333333333333333, \"#9c179e\"], [0.4444444444444444, \"#bd3786\"], [0.5555555555555556, \"#d8576b\"], [0.6666666666666666, \"#ed7953\"], [0.7777777777777778, \"#fb9f3a\"], [0.8888888888888888, \"#fdca26\"], [1.0, \"#f0f921\"]], \"sequentialminus\": [[0.0, \"#0d0887\"], [0.1111111111111111, \"#46039f\"], [0.2222222222222222, \"#7201a8\"], [0.3333333333333333, \"#9c179e\"], [0.4444444444444444, \"#bd3786\"], [0.5555555555555556, \"#d8576b\"], [0.6666666666666666, \"#ed7953\"], [0.7777777777777778, \"#fb9f3a\"], [0.8888888888888888, \"#fdca26\"], [1.0, \"#f0f921\"]]}, \"colorway\": [\"#636efa\", \"#EF553B\", \"#00cc96\", \"#ab63fa\", \"#FFA15A\", \"#19d3f3\", \"#FF6692\", \"#B6E880\", \"#FF97FF\", \"#FECB52\"], \"font\": {\"color\": \"#2a3f5f\"}, \"geo\": {\"bgcolor\": \"white\", \"lakecolor\": \"white\", \"landcolor\": \"#E5ECF6\", \"showlakes\": true, \"showland\": true, \"subunitcolor\": \"white\"}, \"hoverlabel\": {\"align\": \"left\"}, \"hovermode\": \"closest\", \"mapbox\": {\"style\": \"light\"}, \"paper_bgcolor\": \"white\", \"plot_bgcolor\": \"#E5ECF6\", \"polar\": {\"angularaxis\": {\"gridcolor\": \"white\", \"linecolor\": \"white\", \"ticks\": \"\"}, \"bgcolor\": \"#E5ECF6\", \"radialaxis\": {\"gridcolor\": \"white\", \"linecolor\": \"white\", \"ticks\": \"\"}}, \"scene\": {\"xaxis\": {\"backgroundcolor\": \"#E5ECF6\", \"gridcolor\": \"white\", \"gridwidth\": 2, \"linecolor\": \"white\", \"showbackground\": true, \"ticks\": \"\", \"zerolinecolor\": \"white\"}, \"yaxis\": {\"backgroundcolor\": \"#E5ECF6\", \"gridcolor\": \"white\", \"gridwidth\": 2, \"linecolor\": \"white\", \"showbackground\": true, \"ticks\": \"\", \"zerolinecolor\": \"white\"}, \"zaxis\": {\"backgroundcolor\": \"#E5ECF6\", \"gridcolor\": \"white\", \"gridwidth\": 2, \"linecolor\": \"white\", \"showbackground\": true, \"ticks\": \"\", \"zerolinecolor\": \"white\"}}, \"shapedefaults\": {\"line\": {\"color\": \"#2a3f5f\"}}, \"ternary\": {\"aaxis\": {\"gridcolor\": \"white\", \"linecolor\": \"white\", \"ticks\": \"\"}, \"baxis\": {\"gridcolor\": \"white\", \"linecolor\": \"white\", \"ticks\": \"\"}, \"bgcolor\": \"#E5ECF6\", \"caxis\": {\"gridcolor\": \"white\", \"linecolor\": \"white\", \"ticks\": \"\"}}, \"title\": {\"x\": 0.05}, \"xaxis\": {\"automargin\": true, \"gridcolor\": \"white\", \"linecolor\": \"white\", \"ticks\": \"\", \"title\": {\"standoff\": 15}, \"zerolinecolor\": \"white\", \"zerolinewidth\": 2}, \"yaxis\": {\"automargin\": true, \"gridcolor\": \"white\", \"linecolor\": \"white\", \"ticks\": \"\", \"title\": {\"standoff\": 15}, \"zerolinecolor\": \"white\", \"zerolinewidth\": 2}}}, \"title\": {\"font\": {\"color\": \"Purple\", \"family\": \"Times New Roman\"}, \"text\": \"Annual Household Income Mean By Races from 2013-2018 in California\"}},                        {\"responsive\": true}                    ).then(function(){\n",
       "                            \n",
       "var gd = document.getElementById('62beac43-d8d4-41e3-94c5-dbf4aca85c1d');\n",
       "var x = new MutationObserver(function (mutations, observer) {{\n",
       "        var display = window.getComputedStyle(gd).display;\n",
       "        if (!display || display === 'none') {{\n",
       "            console.log([gd, 'removed!']);\n",
       "            Plotly.purge(gd);\n",
       "            observer.disconnect();\n",
       "        }}\n",
       "}});\n",
       "\n",
       "// Listen for the removal of the full notebook cells\n",
       "var notebookContainer = gd.closest('#notebook-container');\n",
       "if (notebookContainer) {{\n",
       "    x.observe(notebookContainer, {childList: true});\n",
       "}}\n",
       "\n",
       "// Listen for the clearing of the current output cell\n",
       "var outputEl = gd.closest('.output');\n",
       "if (outputEl) {{\n",
       "    x.observe(outputEl, {childList: true});\n",
       "}}\n",
       "\n",
       "                        })                };                });            </script>        </div>"
      ]
     },
     "metadata": {},
     "output_type": "display_data"
    }
   ],
   "source": [
    "import plotly.express as px\n",
    "import plotly.graph_objects as go\n",
    "fig = go.Figure(data=[\n",
    "    go.Bar(name='2013', x=income['Race'], y=year[year['Year']==2013]['Household Income by Race']),\n",
    "    go.Bar(name='2014', x=income['Race'], y=year[year['Year']==2014]['Household Income by Race']),\n",
    "    go.Bar(name='2015', x=income['Race'], y=year[year['Year']==2015]['Household Income by Race']),\n",
    "    go.Bar(name='2016', x=income['Race'], y=year[year['Year']==2016]['Household Income by Race']),\n",
    "    go.Bar(name='2017', x=income['Race'], y=year[year['Year']==2017]['Household Income by Race']),\n",
    "    go.Bar(name='2018', x=income['Race'], y=year[year['Year']==2018]['Household Income by Race']),\n",
    "])\n",
    "\n",
    "fig.update_layout(\n",
    "    title=\"Annual Household Income Mean By Races from 2013-2018 in California\",\n",
    "    font_family=\"Courier New\",\n",
    "    font_color=\"gray\",\n",
    "    title_font_family=\"Times New Roman\",\n",
    "    title_font_color=\"Purple\",\n",
    "   legend_title_font_color=\"green\"\n",
    ")\n",
    "# Change the bar mode\n",
    "fig.update_layout(barmode='group')\n",
    "fig.show()\n"
   ]
  },
  {
   "cell_type": "code",
   "execution_count": 33,
   "metadata": {},
   "outputs": [
    {
     "data": {
      "text/html": [
       "<div>\n",
       "<style scoped>\n",
       "    .dataframe tbody tr th:only-of-type {\n",
       "        vertical-align: middle;\n",
       "    }\n",
       "\n",
       "    .dataframe tbody tr th {\n",
       "        vertical-align: top;\n",
       "    }\n",
       "\n",
       "    .dataframe thead th {\n",
       "        text-align: right;\n",
       "    }\n",
       "</style>\n",
       "<table border=\"1\" class=\"dataframe\">\n",
       "  <thead>\n",
       "    <tr style=\"text-align: right;\">\n",
       "      <th></th>\n",
       "      <th>Place</th>\n",
       "      <th>County/ies[3][note 3]</th>\n",
       "      <th>Population[1]</th>\n",
       "      <th>White[1]</th>\n",
       "      <th>Other[1][note 1]</th>\n",
       "      <th>Asian[1]</th>\n",
       "      <th>Black or AfricanAmerican[1]</th>\n",
       "      <th>Native American[1][note 2]</th>\n",
       "      <th>Hispanic or Latino(of any race)[2]</th>\n",
       "    </tr>\n",
       "  </thead>\n",
       "  <tbody>\n",
       "    <tr>\n",
       "      <th>0</th>\n",
       "      <td>Acalanes Ridge</td>\n",
       "      <td>Contra Costa</td>\n",
       "      <td>1,431</td>\n",
       "      <td>71.6%</td>\n",
       "      <td>14.0%</td>\n",
       "      <td>11.8%</td>\n",
       "      <td>0.0%</td>\n",
       "      <td>2.6%</td>\n",
       "      <td>4.8%</td>\n",
       "    </tr>\n",
       "    <tr>\n",
       "      <th>1</th>\n",
       "      <td>Acampo</td>\n",
       "      <td>San Joaquin</td>\n",
       "      <td>387</td>\n",
       "      <td>100.0%</td>\n",
       "      <td>0.0%</td>\n",
       "      <td>0.0%</td>\n",
       "      <td>0.0%</td>\n",
       "      <td>0.0%</td>\n",
       "      <td>92.2%</td>\n",
       "    </tr>\n",
       "    <tr>\n",
       "      <th>2</th>\n",
       "      <td>Acton</td>\n",
       "      <td>Los Angeles</td>\n",
       "      <td>7,138</td>\n",
       "      <td>87.5%</td>\n",
       "      <td>10.9%</td>\n",
       "      <td>1.2%</td>\n",
       "      <td>0.2%</td>\n",
       "      <td>0.3%</td>\n",
       "      <td>15.8%</td>\n",
       "    </tr>\n",
       "    <tr>\n",
       "      <th>3</th>\n",
       "      <td>Adelanto</td>\n",
       "      <td>San Bernardino</td>\n",
       "      <td>30,670</td>\n",
       "      <td>55.5%</td>\n",
       "      <td>19.4%</td>\n",
       "      <td>2.4%</td>\n",
       "      <td>21.1%</td>\n",
       "      <td>1.5%</td>\n",
       "      <td>51.8%</td>\n",
       "    </tr>\n",
       "    <tr>\n",
       "      <th>4</th>\n",
       "      <td>Adin</td>\n",
       "      <td>Modoc</td>\n",
       "      <td>418</td>\n",
       "      <td>96.7%</td>\n",
       "      <td>0.0%</td>\n",
       "      <td>0.0%</td>\n",
       "      <td>0.0%</td>\n",
       "      <td>3.3%</td>\n",
       "      <td>2.2%</td>\n",
       "    </tr>\n",
       "  </tbody>\n",
       "</table>\n",
       "</div>"
      ],
      "text/plain": [
       "            Place County/ies[3][note 3] Population[1] White[1]  \\\n",
       "0  Acalanes Ridge          Contra Costa         1,431    71.6%   \n",
       "1          Acampo           San Joaquin           387   100.0%   \n",
       "2           Acton           Los Angeles         7,138    87.5%   \n",
       "3        Adelanto        San Bernardino        30,670    55.5%   \n",
       "4            Adin                 Modoc           418    96.7%   \n",
       "\n",
       "  Other[1][note 1] Asian[1] Black or AfricanAmerican[1]  \\\n",
       "0            14.0%    11.8%                        0.0%   \n",
       "1             0.0%     0.0%                        0.0%   \n",
       "2            10.9%     1.2%                        0.2%   \n",
       "3            19.4%     2.4%                       21.1%   \n",
       "4             0.0%     0.0%                        0.0%   \n",
       "\n",
       "  Native American[1][note 2] Hispanic or Latino(of any race)[2]  \n",
       "0                       2.6%                               4.8%  \n",
       "1                       0.0%                              92.2%  \n",
       "2                       0.3%                              15.8%  \n",
       "3                       1.5%                              51.8%  \n",
       "4                       3.3%                               2.2%  "
      ]
     },
     "execution_count": 33,
     "metadata": {},
     "output_type": "execute_result"
    }
   ],
   "source": [
    "cityrace=pd.read_csv('race_by_places.csv')\n",
    "cityrace.head()"
   ]
  },
  {
   "cell_type": "code",
   "execution_count": 34,
   "metadata": {},
   "outputs": [
    {
     "data": {
      "text/html": [
       "<div>\n",
       "<style scoped>\n",
       "    .dataframe tbody tr th:only-of-type {\n",
       "        vertical-align: middle;\n",
       "    }\n",
       "\n",
       "    .dataframe tbody tr th {\n",
       "        vertical-align: top;\n",
       "    }\n",
       "\n",
       "    .dataframe thead th {\n",
       "        text-align: right;\n",
       "    }\n",
       "</style>\n",
       "<table border=\"1\" class=\"dataframe\">\n",
       "  <thead>\n",
       "    <tr style=\"text-align: right;\">\n",
       "      <th></th>\n",
       "      <th>RegionID</th>\n",
       "      <th>SizeRank</th>\n",
       "      <th>RegionName</th>\n",
       "      <th>RegionType</th>\n",
       "      <th>StateName</th>\n",
       "      <th>State</th>\n",
       "      <th>Metro</th>\n",
       "      <th>CountyName</th>\n",
       "      <th>1996-01-31</th>\n",
       "      <th>1996-02-29</th>\n",
       "      <th>...</th>\n",
       "      <th>2020-06-30</th>\n",
       "      <th>2020-07-31</th>\n",
       "      <th>2020-08-31</th>\n",
       "      <th>2020-09-30</th>\n",
       "      <th>2020-10-31</th>\n",
       "      <th>2020-11-30</th>\n",
       "      <th>2020-12-31</th>\n",
       "      <th>2021-01-31</th>\n",
       "      <th>2021-02-28</th>\n",
       "      <th>2021-03-31</th>\n",
       "    </tr>\n",
       "  </thead>\n",
       "  <tbody>\n",
       "    <tr>\n",
       "      <th>1</th>\n",
       "      <td>12447</td>\n",
       "      <td>1</td>\n",
       "      <td>Los Angeles</td>\n",
       "      <td>City</td>\n",
       "      <td>CA</td>\n",
       "      <td>CA</td>\n",
       "      <td>Los Angeles-Long Beach-Anaheim</td>\n",
       "      <td>Los Angeles County</td>\n",
       "      <td>195863.0</td>\n",
       "      <td>195908.0</td>\n",
       "      <td>...</td>\n",
       "      <td>806355.0</td>\n",
       "      <td>813477.0</td>\n",
       "      <td>823456.0</td>\n",
       "      <td>834844.0</td>\n",
       "      <td>843226.0</td>\n",
       "      <td>850778.0</td>\n",
       "      <td>857116.0</td>\n",
       "      <td>863334.0</td>\n",
       "      <td>870550.0</td>\n",
       "      <td>878222.0</td>\n",
       "    </tr>\n",
       "    <tr>\n",
       "      <th>8</th>\n",
       "      <td>54296</td>\n",
       "      <td>8</td>\n",
       "      <td>San Diego</td>\n",
       "      <td>City</td>\n",
       "      <td>CA</td>\n",
       "      <td>CA</td>\n",
       "      <td>San Diego-Carlsbad</td>\n",
       "      <td>San Diego County</td>\n",
       "      <td>210754.0</td>\n",
       "      <td>210405.0</td>\n",
       "      <td>...</td>\n",
       "      <td>740653.0</td>\n",
       "      <td>745322.0</td>\n",
       "      <td>752642.0</td>\n",
       "      <td>763678.0</td>\n",
       "      <td>775903.0</td>\n",
       "      <td>788557.0</td>\n",
       "      <td>800956.0</td>\n",
       "      <td>813345.0</td>\n",
       "      <td>824797.0</td>\n",
       "      <td>836058.0</td>\n",
       "    </tr>\n",
       "    <tr>\n",
       "      <th>11</th>\n",
       "      <td>33839</td>\n",
       "      <td>11</td>\n",
       "      <td>San Jose</td>\n",
       "      <td>City</td>\n",
       "      <td>CA</td>\n",
       "      <td>CA</td>\n",
       "      <td>San Jose-Sunnyvale-Santa Clara</td>\n",
       "      <td>Santa Clara County</td>\n",
       "      <td>222015.0</td>\n",
       "      <td>221406.0</td>\n",
       "      <td>...</td>\n",
       "      <td>1115290.0</td>\n",
       "      <td>1128914.0</td>\n",
       "      <td>1149986.0</td>\n",
       "      <td>1165867.0</td>\n",
       "      <td>1184287.0</td>\n",
       "      <td>1197558.0</td>\n",
       "      <td>1212103.0</td>\n",
       "      <td>1220718.0</td>\n",
       "      <td>1226650.0</td>\n",
       "      <td>1229632.0</td>\n",
       "    </tr>\n",
       "    <tr>\n",
       "      <th>14</th>\n",
       "      <td>20330</td>\n",
       "      <td>14</td>\n",
       "      <td>San Francisco</td>\n",
       "      <td>City</td>\n",
       "      <td>CA</td>\n",
       "      <td>CA</td>\n",
       "      <td>San Francisco-Oakland-Hayward</td>\n",
       "      <td>San Francisco County</td>\n",
       "      <td>303478.0</td>\n",
       "      <td>302469.0</td>\n",
       "      <td>...</td>\n",
       "      <td>1511156.0</td>\n",
       "      <td>1503119.0</td>\n",
       "      <td>1504855.0</td>\n",
       "      <td>1511317.0</td>\n",
       "      <td>1509750.0</td>\n",
       "      <td>1508687.0</td>\n",
       "      <td>1504688.0</td>\n",
       "      <td>1508274.0</td>\n",
       "      <td>1509599.0</td>\n",
       "      <td>1516229.0</td>\n",
       "    </tr>\n",
       "    <tr>\n",
       "      <th>30</th>\n",
       "      <td>20288</td>\n",
       "      <td>30</td>\n",
       "      <td>Sacramento</td>\n",
       "      <td>City</td>\n",
       "      <td>CA</td>\n",
       "      <td>CA</td>\n",
       "      <td>Sacramento--Roseville--Arden-Arcade</td>\n",
       "      <td>Sacramento County</td>\n",
       "      <td>110933.0</td>\n",
       "      <td>110406.0</td>\n",
       "      <td>...</td>\n",
       "      <td>375663.0</td>\n",
       "      <td>378504.0</td>\n",
       "      <td>383128.0</td>\n",
       "      <td>388622.0</td>\n",
       "      <td>394561.0</td>\n",
       "      <td>399526.0</td>\n",
       "      <td>404714.0</td>\n",
       "      <td>409785.0</td>\n",
       "      <td>416296.0</td>\n",
       "      <td>422178.0</td>\n",
       "    </tr>\n",
       "  </tbody>\n",
       "</table>\n",
       "<p>5 rows × 311 columns</p>\n",
       "</div>"
      ],
      "text/plain": [
       "    RegionID  SizeRank     RegionName RegionType StateName State  \\\n",
       "1      12447         1    Los Angeles       City        CA    CA   \n",
       "8      54296         8      San Diego       City        CA    CA   \n",
       "11     33839        11       San Jose       City        CA    CA   \n",
       "14     20330        14  San Francisco       City        CA    CA   \n",
       "30     20288        30     Sacramento       City        CA    CA   \n",
       "\n",
       "                                  Metro            CountyName  1996-01-31  \\\n",
       "1        Los Angeles-Long Beach-Anaheim    Los Angeles County    195863.0   \n",
       "8                    San Diego-Carlsbad      San Diego County    210754.0   \n",
       "11       San Jose-Sunnyvale-Santa Clara    Santa Clara County    222015.0   \n",
       "14        San Francisco-Oakland-Hayward  San Francisco County    303478.0   \n",
       "30  Sacramento--Roseville--Arden-Arcade     Sacramento County    110933.0   \n",
       "\n",
       "    1996-02-29  ...  2020-06-30  2020-07-31  2020-08-31  2020-09-30  \\\n",
       "1     195908.0  ...    806355.0    813477.0    823456.0    834844.0   \n",
       "8     210405.0  ...    740653.0    745322.0    752642.0    763678.0   \n",
       "11    221406.0  ...   1115290.0   1128914.0   1149986.0   1165867.0   \n",
       "14    302469.0  ...   1511156.0   1503119.0   1504855.0   1511317.0   \n",
       "30    110406.0  ...    375663.0    378504.0    383128.0    388622.0   \n",
       "\n",
       "    2020-10-31  2020-11-30  2020-12-31  2021-01-31  2021-02-28  2021-03-31  \n",
       "1     843226.0    850778.0    857116.0    863334.0    870550.0    878222.0  \n",
       "8     775903.0    788557.0    800956.0    813345.0    824797.0    836058.0  \n",
       "11   1184287.0   1197558.0   1212103.0   1220718.0   1226650.0   1229632.0  \n",
       "14   1509750.0   1508687.0   1504688.0   1508274.0   1509599.0   1516229.0  \n",
       "30    394561.0    399526.0    404714.0    409785.0    416296.0    422178.0  \n",
       "\n",
       "[5 rows x 311 columns]"
      ]
     },
     "execution_count": 34,
     "metadata": {},
     "output_type": "execute_result"
    }
   ],
   "source": [
    "housing = pd.read_csv(\"city_housing.csv\")\n",
    "housing = housing[housing['State']==\"CA\"]\n",
    "housing.head()\n",
    "#rh = pd.merge(eth,housing,on=[''])"
   ]
  },
  {
   "cell_type": "code",
   "execution_count": 35,
   "metadata": {},
   "outputs": [
    {
     "data": {
      "text/html": [
       "<div>\n",
       "<style scoped>\n",
       "    .dataframe tbody tr th:only-of-type {\n",
       "        vertical-align: middle;\n",
       "    }\n",
       "\n",
       "    .dataframe tbody tr th {\n",
       "        vertical-align: top;\n",
       "    }\n",
       "\n",
       "    .dataframe thead th {\n",
       "        text-align: right;\n",
       "    }\n",
       "</style>\n",
       "<table border=\"1\" class=\"dataframe\">\n",
       "  <thead>\n",
       "    <tr style=\"text-align: right;\">\n",
       "      <th></th>\n",
       "      <th>Place</th>\n",
       "      <th>County/ies[3][note 3]</th>\n",
       "      <th>Population</th>\n",
       "      <th>White</th>\n",
       "      <th>other</th>\n",
       "      <th>Asian</th>\n",
       "      <th>Black or AfricanAmerican</th>\n",
       "      <th>Native American</th>\n",
       "      <th>Hispanic or Latino</th>\n",
       "      <th>RegionID</th>\n",
       "      <th>...</th>\n",
       "      <th>2020-06-30</th>\n",
       "      <th>2020-07-31</th>\n",
       "      <th>2020-08-31</th>\n",
       "      <th>2020-09-30</th>\n",
       "      <th>2020-10-31</th>\n",
       "      <th>2020-11-30</th>\n",
       "      <th>2020-12-31</th>\n",
       "      <th>2021-01-31</th>\n",
       "      <th>2021-02-28</th>\n",
       "      <th>2021-03-31</th>\n",
       "    </tr>\n",
       "  </thead>\n",
       "  <tbody>\n",
       "    <tr>\n",
       "      <th>0</th>\n",
       "      <td>Acampo</td>\n",
       "      <td>San Joaquin</td>\n",
       "      <td>387</td>\n",
       "      <td>100.0%</td>\n",
       "      <td>0.0%</td>\n",
       "      <td>0.0%</td>\n",
       "      <td>0.0%</td>\n",
       "      <td>0.0%</td>\n",
       "      <td>92.2%</td>\n",
       "      <td>43820</td>\n",
       "      <td>...</td>\n",
       "      <td>581730.0</td>\n",
       "      <td>589415.0</td>\n",
       "      <td>599056.0</td>\n",
       "      <td>612331.0</td>\n",
       "      <td>623832.0</td>\n",
       "      <td>636628.0</td>\n",
       "      <td>650524.0</td>\n",
       "      <td>665789.0</td>\n",
       "      <td>683425.0</td>\n",
       "      <td>698167.0</td>\n",
       "    </tr>\n",
       "    <tr>\n",
       "      <th>1</th>\n",
       "      <td>Acton</td>\n",
       "      <td>Los Angeles</td>\n",
       "      <td>7,138</td>\n",
       "      <td>87.5%</td>\n",
       "      <td>10.9%</td>\n",
       "      <td>1.2%</td>\n",
       "      <td>0.2%</td>\n",
       "      <td>0.3%</td>\n",
       "      <td>15.8%</td>\n",
       "      <td>16677</td>\n",
       "      <td>...</td>\n",
       "      <td>632247.0</td>\n",
       "      <td>637643.0</td>\n",
       "      <td>646304.0</td>\n",
       "      <td>657006.0</td>\n",
       "      <td>666522.0</td>\n",
       "      <td>675749.0</td>\n",
       "      <td>684526.0</td>\n",
       "      <td>692577.0</td>\n",
       "      <td>702135.0</td>\n",
       "      <td>711826.0</td>\n",
       "    </tr>\n",
       "    <tr>\n",
       "      <th>2</th>\n",
       "      <td>Adelanto</td>\n",
       "      <td>San Bernardino</td>\n",
       "      <td>30,670</td>\n",
       "      <td>55.5%</td>\n",
       "      <td>19.4%</td>\n",
       "      <td>2.4%</td>\n",
       "      <td>21.1%</td>\n",
       "      <td>1.5%</td>\n",
       "      <td>51.8%</td>\n",
       "      <td>16684</td>\n",
       "      <td>...</td>\n",
       "      <td>247796.0</td>\n",
       "      <td>249791.0</td>\n",
       "      <td>252874.0</td>\n",
       "      <td>256009.0</td>\n",
       "      <td>259219.0</td>\n",
       "      <td>262529.0</td>\n",
       "      <td>266591.0</td>\n",
       "      <td>270987.0</td>\n",
       "      <td>275475.0</td>\n",
       "      <td>279876.0</td>\n",
       "    </tr>\n",
       "    <tr>\n",
       "      <th>3</th>\n",
       "      <td>Adin</td>\n",
       "      <td>Modoc</td>\n",
       "      <td>418</td>\n",
       "      <td>96.7%</td>\n",
       "      <td>0.0%</td>\n",
       "      <td>0.0%</td>\n",
       "      <td>0.0%</td>\n",
       "      <td>3.3%</td>\n",
       "      <td>2.2%</td>\n",
       "      <td>23409</td>\n",
       "      <td>...</td>\n",
       "      <td>153860.0</td>\n",
       "      <td>154107.0</td>\n",
       "      <td>155257.0</td>\n",
       "      <td>156211.0</td>\n",
       "      <td>156798.0</td>\n",
       "      <td>157494.0</td>\n",
       "      <td>158154.0</td>\n",
       "      <td>158658.0</td>\n",
       "      <td>159056.0</td>\n",
       "      <td>159447.0</td>\n",
       "    </tr>\n",
       "    <tr>\n",
       "      <th>4</th>\n",
       "      <td>Agoura Hills</td>\n",
       "      <td>Los Angeles</td>\n",
       "      <td>20,353</td>\n",
       "      <td>83.1%</td>\n",
       "      <td>9.0%</td>\n",
       "      <td>6.4%</td>\n",
       "      <td>1.6%</td>\n",
       "      <td>0.0%</td>\n",
       "      <td>11.4%</td>\n",
       "      <td>9840</td>\n",
       "      <td>...</td>\n",
       "      <td>997646.0</td>\n",
       "      <td>1005876.0</td>\n",
       "      <td>1017141.0</td>\n",
       "      <td>1028938.0</td>\n",
       "      <td>1038420.0</td>\n",
       "      <td>1046614.0</td>\n",
       "      <td>1054375.0</td>\n",
       "      <td>1061815.0</td>\n",
       "      <td>1070372.0</td>\n",
       "      <td>1079057.0</td>\n",
       "    </tr>\n",
       "  </tbody>\n",
       "</table>\n",
       "<p>5 rows × 320 columns</p>\n",
       "</div>"
      ],
      "text/plain": [
       "          Place County/ies[3][note 3] Population   White  other Asian  \\\n",
       "0        Acampo           San Joaquin        387  100.0%   0.0%  0.0%   \n",
       "1         Acton           Los Angeles      7,138   87.5%  10.9%  1.2%   \n",
       "2      Adelanto        San Bernardino     30,670   55.5%  19.4%  2.4%   \n",
       "3          Adin                 Modoc        418   96.7%   0.0%  0.0%   \n",
       "4  Agoura Hills           Los Angeles     20,353   83.1%   9.0%  6.4%   \n",
       "\n",
       "  Black or AfricanAmerican Native American Hispanic or Latino  RegionID  ...  \\\n",
       "0                     0.0%            0.0%              92.2%     43820  ...   \n",
       "1                     0.2%            0.3%              15.8%     16677  ...   \n",
       "2                    21.1%            1.5%              51.8%     16684  ...   \n",
       "3                     0.0%            3.3%               2.2%     23409  ...   \n",
       "4                     1.6%            0.0%              11.4%      9840  ...   \n",
       "\n",
       "   2020-06-30 2020-07-31 2020-08-31 2020-09-30 2020-10-31 2020-11-30  \\\n",
       "0    581730.0   589415.0   599056.0   612331.0   623832.0   636628.0   \n",
       "1    632247.0   637643.0   646304.0   657006.0   666522.0   675749.0   \n",
       "2    247796.0   249791.0   252874.0   256009.0   259219.0   262529.0   \n",
       "3    153860.0   154107.0   155257.0   156211.0   156798.0   157494.0   \n",
       "4    997646.0  1005876.0  1017141.0  1028938.0  1038420.0  1046614.0   \n",
       "\n",
       "  2020-12-31  2021-01-31  2021-02-28  2021-03-31  \n",
       "0   650524.0    665789.0    683425.0    698167.0  \n",
       "1   684526.0    692577.0    702135.0    711826.0  \n",
       "2   266591.0    270987.0    275475.0    279876.0  \n",
       "3   158154.0    158658.0    159056.0    159447.0  \n",
       "4  1054375.0   1061815.0   1070372.0   1079057.0  \n",
       "\n",
       "[5 rows x 320 columns]"
      ]
     },
     "execution_count": 35,
     "metadata": {},
     "output_type": "execute_result"
    }
   ],
   "source": [
    "joint= pd.merge(cityrace,housing,how = \"inner\",left_on=[\"Place\"],right_on=[\"RegionName\"])\n",
    "joint.groupby(['Place']).head()\n",
    "joint = joint.rename(columns = {'White[1]':'White','Other[1][note 1]':'other',\n",
    "                                'Asian[1]':'Asian',\n",
    "                                'Black or AfricanAmerican[1]':'Black or AfricanAmerican',\n",
    "                                'Native American[1][note 2]':'Native American',\n",
    "                                'Hispanic or Latino(of any race)[2]':'Hispanic or Latino',\n",
    "                               'Population[1]':'Population'})\n",
    "joint.head()"
   ]
  },
  {
   "cell_type": "code",
   "execution_count": 36,
   "metadata": {},
   "outputs": [
    {
     "data": {
      "text/html": [
       "<div>\n",
       "<style scoped>\n",
       "    .dataframe tbody tr th:only-of-type {\n",
       "        vertical-align: middle;\n",
       "    }\n",
       "\n",
       "    .dataframe tbody tr th {\n",
       "        vertical-align: top;\n",
       "    }\n",
       "\n",
       "    .dataframe thead th {\n",
       "        text-align: right;\n",
       "    }\n",
       "</style>\n",
       "<table border=\"1\" class=\"dataframe\">\n",
       "  <thead>\n",
       "    <tr style=\"text-align: right;\">\n",
       "      <th></th>\n",
       "      <th>Place</th>\n",
       "      <th>County/ies[3][note 3]</th>\n",
       "      <th>Population</th>\n",
       "      <th>White</th>\n",
       "      <th>other</th>\n",
       "      <th>Asian</th>\n",
       "      <th>Black or AfricanAmerican</th>\n",
       "      <th>Native American</th>\n",
       "      <th>Hispanic or Latino</th>\n",
       "      <th>RegionID</th>\n",
       "      <th>...</th>\n",
       "      <th>2020-06-30</th>\n",
       "      <th>2020-07-31</th>\n",
       "      <th>2020-08-31</th>\n",
       "      <th>2020-09-30</th>\n",
       "      <th>2020-10-31</th>\n",
       "      <th>2020-11-30</th>\n",
       "      <th>2020-12-31</th>\n",
       "      <th>2021-01-31</th>\n",
       "      <th>2021-02-28</th>\n",
       "      <th>2021-03-31</th>\n",
       "    </tr>\n",
       "  </thead>\n",
       "  <tbody>\n",
       "    <tr>\n",
       "      <th>568</th>\n",
       "      <td>Monterey Park</td>\n",
       "      <td>Los Angeles</td>\n",
       "      <td>60251.0</td>\n",
       "      <td>18.8</td>\n",
       "      <td>14.9</td>\n",
       "      <td>65.4</td>\n",
       "      <td>0.3</td>\n",
       "      <td>0.6</td>\n",
       "      <td>27.7</td>\n",
       "      <td>6021</td>\n",
       "      <td>...</td>\n",
       "      <td>729896.0</td>\n",
       "      <td>735951.0</td>\n",
       "      <td>743366.0</td>\n",
       "      <td>751140.0</td>\n",
       "      <td>757236.0</td>\n",
       "      <td>762957.0</td>\n",
       "      <td>768586.0</td>\n",
       "      <td>773227.0</td>\n",
       "      <td>778568.0</td>\n",
       "      <td>782313.0</td>\n",
       "    </tr>\n",
       "    <tr>\n",
       "      <th>901</th>\n",
       "      <td>Walnut</td>\n",
       "      <td>Los Angeles</td>\n",
       "      <td>29269.0</td>\n",
       "      <td>21.7</td>\n",
       "      <td>10.5</td>\n",
       "      <td>64.8</td>\n",
       "      <td>2.7</td>\n",
       "      <td>0.2</td>\n",
       "      <td>17.6</td>\n",
       "      <td>34636</td>\n",
       "      <td>...</td>\n",
       "      <td>808228.0</td>\n",
       "      <td>814467.0</td>\n",
       "      <td>822545.0</td>\n",
       "      <td>831111.0</td>\n",
       "      <td>838228.0</td>\n",
       "      <td>845903.0</td>\n",
       "      <td>852612.0</td>\n",
       "      <td>858419.0</td>\n",
       "      <td>864502.0</td>\n",
       "      <td>869761.0</td>\n",
       "    </tr>\n",
       "    <tr>\n",
       "      <th>152</th>\n",
       "      <td>Cerritos</td>\n",
       "      <td>Los Angeles</td>\n",
       "      <td>49281.0</td>\n",
       "      <td>21.3</td>\n",
       "      <td>9.0</td>\n",
       "      <td>62.2</td>\n",
       "      <td>6.8</td>\n",
       "      <td>0.8</td>\n",
       "      <td>11.4</td>\n",
       "      <td>10774</td>\n",
       "      <td>...</td>\n",
       "      <td>776611.0</td>\n",
       "      <td>781831.0</td>\n",
       "      <td>789595.0</td>\n",
       "      <td>798326.0</td>\n",
       "      <td>804835.0</td>\n",
       "      <td>811100.0</td>\n",
       "      <td>817660.0</td>\n",
       "      <td>823938.0</td>\n",
       "      <td>830834.0</td>\n",
       "      <td>836454.0</td>\n",
       "    </tr>\n",
       "    <tr>\n",
       "      <th>732</th>\n",
       "      <td>Rosemead</td>\n",
       "      <td>Los Angeles</td>\n",
       "      <td>53725.0</td>\n",
       "      <td>21.8</td>\n",
       "      <td>15.8</td>\n",
       "      <td>60.8</td>\n",
       "      <td>0.6</td>\n",
       "      <td>0.9</td>\n",
       "      <td>31.9</td>\n",
       "      <td>54212</td>\n",
       "      <td>...</td>\n",
       "      <td>650012.0</td>\n",
       "      <td>654988.0</td>\n",
       "      <td>662056.0</td>\n",
       "      <td>669421.0</td>\n",
       "      <td>674552.0</td>\n",
       "      <td>679402.0</td>\n",
       "      <td>684278.0</td>\n",
       "      <td>688250.0</td>\n",
       "      <td>691800.0</td>\n",
       "      <td>694809.0</td>\n",
       "    </tr>\n",
       "    <tr>\n",
       "      <th>207</th>\n",
       "      <td>Cupertino</td>\n",
       "      <td>Santa Clara</td>\n",
       "      <td>57459.0</td>\n",
       "      <td>34.6</td>\n",
       "      <td>3.9</td>\n",
       "      <td>60.7</td>\n",
       "      <td>0.4</td>\n",
       "      <td>0.4</td>\n",
       "      <td>4.3</td>\n",
       "      <td>4281</td>\n",
       "      <td>...</td>\n",
       "      <td>2237764.0</td>\n",
       "      <td>2264914.0</td>\n",
       "      <td>2306485.0</td>\n",
       "      <td>2340409.0</td>\n",
       "      <td>2373693.0</td>\n",
       "      <td>2396441.0</td>\n",
       "      <td>2420148.0</td>\n",
       "      <td>2433401.0</td>\n",
       "      <td>2441106.0</td>\n",
       "      <td>2442534.0</td>\n",
       "    </tr>\n",
       "  </tbody>\n",
       "</table>\n",
       "<p>5 rows × 320 columns</p>\n",
       "</div>"
      ],
      "text/plain": [
       "             Place County/ies[3][note 3]  Population  White  other  Asian  \\\n",
       "568  Monterey Park           Los Angeles     60251.0   18.8   14.9   65.4   \n",
       "901         Walnut           Los Angeles     29269.0   21.7   10.5   64.8   \n",
       "152       Cerritos           Los Angeles     49281.0   21.3    9.0   62.2   \n",
       "732       Rosemead           Los Angeles     53725.0   21.8   15.8   60.8   \n",
       "207      Cupertino           Santa Clara     57459.0   34.6    3.9   60.7   \n",
       "\n",
       "     Black or AfricanAmerican  Native American  Hispanic or Latino  RegionID  \\\n",
       "568                       0.3              0.6                27.7      6021   \n",
       "901                       2.7              0.2                17.6     34636   \n",
       "152                       6.8              0.8                11.4     10774   \n",
       "732                       0.6              0.9                31.9     54212   \n",
       "207                       0.4              0.4                 4.3      4281   \n",
       "\n",
       "     ...  2020-06-30 2020-07-31 2020-08-31 2020-09-30 2020-10-31 2020-11-30  \\\n",
       "568  ...    729896.0   735951.0   743366.0   751140.0   757236.0   762957.0   \n",
       "901  ...    808228.0   814467.0   822545.0   831111.0   838228.0   845903.0   \n",
       "152  ...    776611.0   781831.0   789595.0   798326.0   804835.0   811100.0   \n",
       "732  ...    650012.0   654988.0   662056.0   669421.0   674552.0   679402.0   \n",
       "207  ...   2237764.0  2264914.0  2306485.0  2340409.0  2373693.0  2396441.0   \n",
       "\n",
       "    2020-12-31  2021-01-31  2021-02-28  2021-03-31  \n",
       "568   768586.0    773227.0    778568.0    782313.0  \n",
       "901   852612.0    858419.0    864502.0    869761.0  \n",
       "152   817660.0    823938.0    830834.0    836454.0  \n",
       "732   684278.0    688250.0    691800.0    694809.0  \n",
       "207  2420148.0   2433401.0   2441106.0   2442534.0  \n",
       "\n",
       "[5 rows x 320 columns]"
      ]
     },
     "execution_count": 36,
     "metadata": {},
     "output_type": "execute_result"
    }
   ],
   "source": [
    "joint[\"White\"]=joint[\"White\"].str.replace('[^\\d\\.]', '').astype(float)\n",
    "joint[\"other\"]=joint[\"other\"].str.replace('[^\\d\\.]', '').astype(float)\n",
    "joint[\"Asian\"]=joint[\"Asian\"].str.replace('[^\\d\\.]', '').astype(float)\n",
    "joint[\"Black or AfricanAmerican\"]=joint[\"Black or AfricanAmerican\"].str.replace('[^\\d\\.]', '').astype(float)\n",
    "joint[\"Native American\"]=joint[\"Native American\"].str.replace('[^\\d\\.]', '').astype(float)\n",
    "joint[\"Hispanic or Latino\"]=joint[\"Hispanic or Latino\"].str.replace('[^\\d\\.]', '').astype(float)\n",
    "joint[\"Population\"]=joint[\"Population\"].str.replace('[^\\d\\.]', '').astype(float)\n",
    "#joint[\"Population\"] = joint[\"Population\"].astype(float)\n",
    "\n",
    "joint\n",
    "\n",
    "asiantop = joint.sort_values(by = 'Asian',ascending = False).head()\n",
    "asiantop\n"
   ]
  },
  {
   "cell_type": "code",
   "execution_count": 37,
   "metadata": {},
   "outputs": [
    {
     "data": {
      "text/html": [
       "<div>\n",
       "<style scoped>\n",
       "    .dataframe tbody tr th:only-of-type {\n",
       "        vertical-align: middle;\n",
       "    }\n",
       "\n",
       "    .dataframe tbody tr th {\n",
       "        vertical-align: top;\n",
       "    }\n",
       "\n",
       "    .dataframe thead th {\n",
       "        text-align: right;\n",
       "    }\n",
       "</style>\n",
       "<table border=\"1\" class=\"dataframe\">\n",
       "  <thead>\n",
       "    <tr style=\"text-align: right;\">\n",
       "      <th></th>\n",
       "      <th>City</th>\n",
       "      <th>date</th>\n",
       "      <th>value</th>\n",
       "    </tr>\n",
       "  </thead>\n",
       "  <tbody>\n",
       "    <tr>\n",
       "      <th>0</th>\n",
       "      <td>Monterey Park</td>\n",
       "      <td>1996-01-31</td>\n",
       "      <td>191157.0</td>\n",
       "    </tr>\n",
       "    <tr>\n",
       "      <th>1</th>\n",
       "      <td>Monterey Park</td>\n",
       "      <td>1996-02-29</td>\n",
       "      <td>190865.0</td>\n",
       "    </tr>\n",
       "    <tr>\n",
       "      <th>2</th>\n",
       "      <td>Monterey Park</td>\n",
       "      <td>1996-03-31</td>\n",
       "      <td>190874.0</td>\n",
       "    </tr>\n",
       "    <tr>\n",
       "      <th>3</th>\n",
       "      <td>Monterey Park</td>\n",
       "      <td>1996-04-30</td>\n",
       "      <td>190782.0</td>\n",
       "    </tr>\n",
       "    <tr>\n",
       "      <th>4</th>\n",
       "      <td>Monterey Park</td>\n",
       "      <td>1996-05-31</td>\n",
       "      <td>190701.0</td>\n",
       "    </tr>\n",
       "    <tr>\n",
       "      <th>...</th>\n",
       "      <td>...</td>\n",
       "      <td>...</td>\n",
       "      <td>...</td>\n",
       "    </tr>\n",
       "    <tr>\n",
       "      <th>1510</th>\n",
       "      <td>Cupertino</td>\n",
       "      <td>2020-11-30</td>\n",
       "      <td>2396441.0</td>\n",
       "    </tr>\n",
       "    <tr>\n",
       "      <th>1511</th>\n",
       "      <td>Cupertino</td>\n",
       "      <td>2020-12-31</td>\n",
       "      <td>2420148.0</td>\n",
       "    </tr>\n",
       "    <tr>\n",
       "      <th>1512</th>\n",
       "      <td>Cupertino</td>\n",
       "      <td>2021-01-31</td>\n",
       "      <td>2433401.0</td>\n",
       "    </tr>\n",
       "    <tr>\n",
       "      <th>1513</th>\n",
       "      <td>Cupertino</td>\n",
       "      <td>2021-02-28</td>\n",
       "      <td>2441106.0</td>\n",
       "    </tr>\n",
       "    <tr>\n",
       "      <th>1514</th>\n",
       "      <td>Cupertino</td>\n",
       "      <td>2021-03-31</td>\n",
       "      <td>2442534.0</td>\n",
       "    </tr>\n",
       "  </tbody>\n",
       "</table>\n",
       "<p>1515 rows × 3 columns</p>\n",
       "</div>"
      ],
      "text/plain": [
       "               City        date      value\n",
       "0     Monterey Park  1996-01-31   191157.0\n",
       "1     Monterey Park  1996-02-29   190865.0\n",
       "2     Monterey Park  1996-03-31   190874.0\n",
       "3     Monterey Park  1996-04-30   190782.0\n",
       "4     Monterey Park  1996-05-31   190701.0\n",
       "...             ...         ...        ...\n",
       "1510      Cupertino  2020-11-30  2396441.0\n",
       "1511      Cupertino  2020-12-31  2420148.0\n",
       "1512      Cupertino  2021-01-31  2433401.0\n",
       "1513      Cupertino  2021-02-28  2441106.0\n",
       "1514      Cupertino  2021-03-31  2442534.0\n",
       "\n",
       "[1515 rows x 3 columns]"
      ]
     },
     "execution_count": 37,
     "metadata": {},
     "output_type": "execute_result"
    }
   ],
   "source": [
    "\n",
    "asiantop = joint.sort_values(by = 'Asian',ascending = False).head()\n",
    "asianlow = joint.sort_values(by = 'Asian',ascending = True).head()\n",
    "\n",
    "asiantop.drop(asiantop.iloc[:, 0:17], inplace = True, axis = 1)\n",
    "asiantop.head()\n",
    "#asiantop.set_index('Place')\n",
    "asiantop= asiantop.stack().to_frame().reset_index()\n",
    "asiantop = asiantop.rename(columns = {'level_1':'date',0:'value','level_0':'City'})\n",
    "asiantop[\"City\"].replace({568: \"Monterey Park\",901:\"Walnut\",152:\"Cerritos\",732:\"Rosemea\",207:\"Cupertino\"}, inplace=True)\n",
    "\n",
    "asiantop\n",
    "#asiantop"
   ]
  },
  {
   "cell_type": "code",
   "execution_count": 38,
   "metadata": {},
   "outputs": [
    {
     "data": {
      "application/vnd.plotly.v1+json": {
       "config": {
        "plotlyServerURL": "https://plot.ly"
       },
       "data": [
        {
         "hovertemplate": "City=Monterey Park<br>date=%{x}<br>value=%{y}<extra></extra>",
         "legendgroup": "Monterey Park",
         "line": {
          "color": "#636efa",
          "dash": "solid"
         },
         "mode": "lines",
         "name": "Monterey Park",
         "showlegend": true,
         "type": "scattergl",
         "x": [
          "1996-01-31",
          "1996-02-29",
          "1996-03-31",
          "1996-04-30",
          "1996-05-31",
          "1996-06-30",
          "1996-07-31",
          "1996-08-31",
          "1996-09-30",
          "1996-10-31",
          "1996-11-30",
          "1996-12-31",
          "1997-01-31",
          "1997-02-28",
          "1997-03-31",
          "1997-04-30",
          "1997-05-31",
          "1997-06-30",
          "1997-07-31",
          "1997-08-31",
          "1997-09-30",
          "1997-10-31",
          "1997-11-30",
          "1997-12-31",
          "1998-01-31",
          "1998-02-28",
          "1998-03-31",
          "1998-04-30",
          "1998-05-31",
          "1998-06-30",
          "1998-07-31",
          "1998-08-31",
          "1998-09-30",
          "1998-10-31",
          "1998-11-30",
          "1998-12-31",
          "1999-01-31",
          "1999-02-28",
          "1999-03-31",
          "1999-04-30",
          "1999-05-31",
          "1999-06-30",
          "1999-07-31",
          "1999-08-31",
          "1999-09-30",
          "1999-10-31",
          "1999-11-30",
          "1999-12-31",
          "2000-01-31",
          "2000-02-29",
          "2000-03-31",
          "2000-04-30",
          "2000-05-31",
          "2000-06-30",
          "2000-07-31",
          "2000-08-31",
          "2000-09-30",
          "2000-10-31",
          "2000-11-30",
          "2000-12-31",
          "2001-01-31",
          "2001-02-28",
          "2001-03-31",
          "2001-04-30",
          "2001-05-31",
          "2001-06-30",
          "2001-07-31",
          "2001-08-31",
          "2001-09-30",
          "2001-10-31",
          "2001-11-30",
          "2001-12-31",
          "2002-01-31",
          "2002-02-28",
          "2002-03-31",
          "2002-04-30",
          "2002-05-31",
          "2002-06-30",
          "2002-07-31",
          "2002-08-31",
          "2002-09-30",
          "2002-10-31",
          "2002-11-30",
          "2002-12-31",
          "2003-01-31",
          "2003-02-28",
          "2003-03-31",
          "2003-04-30",
          "2003-05-31",
          "2003-06-30",
          "2003-07-31",
          "2003-08-31",
          "2003-09-30",
          "2003-10-31",
          "2003-11-30",
          "2003-12-31",
          "2004-01-31",
          "2004-02-29",
          "2004-03-31",
          "2004-04-30",
          "2004-05-31",
          "2004-06-30",
          "2004-07-31",
          "2004-08-31",
          "2004-09-30",
          "2004-10-31",
          "2004-11-30",
          "2004-12-31",
          "2005-01-31",
          "2005-02-28",
          "2005-03-31",
          "2005-04-30",
          "2005-05-31",
          "2005-06-30",
          "2005-07-31",
          "2005-08-31",
          "2005-09-30",
          "2005-10-31",
          "2005-11-30",
          "2005-12-31",
          "2006-01-31",
          "2006-02-28",
          "2006-03-31",
          "2006-04-30",
          "2006-05-31",
          "2006-06-30",
          "2006-07-31",
          "2006-08-31",
          "2006-09-30",
          "2006-10-31",
          "2006-11-30",
          "2006-12-31",
          "2007-01-31",
          "2007-02-28",
          "2007-03-31",
          "2007-04-30",
          "2007-05-31",
          "2007-06-30",
          "2007-07-31",
          "2007-08-31",
          "2007-09-30",
          "2007-10-31",
          "2007-11-30",
          "2007-12-31",
          "2008-01-31",
          "2008-02-29",
          "2008-03-31",
          "2008-04-30",
          "2008-05-31",
          "2008-06-30",
          "2008-07-31",
          "2008-08-31",
          "2008-09-30",
          "2008-10-31",
          "2008-11-30",
          "2008-12-31",
          "2009-01-31",
          "2009-02-28",
          "2009-03-31",
          "2009-04-30",
          "2009-05-31",
          "2009-06-30",
          "2009-07-31",
          "2009-08-31",
          "2009-09-30",
          "2009-10-31",
          "2009-11-30",
          "2009-12-31",
          "2010-01-31",
          "2010-02-28",
          "2010-03-31",
          "2010-04-30",
          "2010-05-31",
          "2010-06-30",
          "2010-07-31",
          "2010-08-31",
          "2010-09-30",
          "2010-10-31",
          "2010-11-30",
          "2010-12-31",
          "2011-01-31",
          "2011-02-28",
          "2011-03-31",
          "2011-04-30",
          "2011-05-31",
          "2011-06-30",
          "2011-07-31",
          "2011-08-31",
          "2011-09-30",
          "2011-10-31",
          "2011-11-30",
          "2011-12-31",
          "2012-01-31",
          "2012-02-29",
          "2012-03-31",
          "2012-04-30",
          "2012-05-31",
          "2012-06-30",
          "2012-07-31",
          "2012-08-31",
          "2012-09-30",
          "2012-10-31",
          "2012-11-30",
          "2012-12-31",
          "2013-01-31",
          "2013-02-28",
          "2013-03-31",
          "2013-04-30",
          "2013-05-31",
          "2013-06-30",
          "2013-07-31",
          "2013-08-31",
          "2013-09-30",
          "2013-10-31",
          "2013-11-30",
          "2013-12-31",
          "2014-01-31",
          "2014-02-28",
          "2014-03-31",
          "2014-04-30",
          "2014-05-31",
          "2014-06-30",
          "2014-07-31",
          "2014-08-31",
          "2014-09-30",
          "2014-10-31",
          "2014-11-30",
          "2014-12-31",
          "2015-01-31",
          "2015-02-28",
          "2015-03-31",
          "2015-04-30",
          "2015-05-31",
          "2015-06-30",
          "2015-07-31",
          "2015-08-31",
          "2015-09-30",
          "2015-10-31",
          "2015-11-30",
          "2015-12-31",
          "2016-01-31",
          "2016-02-29",
          "2016-03-31",
          "2016-04-30",
          "2016-05-31",
          "2016-06-30",
          "2016-07-31",
          "2016-08-31",
          "2016-09-30",
          "2016-10-31",
          "2016-11-30",
          "2016-12-31",
          "2017-01-31",
          "2017-02-28",
          "2017-03-31",
          "2017-04-30",
          "2017-05-31",
          "2017-06-30",
          "2017-07-31",
          "2017-08-31",
          "2017-09-30",
          "2017-10-31",
          "2017-11-30",
          "2017-12-31",
          "2018-01-31",
          "2018-02-28",
          "2018-03-31",
          "2018-04-30",
          "2018-05-31",
          "2018-06-30",
          "2018-07-31",
          "2018-08-31",
          "2018-09-30",
          "2018-10-31",
          "2018-11-30",
          "2018-12-31",
          "2019-01-31",
          "2019-02-28",
          "2019-03-31",
          "2019-04-30",
          "2019-05-31",
          "2019-06-30",
          "2019-07-31",
          "2019-08-31",
          "2019-09-30",
          "2019-10-31",
          "2019-11-30",
          "2019-12-31",
          "2020-01-31",
          "2020-02-29",
          "2020-03-31",
          "2020-04-30",
          "2020-05-31",
          "2020-06-30",
          "2020-07-31",
          "2020-08-31",
          "2020-09-30",
          "2020-10-31",
          "2020-11-30",
          "2020-12-31",
          "2021-01-31",
          "2021-02-28",
          "2021-03-31"
         ],
         "xaxis": "x",
         "y": [
          191157,
          190865,
          190874,
          190782,
          190701,
          190528,
          190572,
          190443,
          190194,
          189910,
          189765,
          190028,
          189211,
          188777,
          187971,
          188054,
          188245,
          188585,
          188893,
          189571,
          190470,
          191330,
          191846,
          192318,
          194358,
          196465,
          198716,
          199997,
          201377,
          202498,
          203343,
          204466,
          206000,
          207811,
          209961,
          211544,
          213295,
          214738,
          216205,
          217231,
          217823,
          219531,
          221289,
          222170,
          222341,
          222970,
          224157,
          224939,
          225356,
          226011,
          227516,
          229375,
          231494,
          233093,
          234999,
          237804,
          240884,
          243047,
          244800,
          247288,
          249840,
          252196,
          253924,
          256287,
          258845,
          261608,
          263585,
          264836,
          265969,
          268358,
          270852,
          273045,
          275188,
          278070,
          281662,
          285039,
          287902,
          291101,
          295396,
          300827,
          306265,
          311286,
          316569,
          322301,
          327546,
          331677,
          335653,
          339326,
          344124,
          348010,
          352987,
          357265,
          362083,
          366422,
          372311,
          378725,
          386613,
          394521,
          402832,
          412488,
          423307,
          434003,
          442747,
          450976,
          460259,
          469224,
          476171,
          482045,
          486811,
          494334,
          501143,
          508061,
          512127,
          518292,
          525942,
          534970,
          543830,
          553537,
          561603,
          568743,
          575651,
          580993,
          587313,
          591680,
          598093,
          602068,
          605441,
          606961,
          605700,
          603890,
          602766,
          603527,
          602712,
          601243,
          598968,
          599327,
          598219,
          596974,
          592906,
          587470,
          580627,
          572707,
          566737,
          561020,
          556445,
          549865,
          540753,
          528471,
          515230,
          504808,
          495587,
          489202,
          485252,
          483104,
          478289,
          469198,
          462708,
          459695,
          458191,
          456421,
          455789,
          455037,
          456600,
          459624,
          463500,
          466079,
          469832,
          476481,
          479951,
          480019,
          482364,
          486824,
          493422,
          493528,
          491041,
          486410,
          482109,
          479427,
          475010,
          472900,
          471171,
          470748,
          467569,
          462791,
          456180,
          455360,
          456318,
          456657,
          455127,
          451677,
          451154,
          447797,
          446033,
          444224,
          443984,
          444607,
          446047,
          447014,
          448042,
          448063,
          449373,
          453039,
          457399,
          464774,
          469840,
          478458,
          487247,
          499086,
          508440,
          517098,
          524910,
          537100,
          547574,
          555068,
          559358,
          561403,
          565292,
          564228,
          563272,
          560020,
          559516,
          560069,
          563299,
          562314,
          561461,
          560130,
          562994,
          565138,
          568443,
          572228,
          576130,
          576910,
          578849,
          579662,
          578523,
          576864,
          576984,
          579841,
          581981,
          586166,
          588492,
          592085,
          594274,
          600009,
          603117,
          606737,
          609838,
          616000,
          622097,
          627330,
          628858,
          629850,
          632230,
          635100,
          638067,
          639687,
          643527,
          647351,
          650531,
          653361,
          655038,
          657647,
          662603,
          667933,
          672652,
          677028,
          682406,
          687417,
          691280,
          693153,
          694670,
          693118,
          692773,
          692807,
          694757,
          694791,
          694514,
          691154,
          687137,
          685678,
          688512,
          694367,
          695071,
          696086,
          696320,
          698384,
          699225,
          701331,
          705038,
          710084,
          717485,
          724462,
          728401,
          729896,
          735951,
          743366,
          751140,
          757236,
          762957,
          768586,
          773227,
          778568,
          782313
         ],
         "yaxis": "y"
        },
        {
         "hovertemplate": "City=Walnut<br>date=%{x}<br>value=%{y}<extra></extra>",
         "legendgroup": "Walnut",
         "line": {
          "color": "#EF553B",
          "dash": "solid"
         },
         "mode": "lines",
         "name": "Walnut",
         "showlegend": true,
         "type": "scattergl",
         "x": [
          "1996-01-31",
          "1996-02-29",
          "1996-03-31",
          "1996-04-30",
          "1996-05-31",
          "1996-06-30",
          "1996-07-31",
          "1996-08-31",
          "1996-09-30",
          "1996-10-31",
          "1996-11-30",
          "1996-12-31",
          "1997-01-31",
          "1997-02-28",
          "1997-03-31",
          "1997-04-30",
          "1997-05-31",
          "1997-06-30",
          "1997-07-31",
          "1997-08-31",
          "1997-09-30",
          "1997-10-31",
          "1997-11-30",
          "1997-12-31",
          "1998-01-31",
          "1998-02-28",
          "1998-03-31",
          "1998-04-30",
          "1998-05-31",
          "1998-06-30",
          "1998-07-31",
          "1998-08-31",
          "1998-09-30",
          "1998-10-31",
          "1998-11-30",
          "1998-12-31",
          "1999-01-31",
          "1999-02-28",
          "1999-03-31",
          "1999-04-30",
          "1999-05-31",
          "1999-06-30",
          "1999-07-31",
          "1999-08-31",
          "1999-09-30",
          "1999-10-31",
          "1999-11-30",
          "1999-12-31",
          "2000-01-31",
          "2000-02-29",
          "2000-03-31",
          "2000-04-30",
          "2000-05-31",
          "2000-06-30",
          "2000-07-31",
          "2000-08-31",
          "2000-09-30",
          "2000-10-31",
          "2000-11-30",
          "2000-12-31",
          "2001-01-31",
          "2001-02-28",
          "2001-03-31",
          "2001-04-30",
          "2001-05-31",
          "2001-06-30",
          "2001-07-31",
          "2001-08-31",
          "2001-09-30",
          "2001-10-31",
          "2001-11-30",
          "2001-12-31",
          "2002-01-31",
          "2002-02-28",
          "2002-03-31",
          "2002-04-30",
          "2002-05-31",
          "2002-06-30",
          "2002-07-31",
          "2002-08-31",
          "2002-09-30",
          "2002-10-31",
          "2002-11-30",
          "2002-12-31",
          "2003-01-31",
          "2003-02-28",
          "2003-03-31",
          "2003-04-30",
          "2003-05-31",
          "2003-06-30",
          "2003-07-31",
          "2003-08-31",
          "2003-09-30",
          "2003-10-31",
          "2003-11-30",
          "2003-12-31",
          "2004-01-31",
          "2004-02-29",
          "2004-03-31",
          "2004-04-30",
          "2004-05-31",
          "2004-06-30",
          "2004-07-31",
          "2004-08-31",
          "2004-09-30",
          "2004-10-31",
          "2004-11-30",
          "2004-12-31",
          "2005-01-31",
          "2005-02-28",
          "2005-03-31",
          "2005-04-30",
          "2005-05-31",
          "2005-06-30",
          "2005-07-31",
          "2005-08-31",
          "2005-09-30",
          "2005-10-31",
          "2005-11-30",
          "2005-12-31",
          "2006-01-31",
          "2006-02-28",
          "2006-03-31",
          "2006-04-30",
          "2006-05-31",
          "2006-06-30",
          "2006-07-31",
          "2006-08-31",
          "2006-09-30",
          "2006-10-31",
          "2006-11-30",
          "2006-12-31",
          "2007-01-31",
          "2007-02-28",
          "2007-03-31",
          "2007-04-30",
          "2007-05-31",
          "2007-06-30",
          "2007-07-31",
          "2007-08-31",
          "2007-09-30",
          "2007-10-31",
          "2007-11-30",
          "2007-12-31",
          "2008-01-31",
          "2008-02-29",
          "2008-03-31",
          "2008-04-30",
          "2008-05-31",
          "2008-06-30",
          "2008-07-31",
          "2008-08-31",
          "2008-09-30",
          "2008-10-31",
          "2008-11-30",
          "2008-12-31",
          "2009-01-31",
          "2009-02-28",
          "2009-03-31",
          "2009-04-30",
          "2009-05-31",
          "2009-06-30",
          "2009-07-31",
          "2009-08-31",
          "2009-09-30",
          "2009-10-31",
          "2009-11-30",
          "2009-12-31",
          "2010-01-31",
          "2010-02-28",
          "2010-03-31",
          "2010-04-30",
          "2010-05-31",
          "2010-06-30",
          "2010-07-31",
          "2010-08-31",
          "2010-09-30",
          "2010-10-31",
          "2010-11-30",
          "2010-12-31",
          "2011-01-31",
          "2011-02-28",
          "2011-03-31",
          "2011-04-30",
          "2011-05-31",
          "2011-06-30",
          "2011-07-31",
          "2011-08-31",
          "2011-09-30",
          "2011-10-31",
          "2011-11-30",
          "2011-12-31",
          "2012-01-31",
          "2012-02-29",
          "2012-03-31",
          "2012-04-30",
          "2012-05-31",
          "2012-06-30",
          "2012-07-31",
          "2012-08-31",
          "2012-09-30",
          "2012-10-31",
          "2012-11-30",
          "2012-12-31",
          "2013-01-31",
          "2013-02-28",
          "2013-03-31",
          "2013-04-30",
          "2013-05-31",
          "2013-06-30",
          "2013-07-31",
          "2013-08-31",
          "2013-09-30",
          "2013-10-31",
          "2013-11-30",
          "2013-12-31",
          "2014-01-31",
          "2014-02-28",
          "2014-03-31",
          "2014-04-30",
          "2014-05-31",
          "2014-06-30",
          "2014-07-31",
          "2014-08-31",
          "2014-09-30",
          "2014-10-31",
          "2014-11-30",
          "2014-12-31",
          "2015-01-31",
          "2015-02-28",
          "2015-03-31",
          "2015-04-30",
          "2015-05-31",
          "2015-06-30",
          "2015-07-31",
          "2015-08-31",
          "2015-09-30",
          "2015-10-31",
          "2015-11-30",
          "2015-12-31",
          "2016-01-31",
          "2016-02-29",
          "2016-03-31",
          "2016-04-30",
          "2016-05-31",
          "2016-06-30",
          "2016-07-31",
          "2016-08-31",
          "2016-09-30",
          "2016-10-31",
          "2016-11-30",
          "2016-12-31",
          "2017-01-31",
          "2017-02-28",
          "2017-03-31",
          "2017-04-30",
          "2017-05-31",
          "2017-06-30",
          "2017-07-31",
          "2017-08-31",
          "2017-09-30",
          "2017-10-31",
          "2017-11-30",
          "2017-12-31",
          "2018-01-31",
          "2018-02-28",
          "2018-03-31",
          "2018-04-30",
          "2018-05-31",
          "2018-06-30",
          "2018-07-31",
          "2018-08-31",
          "2018-09-30",
          "2018-10-31",
          "2018-11-30",
          "2018-12-31",
          "2019-01-31",
          "2019-02-28",
          "2019-03-31",
          "2019-04-30",
          "2019-05-31",
          "2019-06-30",
          "2019-07-31",
          "2019-08-31",
          "2019-09-30",
          "2019-10-31",
          "2019-11-30",
          "2019-12-31",
          "2020-01-31",
          "2020-02-29",
          "2020-03-31",
          "2020-04-30",
          "2020-05-31",
          "2020-06-30",
          "2020-07-31",
          "2020-08-31",
          "2020-09-30",
          "2020-10-31",
          "2020-11-30",
          "2020-12-31",
          "2021-01-31",
          "2021-02-28",
          "2021-03-31"
         ],
         "xaxis": "x",
         "y": [
          250114,
          250097,
          250234,
          250360,
          250516,
          250722,
          251338,
          251559,
          251465,
          250770,
          250413,
          249901,
          248643,
          247377,
          246391,
          246569,
          246780,
          247131,
          247417,
          248530,
          249809,
          251698,
          252913,
          254888,
          257616,
          261024,
          263827,
          265588,
          267301,
          268373,
          268584,
          268854,
          270335,
          272535,
          275096,
          276945,
          279560,
          281768,
          284207,
          286027,
          287795,
          290802,
          294480,
          297283,
          298743,
          299932,
          301780,
          303513,
          305130,
          306378,
          308312,
          310359,
          313103,
          315210,
          317289,
          319346,
          321798,
          323908,
          326450,
          329191,
          331595,
          333860,
          335954,
          339095,
          341615,
          344534,
          346720,
          349777,
          352464,
          356015,
          358505,
          361294,
          363853,
          367589,
          371478,
          375602,
          379820,
          384720,
          390316,
          395584,
          400953,
          406534,
          413124,
          419567,
          425357,
          430194,
          435687,
          440031,
          444697,
          447696,
          453163,
          459567,
          466840,
          472581,
          479589,
          487350,
          497249,
          506333,
          515294,
          526726,
          540332,
          554262,
          565450,
          575635,
          587165,
          598027,
          606370,
          614270,
          621656,
          632682,
          642383,
          651124,
          656382,
          664226,
          673240,
          683041,
          692590,
          704665,
          715051,
          722984,
          728871,
          732982,
          739062,
          742593,
          749174,
          752159,
          755149,
          755992,
          752607,
          749073,
          746545,
          747042,
          745856,
          742818,
          739301,
          738735,
          736221,
          733286,
          726472,
          719720,
          712000,
          702892,
          694723,
          687219,
          682172,
          676000,
          665814,
          653615,
          639766,
          630271,
          621076,
          613592,
          608803,
          604905,
          598657,
          587083,
          577861,
          573359,
          571956,
          568951,
          566352,
          562987,
          563871,
          566857,
          570709,
          573538,
          578198,
          586118,
          589947,
          589183,
          589112,
          591893,
          599006,
          600078,
          599377,
          595143,
          591361,
          587410,
          582609,
          580039,
          579387,
          580142,
          578741,
          576015,
          569776,
          568505,
          566899,
          565638,
          563148,
          560804,
          560920,
          558703,
          556934,
          554117,
          553239,
          554135,
          556636,
          558588,
          560431,
          562202,
          565380,
          572109,
          578998,
          588480,
          595290,
          607689,
          619660,
          634118,
          644843,
          657138,
          669659,
          686011,
          699127,
          707355,
          712559,
          715634,
          723134,
          724976,
          727706,
          725907,
          729397,
          731902,
          737579,
          736579,
          736891,
          736596,
          740394,
          743249,
          745722,
          749007,
          752763,
          755395,
          757763,
          758354,
          755612,
          754538,
          753877,
          756364,
          758159,
          762377,
          764138,
          765942,
          764968,
          766343,
          764254,
          763316,
          762873,
          765824,
          769917,
          773006,
          772443,
          771517,
          772700,
          774463,
          776893,
          778362,
          782842,
          787018,
          790511,
          792284,
          792599,
          793196,
          796604,
          800263,
          802722,
          805129,
          807862,
          810062,
          810896,
          811004,
          809319,
          805505,
          802442,
          801763,
          801728,
          798733,
          796317,
          790396,
          785471,
          782472,
          784708,
          787798,
          786908,
          785691,
          784130,
          783453,
          781454,
          782807,
          785641,
          790877,
          797108,
          803234,
          806405,
          808228,
          814467,
          822545,
          831111,
          838228,
          845903,
          852612,
          858419,
          864502,
          869761
         ],
         "yaxis": "y"
        },
        {
         "hovertemplate": "City=Cerritos<br>date=%{x}<br>value=%{y}<extra></extra>",
         "legendgroup": "Cerritos",
         "line": {
          "color": "#00cc96",
          "dash": "solid"
         },
         "mode": "lines",
         "name": "Cerritos",
         "showlegend": true,
         "type": "scattergl",
         "x": [
          "1996-01-31",
          "1996-02-29",
          "1996-03-31",
          "1996-04-30",
          "1996-05-31",
          "1996-06-30",
          "1996-07-31",
          "1996-08-31",
          "1996-09-30",
          "1996-10-31",
          "1996-11-30",
          "1996-12-31",
          "1997-01-31",
          "1997-02-28",
          "1997-03-31",
          "1997-04-30",
          "1997-05-31",
          "1997-06-30",
          "1997-07-31",
          "1997-08-31",
          "1997-09-30",
          "1997-10-31",
          "1997-11-30",
          "1997-12-31",
          "1998-01-31",
          "1998-02-28",
          "1998-03-31",
          "1998-04-30",
          "1998-05-31",
          "1998-06-30",
          "1998-07-31",
          "1998-08-31",
          "1998-09-30",
          "1998-10-31",
          "1998-11-30",
          "1998-12-31",
          "1999-01-31",
          "1999-02-28",
          "1999-03-31",
          "1999-04-30",
          "1999-05-31",
          "1999-06-30",
          "1999-07-31",
          "1999-08-31",
          "1999-09-30",
          "1999-10-31",
          "1999-11-30",
          "1999-12-31",
          "2000-01-31",
          "2000-02-29",
          "2000-03-31",
          "2000-04-30",
          "2000-05-31",
          "2000-06-30",
          "2000-07-31",
          "2000-08-31",
          "2000-09-30",
          "2000-10-31",
          "2000-11-30",
          "2000-12-31",
          "2001-01-31",
          "2001-02-28",
          "2001-03-31",
          "2001-04-30",
          "2001-05-31",
          "2001-06-30",
          "2001-07-31",
          "2001-08-31",
          "2001-09-30",
          "2001-10-31",
          "2001-11-30",
          "2001-12-31",
          "2002-01-31",
          "2002-02-28",
          "2002-03-31",
          "2002-04-30",
          "2002-05-31",
          "2002-06-30",
          "2002-07-31",
          "2002-08-31",
          "2002-09-30",
          "2002-10-31",
          "2002-11-30",
          "2002-12-31",
          "2003-01-31",
          "2003-02-28",
          "2003-03-31",
          "2003-04-30",
          "2003-05-31",
          "2003-06-30",
          "2003-07-31",
          "2003-08-31",
          "2003-09-30",
          "2003-10-31",
          "2003-11-30",
          "2003-12-31",
          "2004-01-31",
          "2004-02-29",
          "2004-03-31",
          "2004-04-30",
          "2004-05-31",
          "2004-06-30",
          "2004-07-31",
          "2004-08-31",
          "2004-09-30",
          "2004-10-31",
          "2004-11-30",
          "2004-12-31",
          "2005-01-31",
          "2005-02-28",
          "2005-03-31",
          "2005-04-30",
          "2005-05-31",
          "2005-06-30",
          "2005-07-31",
          "2005-08-31",
          "2005-09-30",
          "2005-10-31",
          "2005-11-30",
          "2005-12-31",
          "2006-01-31",
          "2006-02-28",
          "2006-03-31",
          "2006-04-30",
          "2006-05-31",
          "2006-06-30",
          "2006-07-31",
          "2006-08-31",
          "2006-09-30",
          "2006-10-31",
          "2006-11-30",
          "2006-12-31",
          "2007-01-31",
          "2007-02-28",
          "2007-03-31",
          "2007-04-30",
          "2007-05-31",
          "2007-06-30",
          "2007-07-31",
          "2007-08-31",
          "2007-09-30",
          "2007-10-31",
          "2007-11-30",
          "2007-12-31",
          "2008-01-31",
          "2008-02-29",
          "2008-03-31",
          "2008-04-30",
          "2008-05-31",
          "2008-06-30",
          "2008-07-31",
          "2008-08-31",
          "2008-09-30",
          "2008-10-31",
          "2008-11-30",
          "2008-12-31",
          "2009-01-31",
          "2009-02-28",
          "2009-03-31",
          "2009-04-30",
          "2009-05-31",
          "2009-06-30",
          "2009-07-31",
          "2009-08-31",
          "2009-09-30",
          "2009-10-31",
          "2009-11-30",
          "2009-12-31",
          "2010-01-31",
          "2010-02-28",
          "2010-03-31",
          "2010-04-30",
          "2010-05-31",
          "2010-06-30",
          "2010-07-31",
          "2010-08-31",
          "2010-09-30",
          "2010-10-31",
          "2010-11-30",
          "2010-12-31",
          "2011-01-31",
          "2011-02-28",
          "2011-03-31",
          "2011-04-30",
          "2011-05-31",
          "2011-06-30",
          "2011-07-31",
          "2011-08-31",
          "2011-09-30",
          "2011-10-31",
          "2011-11-30",
          "2011-12-31",
          "2012-01-31",
          "2012-02-29",
          "2012-03-31",
          "2012-04-30",
          "2012-05-31",
          "2012-06-30",
          "2012-07-31",
          "2012-08-31",
          "2012-09-30",
          "2012-10-31",
          "2012-11-30",
          "2012-12-31",
          "2013-01-31",
          "2013-02-28",
          "2013-03-31",
          "2013-04-30",
          "2013-05-31",
          "2013-06-30",
          "2013-07-31",
          "2013-08-31",
          "2013-09-30",
          "2013-10-31",
          "2013-11-30",
          "2013-12-31",
          "2014-01-31",
          "2014-02-28",
          "2014-03-31",
          "2014-04-30",
          "2014-05-31",
          "2014-06-30",
          "2014-07-31",
          "2014-08-31",
          "2014-09-30",
          "2014-10-31",
          "2014-11-30",
          "2014-12-31",
          "2015-01-31",
          "2015-02-28",
          "2015-03-31",
          "2015-04-30",
          "2015-05-31",
          "2015-06-30",
          "2015-07-31",
          "2015-08-31",
          "2015-09-30",
          "2015-10-31",
          "2015-11-30",
          "2015-12-31",
          "2016-01-31",
          "2016-02-29",
          "2016-03-31",
          "2016-04-30",
          "2016-05-31",
          "2016-06-30",
          "2016-07-31",
          "2016-08-31",
          "2016-09-30",
          "2016-10-31",
          "2016-11-30",
          "2016-12-31",
          "2017-01-31",
          "2017-02-28",
          "2017-03-31",
          "2017-04-30",
          "2017-05-31",
          "2017-06-30",
          "2017-07-31",
          "2017-08-31",
          "2017-09-30",
          "2017-10-31",
          "2017-11-30",
          "2017-12-31",
          "2018-01-31",
          "2018-02-28",
          "2018-03-31",
          "2018-04-30",
          "2018-05-31",
          "2018-06-30",
          "2018-07-31",
          "2018-08-31",
          "2018-09-30",
          "2018-10-31",
          "2018-11-30",
          "2018-12-31",
          "2019-01-31",
          "2019-02-28",
          "2019-03-31",
          "2019-04-30",
          "2019-05-31",
          "2019-06-30",
          "2019-07-31",
          "2019-08-31",
          "2019-09-30",
          "2019-10-31",
          "2019-11-30",
          "2019-12-31",
          "2020-01-31",
          "2020-02-29",
          "2020-03-31",
          "2020-04-30",
          "2020-05-31",
          "2020-06-30",
          "2020-07-31",
          "2020-08-31",
          "2020-09-30",
          "2020-10-31",
          "2020-11-30",
          "2020-12-31",
          "2021-01-31",
          "2021-02-28",
          "2021-03-31"
         ],
         "xaxis": "x",
         "y": [
          235918,
          235929,
          236059,
          236272,
          236567,
          236770,
          237166,
          237189,
          237138,
          236911,
          236955,
          237061,
          236400,
          235943,
          235648,
          236358,
          236817,
          237575,
          238447,
          240253,
          241996,
          243962,
          245469,
          247511,
          250468,
          253636,
          256475,
          258189,
          260448,
          262258,
          263433,
          264516,
          266550,
          268953,
          271413,
          272993,
          275252,
          277264,
          279339,
          281044,
          282467,
          284967,
          288211,
          290445,
          291786,
          293049,
          295347,
          297729,
          299795,
          301575,
          303790,
          306236,
          309035,
          311466,
          313466,
          315744,
          318097,
          320084,
          321867,
          323715,
          325705,
          327900,
          330352,
          333298,
          335853,
          338289,
          340292,
          342816,
          345201,
          348516,
          351717,
          355515,
          359104,
          363188,
          367213,
          371765,
          376391,
          381655,
          387422,
          393439,
          399901,
          406646,
          413714,
          420411,
          426255,
          431489,
          437175,
          441792,
          446811,
          450907,
          457348,
          464047,
          470815,
          476213,
          483195,
          491252,
          501400,
          511119,
          520885,
          532536,
          546140,
          559418,
          570463,
          580335,
          592041,
          602968,
          611663,
          619232,
          625724,
          635156,
          643644,
          652124,
          657751,
          665783,
          675417,
          686212,
          696352,
          707508,
          716048,
          723029,
          729231,
          734007,
          739865,
          743111,
          748873,
          752104,
          753254,
          752100,
          747080,
          743212,
          740984,
          741306,
          739482,
          736703,
          733528,
          733437,
          730653,
          727188,
          721897,
          715563,
          708437,
          698946,
          690960,
          683206,
          676413,
          667389,
          654156,
          637941,
          621825,
          609983,
          599130,
          590739,
          584756,
          580950,
          574999,
          563909,
          556543,
          552500,
          551796,
          550244,
          549269,
          547206,
          546398,
          548716,
          552353,
          555965,
          560078,
          567533,
          570652,
          570828,
          572667,
          576832,
          584037,
          584595,
          585746,
          583103,
          580930,
          576947,
          571626,
          567894,
          566081,
          565827,
          563612,
          561023,
          554237,
          553457,
          551183,
          550283,
          546783,
          543366,
          542728,
          540528,
          539560,
          538014,
          536914,
          535799,
          536336,
          537030,
          538819,
          538347,
          539549,
          543138,
          547780,
          554652,
          558748,
          566818,
          574497,
          584764,
          593979,
          602944,
          611224,
          621661,
          630113,
          635663,
          638773,
          639913,
          642194,
          640139,
          639942,
          638592,
          638167,
          636046,
          636387,
          635280,
          634957,
          634212,
          636490,
          638954,
          643496,
          648302,
          652601,
          652548,
          654671,
          657506,
          659561,
          661102,
          662748,
          666914,
          670104,
          675212,
          677272,
          679613,
          680117,
          685251,
          687478,
          690047,
          689662,
          691764,
          695241,
          698734,
          699333,
          698275,
          700094,
          702603,
          706069,
          707539,
          711094,
          713438,
          718650,
          723426,
          727646,
          729320,
          733573,
          738733,
          742492,
          745784,
          749008,
          751776,
          753903,
          757215,
          758785,
          757735,
          754945,
          754822,
          754887,
          753269,
          752011,
          748107,
          744550,
          742931,
          746001,
          750780,
          750643,
          749301,
          748243,
          749520,
          750716,
          752735,
          755529,
          759836,
          766102,
          772422,
          775871,
          776611,
          781831,
          789595,
          798326,
          804835,
          811100,
          817660,
          823938,
          830834,
          836454
         ],
         "yaxis": "y"
        },
        {
         "hovertemplate": "City=Rosemea<br>date=%{x}<br>value=%{y}<extra></extra>",
         "legendgroup": "Rosemea",
         "line": {
          "color": "#ab63fa",
          "dash": "solid"
         },
         "mode": "lines",
         "name": "Rosemea",
         "showlegend": true,
         "type": "scattergl",
         "x": [
          "1996-01-31",
          "1996-02-29",
          "1996-03-31",
          "1996-04-30",
          "1996-05-31",
          "1996-06-30",
          "1996-07-31",
          "1996-08-31",
          "1996-09-30",
          "1996-10-31",
          "1996-11-30",
          "1996-12-31",
          "1997-01-31",
          "1997-02-28",
          "1997-03-31",
          "1997-04-30",
          "1997-05-31",
          "1997-06-30",
          "1997-07-31",
          "1997-08-31",
          "1997-09-30",
          "1997-10-31",
          "1997-11-30",
          "1997-12-31",
          "1998-01-31",
          "1998-02-28",
          "1998-03-31",
          "1998-04-30",
          "1998-05-31",
          "1998-06-30",
          "1998-07-31",
          "1998-08-31",
          "1998-09-30",
          "1998-10-31",
          "1998-11-30",
          "1998-12-31",
          "1999-01-31",
          "1999-02-28",
          "1999-03-31",
          "1999-04-30",
          "1999-05-31",
          "1999-06-30",
          "1999-07-31",
          "1999-08-31",
          "1999-09-30",
          "1999-10-31",
          "1999-11-30",
          "1999-12-31",
          "2000-01-31",
          "2000-02-29",
          "2000-03-31",
          "2000-04-30",
          "2000-05-31",
          "2000-06-30",
          "2000-07-31",
          "2000-08-31",
          "2000-09-30",
          "2000-10-31",
          "2000-11-30",
          "2000-12-31",
          "2001-01-31",
          "2001-02-28",
          "2001-03-31",
          "2001-04-30",
          "2001-05-31",
          "2001-06-30",
          "2001-07-31",
          "2001-08-31",
          "2001-09-30",
          "2001-10-31",
          "2001-11-30",
          "2001-12-31",
          "2002-01-31",
          "2002-02-28",
          "2002-03-31",
          "2002-04-30",
          "2002-05-31",
          "2002-06-30",
          "2002-07-31",
          "2002-08-31",
          "2002-09-30",
          "2002-10-31",
          "2002-11-30",
          "2002-12-31",
          "2003-01-31",
          "2003-02-28",
          "2003-03-31",
          "2003-04-30",
          "2003-05-31",
          "2003-06-30",
          "2003-07-31",
          "2003-08-31",
          "2003-09-30",
          "2003-10-31",
          "2003-11-30",
          "2003-12-31",
          "2004-01-31",
          "2004-02-29",
          "2004-03-31",
          "2004-04-30",
          "2004-05-31",
          "2004-06-30",
          "2004-07-31",
          "2004-08-31",
          "2004-09-30",
          "2004-10-31",
          "2004-11-30",
          "2004-12-31",
          "2005-01-31",
          "2005-02-28",
          "2005-03-31",
          "2005-04-30",
          "2005-05-31",
          "2005-06-30",
          "2005-07-31",
          "2005-08-31",
          "2005-09-30",
          "2005-10-31",
          "2005-11-30",
          "2005-12-31",
          "2006-01-31",
          "2006-02-28",
          "2006-03-31",
          "2006-04-30",
          "2006-05-31",
          "2006-06-30",
          "2006-07-31",
          "2006-08-31",
          "2006-09-30",
          "2006-10-31",
          "2006-11-30",
          "2006-12-31",
          "2007-01-31",
          "2007-02-28",
          "2007-03-31",
          "2007-04-30",
          "2007-05-31",
          "2007-06-30",
          "2007-07-31",
          "2007-08-31",
          "2007-09-30",
          "2007-10-31",
          "2007-11-30",
          "2007-12-31",
          "2008-01-31",
          "2008-02-29",
          "2008-03-31",
          "2008-04-30",
          "2008-05-31",
          "2008-06-30",
          "2008-07-31",
          "2008-08-31",
          "2008-09-30",
          "2008-10-31",
          "2008-11-30",
          "2008-12-31",
          "2009-01-31",
          "2009-02-28",
          "2009-03-31",
          "2009-04-30",
          "2009-05-31",
          "2009-06-30",
          "2009-07-31",
          "2009-08-31",
          "2009-09-30",
          "2009-10-31",
          "2009-11-30",
          "2009-12-31",
          "2010-01-31",
          "2010-02-28",
          "2010-03-31",
          "2010-04-30",
          "2010-05-31",
          "2010-06-30",
          "2010-07-31",
          "2010-08-31",
          "2010-09-30",
          "2010-10-31",
          "2010-11-30",
          "2010-12-31",
          "2011-01-31",
          "2011-02-28",
          "2011-03-31",
          "2011-04-30",
          "2011-05-31",
          "2011-06-30",
          "2011-07-31",
          "2011-08-31",
          "2011-09-30",
          "2011-10-31",
          "2011-11-30",
          "2011-12-31",
          "2012-01-31",
          "2012-02-29",
          "2012-03-31",
          "2012-04-30",
          "2012-05-31",
          "2012-06-30",
          "2012-07-31",
          "2012-08-31",
          "2012-09-30",
          "2012-10-31",
          "2012-11-30",
          "2012-12-31",
          "2013-01-31",
          "2013-02-28",
          "2013-03-31",
          "2013-04-30",
          "2013-05-31",
          "2013-06-30",
          "2013-07-31",
          "2013-08-31",
          "2013-09-30",
          "2013-10-31",
          "2013-11-30",
          "2013-12-31",
          "2014-01-31",
          "2014-02-28",
          "2014-03-31",
          "2014-04-30",
          "2014-05-31",
          "2014-06-30",
          "2014-07-31",
          "2014-08-31",
          "2014-09-30",
          "2014-10-31",
          "2014-11-30",
          "2014-12-31",
          "2015-01-31",
          "2015-02-28",
          "2015-03-31",
          "2015-04-30",
          "2015-05-31",
          "2015-06-30",
          "2015-07-31",
          "2015-08-31",
          "2015-09-30",
          "2015-10-31",
          "2015-11-30",
          "2015-12-31",
          "2016-01-31",
          "2016-02-29",
          "2016-03-31",
          "2016-04-30",
          "2016-05-31",
          "2016-06-30",
          "2016-07-31",
          "2016-08-31",
          "2016-09-30",
          "2016-10-31",
          "2016-11-30",
          "2016-12-31",
          "2017-01-31",
          "2017-02-28",
          "2017-03-31",
          "2017-04-30",
          "2017-05-31",
          "2017-06-30",
          "2017-07-31",
          "2017-08-31",
          "2017-09-30",
          "2017-10-31",
          "2017-11-30",
          "2017-12-31",
          "2018-01-31",
          "2018-02-28",
          "2018-03-31",
          "2018-04-30",
          "2018-05-31",
          "2018-06-30",
          "2018-07-31",
          "2018-08-31",
          "2018-09-30",
          "2018-10-31",
          "2018-11-30",
          "2018-12-31",
          "2019-01-31",
          "2019-02-28",
          "2019-03-31",
          "2019-04-30",
          "2019-05-31",
          "2019-06-30",
          "2019-07-31",
          "2019-08-31",
          "2019-09-30",
          "2019-10-31",
          "2019-11-30",
          "2019-12-31",
          "2020-01-31",
          "2020-02-29",
          "2020-03-31",
          "2020-04-30",
          "2020-05-31",
          "2020-06-30",
          "2020-07-31",
          "2020-08-31",
          "2020-09-30",
          "2020-10-31",
          "2020-11-30",
          "2020-12-31",
          "2021-01-31",
          "2021-02-28",
          "2021-03-31"
         ],
         "xaxis": "x",
         "y": [
          170881,
          170847,
          170889,
          171055,
          171467,
          172200,
          172970,
          173387,
          173245,
          172838,
          172750,
          172604,
          171936,
          171061,
          170436,
          170239,
          169700,
          168713,
          168005,
          167804,
          168224,
          168832,
          168958,
          169445,
          170303,
          171970,
          173353,
          174357,
          175156,
          175681,
          175580,
          175798,
          176548,
          177733,
          178809,
          179513,
          180782,
          181819,
          182837,
          183607,
          184725,
          186670,
          188883,
          190210,
          190731,
          191048,
          192177,
          193201,
          194375,
          195222,
          196855,
          198566,
          200696,
          202199,
          203367,
          204325,
          205978,
          207740,
          209778,
          211861,
          213415,
          215292,
          216680,
          218631,
          220032,
          222090,
          224647,
          228061,
          230709,
          233222,
          235071,
          237628,
          240669,
          244010,
          247500,
          250855,
          254130,
          257741,
          261426,
          265453,
          269728,
          274823,
          280229,
          284838,
          288267,
          291475,
          295434,
          299527,
          304065,
          307994,
          313070,
          318079,
          323176,
          327360,
          332933,
          339852,
          348823,
          356854,
          364814,
          373173,
          383477,
          393352,
          401509,
          408795,
          417462,
          425565,
          431917,
          437165,
          441351,
          448322,
          454566,
          461803,
          466145,
          471706,
          478757,
          487341,
          496435,
          506892,
          514977,
          522064,
          528603,
          534348,
          540632,
          544379,
          549972,
          554435,
          557725,
          559048,
          556591,
          553881,
          552971,
          553800,
          553123,
          551129,
          548661,
          549012,
          548451,
          547318,
          543999,
          539192,
          533981,
          527343,
          521284,
          515499,
          510362,
          504060,
          495828,
          484346,
          471280,
          460168,
          450940,
          444261,
          439009,
          434692,
          429449,
          420653,
          415805,
          413156,
          411853,
          409733,
          408340,
          408056,
          408217,
          409529,
          411756,
          414164,
          417628,
          422554,
          422668,
          419555,
          418811,
          420812,
          425684,
          423623,
          421328,
          417353,
          414512,
          411866,
          407305,
          405070,
          403925,
          404807,
          402709,
          399892,
          394553,
          394147,
          394154,
          394223,
          392487,
          388860,
          387806,
          384980,
          384236,
          383248,
          383094,
          383253,
          384491,
          386984,
          389258,
          390086,
          391147,
          395476,
          399816,
          406710,
          410341,
          417220,
          424754,
          434739,
          442963,
          449579,
          455398,
          464582,
          473270,
          479181,
          483315,
          484885,
          488533,
          487731,
          487720,
          485825,
          485865,
          485974,
          488821,
          489245,
          489940,
          490345,
          492937,
          495232,
          498765,
          503139,
          507246,
          507944,
          509359,
          510893,
          512095,
          512989,
          514120,
          516342,
          518245,
          522085,
          524249,
          527210,
          528749,
          533708,
          536824,
          539932,
          540872,
          543598,
          547431,
          551941,
          554037,
          556035,
          558952,
          561761,
          564644,
          567125,
          571233,
          574507,
          577262,
          580055,
          582151,
          584709,
          589131,
          593244,
          597141,
          601229,
          606177,
          609418,
          612349,
          615405,
          620630,
          622092,
          622968,
          622009,
          623064,
          622605,
          622520,
          619847,
          616844,
          616255,
          619455,
          624679,
          623377,
          621765,
          620332,
          622865,
          624086,
          626301,
          629472,
          634882,
          641173,
          647108,
          649355,
          650012,
          654988,
          662056,
          669421,
          674552,
          679402,
          684278,
          688250,
          691800,
          694809
         ],
         "yaxis": "y"
        },
        {
         "hovertemplate": "City=Cupertino<br>date=%{x}<br>value=%{y}<extra></extra>",
         "legendgroup": "Cupertino",
         "line": {
          "color": "#FFA15A",
          "dash": "solid"
         },
         "mode": "lines",
         "name": "Cupertino",
         "showlegend": true,
         "type": "scattergl",
         "x": [
          "1996-01-31",
          "1996-02-29",
          "1996-03-31",
          "1996-04-30",
          "1996-05-31",
          "1996-06-30",
          "1996-07-31",
          "1996-08-31",
          "1996-09-30",
          "1996-10-31",
          "1996-11-30",
          "1996-12-31",
          "1997-01-31",
          "1997-02-28",
          "1997-03-31",
          "1997-04-30",
          "1997-05-31",
          "1997-06-30",
          "1997-07-31",
          "1997-08-31",
          "1997-09-30",
          "1997-10-31",
          "1997-11-30",
          "1997-12-31",
          "1998-01-31",
          "1998-02-28",
          "1998-03-31",
          "1998-04-30",
          "1998-05-31",
          "1998-06-30",
          "1998-07-31",
          "1998-08-31",
          "1998-09-30",
          "1998-10-31",
          "1998-11-30",
          "1998-12-31",
          "1999-01-31",
          "1999-02-28",
          "1999-03-31",
          "1999-04-30",
          "1999-05-31",
          "1999-06-30",
          "1999-07-31",
          "1999-08-31",
          "1999-09-30",
          "1999-10-31",
          "1999-11-30",
          "1999-12-31",
          "2000-01-31",
          "2000-02-29",
          "2000-03-31",
          "2000-04-30",
          "2000-05-31",
          "2000-06-30",
          "2000-07-31",
          "2000-08-31",
          "2000-09-30",
          "2000-10-31",
          "2000-11-30",
          "2000-12-31",
          "2001-01-31",
          "2001-02-28",
          "2001-03-31",
          "2001-04-30",
          "2001-05-31",
          "2001-06-30",
          "2001-07-31",
          "2001-08-31",
          "2001-09-30",
          "2001-10-31",
          "2001-11-30",
          "2001-12-31",
          "2002-01-31",
          "2002-02-28",
          "2002-03-31",
          "2002-04-30",
          "2002-05-31",
          "2002-06-30",
          "2002-07-31",
          "2002-08-31",
          "2002-09-30",
          "2002-10-31",
          "2002-11-30",
          "2002-12-31",
          "2003-01-31",
          "2003-02-28",
          "2003-03-31",
          "2003-04-30",
          "2003-05-31",
          "2003-06-30",
          "2003-07-31",
          "2003-08-31",
          "2003-09-30",
          "2003-10-31",
          "2003-11-30",
          "2003-12-31",
          "2004-01-31",
          "2004-02-29",
          "2004-03-31",
          "2004-04-30",
          "2004-05-31",
          "2004-06-30",
          "2004-07-31",
          "2004-08-31",
          "2004-09-30",
          "2004-10-31",
          "2004-11-30",
          "2004-12-31",
          "2005-01-31",
          "2005-02-28",
          "2005-03-31",
          "2005-04-30",
          "2005-05-31",
          "2005-06-30",
          "2005-07-31",
          "2005-08-31",
          "2005-09-30",
          "2005-10-31",
          "2005-11-30",
          "2005-12-31",
          "2006-01-31",
          "2006-02-28",
          "2006-03-31",
          "2006-04-30",
          "2006-05-31",
          "2006-06-30",
          "2006-07-31",
          "2006-08-31",
          "2006-09-30",
          "2006-10-31",
          "2006-11-30",
          "2006-12-31",
          "2007-01-31",
          "2007-02-28",
          "2007-03-31",
          "2007-04-30",
          "2007-05-31",
          "2007-06-30",
          "2007-07-31",
          "2007-08-31",
          "2007-09-30",
          "2007-10-31",
          "2007-11-30",
          "2007-12-31",
          "2008-01-31",
          "2008-02-29",
          "2008-03-31",
          "2008-04-30",
          "2008-05-31",
          "2008-06-30",
          "2008-07-31",
          "2008-08-31",
          "2008-09-30",
          "2008-10-31",
          "2008-11-30",
          "2008-12-31",
          "2009-01-31",
          "2009-02-28",
          "2009-03-31",
          "2009-04-30",
          "2009-05-31",
          "2009-06-30",
          "2009-07-31",
          "2009-08-31",
          "2009-09-30",
          "2009-10-31",
          "2009-11-30",
          "2009-12-31",
          "2010-01-31",
          "2010-02-28",
          "2010-03-31",
          "2010-04-30",
          "2010-05-31",
          "2010-06-30",
          "2010-07-31",
          "2010-08-31",
          "2010-09-30",
          "2010-10-31",
          "2010-11-30",
          "2010-12-31",
          "2011-01-31",
          "2011-02-28",
          "2011-03-31",
          "2011-04-30",
          "2011-05-31",
          "2011-06-30",
          "2011-07-31",
          "2011-08-31",
          "2011-09-30",
          "2011-10-31",
          "2011-11-30",
          "2011-12-31",
          "2012-01-31",
          "2012-02-29",
          "2012-03-31",
          "2012-04-30",
          "2012-05-31",
          "2012-06-30",
          "2012-07-31",
          "2012-08-31",
          "2012-09-30",
          "2012-10-31",
          "2012-11-30",
          "2012-12-31",
          "2013-01-31",
          "2013-02-28",
          "2013-03-31",
          "2013-04-30",
          "2013-05-31",
          "2013-06-30",
          "2013-07-31",
          "2013-08-31",
          "2013-09-30",
          "2013-10-31",
          "2013-11-30",
          "2013-12-31",
          "2014-01-31",
          "2014-02-28",
          "2014-03-31",
          "2014-04-30",
          "2014-05-31",
          "2014-06-30",
          "2014-07-31",
          "2014-08-31",
          "2014-09-30",
          "2014-10-31",
          "2014-11-30",
          "2014-12-31",
          "2015-01-31",
          "2015-02-28",
          "2015-03-31",
          "2015-04-30",
          "2015-05-31",
          "2015-06-30",
          "2015-07-31",
          "2015-08-31",
          "2015-09-30",
          "2015-10-31",
          "2015-11-30",
          "2015-12-31",
          "2016-01-31",
          "2016-02-29",
          "2016-03-31",
          "2016-04-30",
          "2016-05-31",
          "2016-06-30",
          "2016-07-31",
          "2016-08-31",
          "2016-09-30",
          "2016-10-31",
          "2016-11-30",
          "2016-12-31",
          "2017-01-31",
          "2017-02-28",
          "2017-03-31",
          "2017-04-30",
          "2017-05-31",
          "2017-06-30",
          "2017-07-31",
          "2017-08-31",
          "2017-09-30",
          "2017-10-31",
          "2017-11-30",
          "2017-12-31",
          "2018-01-31",
          "2018-02-28",
          "2018-03-31",
          "2018-04-30",
          "2018-05-31",
          "2018-06-30",
          "2018-07-31",
          "2018-08-31",
          "2018-09-30",
          "2018-10-31",
          "2018-11-30",
          "2018-12-31",
          "2019-01-31",
          "2019-02-28",
          "2019-03-31",
          "2019-04-30",
          "2019-05-31",
          "2019-06-30",
          "2019-07-31",
          "2019-08-31",
          "2019-09-30",
          "2019-10-31",
          "2019-11-30",
          "2019-12-31",
          "2020-01-31",
          "2020-02-29",
          "2020-03-31",
          "2020-04-30",
          "2020-05-31",
          "2020-06-30",
          "2020-07-31",
          "2020-08-31",
          "2020-09-30",
          "2020-10-31",
          "2020-11-30",
          "2020-12-31",
          "2021-01-31",
          "2021-02-28",
          "2021-03-31"
         ],
         "xaxis": "x",
         "y": [
          442866,
          441884,
          442035,
          442285,
          443417,
          444629,
          445903,
          447766,
          449875,
          453458,
          458122,
          463475,
          469285,
          475817,
          482051,
          487920,
          492995,
          499034,
          505148,
          511886,
          518888,
          524802,
          530556,
          536247,
          540960,
          545345,
          549841,
          556067,
          563082,
          568962,
          575630,
          580906,
          587311,
          592047,
          594554,
          595533,
          598459,
          603627,
          608385,
          609736,
          611348,
          614648,
          619479,
          623920,
          626006,
          630517,
          637606,
          648107,
          658614,
          668002,
          678626,
          695248,
          712547,
          732819,
          750582,
          774176,
          799417,
          825473,
          851305,
          873984,
          894026,
          908097,
          920238,
          925788,
          928329,
          923349,
          917700,
          907874,
          898513,
          886304,
          871943,
          858593,
          847382,
          843551,
          842841,
          845348,
          850839,
          857554,
          865065,
          867810,
          867932,
          868609,
          871116,
          870582,
          869877,
          869846,
          868653,
          864271,
          855294,
          849037,
          844760,
          845820,
          851515,
          856684,
          861583,
          868540,
          877990,
          885189,
          890460,
          900321,
          913252,
          927937,
          938563,
          950249,
          958778,
          972075,
          988567,
          1006846,
          1023605,
          1039296,
          1062394,
          1078616,
          1094691,
          1103321,
          1117536,
          1129709,
          1140096,
          1146626,
          1148336,
          1149860,
          1152005,
          1155355,
          1148149,
          1144387,
          1141000,
          1146765,
          1148281,
          1144776,
          1146442,
          1148408,
          1153481,
          1158328,
          1160616,
          1166002,
          1175148,
          1182418,
          1187615,
          1187285,
          1193006,
          1203189,
          1213506,
          1216870,
          1214008,
          1202542,
          1187630,
          1167177,
          1152512,
          1148397,
          1149751,
          1147699,
          1140343,
          1136172,
          1125908,
          1119456,
          1114133,
          1126337,
          1143058,
          1164971,
          1164435,
          1160876,
          1152802,
          1161709,
          1168532,
          1165674,
          1163526,
          1167607,
          1182298,
          1186050,
          1189013,
          1189869,
          1211341,
          1220133,
          1229642,
          1224189,
          1226630,
          1233248,
          1244343,
          1247753,
          1234580,
          1219782,
          1209147,
          1201495,
          1191943,
          1184660,
          1172084,
          1155099,
          1134536,
          1123111,
          1115159,
          1106053,
          1110236,
          1109919,
          1109021,
          1100611,
          1099251,
          1109390,
          1128108,
          1152666,
          1176496,
          1195259,
          1208939,
          1227141,
          1246960,
          1271592,
          1295170,
          1316483,
          1337280,
          1355003,
          1373788,
          1394450,
          1408653,
          1418165,
          1421761,
          1434845,
          1437822,
          1456802,
          1475680,
          1507487,
          1517858,
          1522216,
          1515853,
          1517675,
          1535251,
          1561786,
          1599073,
          1623627,
          1652395,
          1661251,
          1666415,
          1671798,
          1697589,
          1719781,
          1762838,
          1786612,
          1809904,
          1813593,
          1821632,
          1824231,
          1824322,
          1828306,
          1841068,
          1845649,
          1846849,
          1854646,
          1844250,
          1840555,
          1822677,
          1827975,
          1820611,
          1830800,
          1839539,
          1855872,
          1866247,
          1881336,
          1888718,
          1898001,
          1905202,
          1924401,
          1949777,
          1989706,
          2040660,
          2090868,
          2137279,
          2183335,
          2228270,
          2271551,
          2312746,
          2344295,
          2383707,
          2411571,
          2438635,
          2417879,
          2383810,
          2336141,
          2305452,
          2264744,
          2222137,
          2185577,
          2161929,
          2162905,
          2163497,
          2158000,
          2134172,
          2113221,
          2106341,
          2106901,
          2112014,
          2121577,
          2145781,
          2174049,
          2203944,
          2217091,
          2224606,
          2237764,
          2264914,
          2306485,
          2340409,
          2373693,
          2396441,
          2420148,
          2433401,
          2441106,
          2442534
         ],
         "yaxis": "y"
        }
       ],
       "layout": {
        "font": {
         "color": "gray",
         "family": "Courier New"
        },
        "legend": {
         "title": {
          "text": "City"
         },
         "tracegroupgap": 0
        },
        "margin": {
         "t": 60
        },
        "template": {
         "data": {
          "bar": [
           {
            "error_x": {
             "color": "#2a3f5f"
            },
            "error_y": {
             "color": "#2a3f5f"
            },
            "marker": {
             "line": {
              "color": "#E5ECF6",
              "width": 0.5
             }
            },
            "type": "bar"
           }
          ],
          "barpolar": [
           {
            "marker": {
             "line": {
              "color": "#E5ECF6",
              "width": 0.5
             }
            },
            "type": "barpolar"
           }
          ],
          "carpet": [
           {
            "aaxis": {
             "endlinecolor": "#2a3f5f",
             "gridcolor": "white",
             "linecolor": "white",
             "minorgridcolor": "white",
             "startlinecolor": "#2a3f5f"
            },
            "baxis": {
             "endlinecolor": "#2a3f5f",
             "gridcolor": "white",
             "linecolor": "white",
             "minorgridcolor": "white",
             "startlinecolor": "#2a3f5f"
            },
            "type": "carpet"
           }
          ],
          "choropleth": [
           {
            "colorbar": {
             "outlinewidth": 0,
             "ticks": ""
            },
            "type": "choropleth"
           }
          ],
          "contour": [
           {
            "colorbar": {
             "outlinewidth": 0,
             "ticks": ""
            },
            "colorscale": [
             [
              0,
              "#0d0887"
             ],
             [
              0.1111111111111111,
              "#46039f"
             ],
             [
              0.2222222222222222,
              "#7201a8"
             ],
             [
              0.3333333333333333,
              "#9c179e"
             ],
             [
              0.4444444444444444,
              "#bd3786"
             ],
             [
              0.5555555555555556,
              "#d8576b"
             ],
             [
              0.6666666666666666,
              "#ed7953"
             ],
             [
              0.7777777777777778,
              "#fb9f3a"
             ],
             [
              0.8888888888888888,
              "#fdca26"
             ],
             [
              1,
              "#f0f921"
             ]
            ],
            "type": "contour"
           }
          ],
          "contourcarpet": [
           {
            "colorbar": {
             "outlinewidth": 0,
             "ticks": ""
            },
            "type": "contourcarpet"
           }
          ],
          "heatmap": [
           {
            "colorbar": {
             "outlinewidth": 0,
             "ticks": ""
            },
            "colorscale": [
             [
              0,
              "#0d0887"
             ],
             [
              0.1111111111111111,
              "#46039f"
             ],
             [
              0.2222222222222222,
              "#7201a8"
             ],
             [
              0.3333333333333333,
              "#9c179e"
             ],
             [
              0.4444444444444444,
              "#bd3786"
             ],
             [
              0.5555555555555556,
              "#d8576b"
             ],
             [
              0.6666666666666666,
              "#ed7953"
             ],
             [
              0.7777777777777778,
              "#fb9f3a"
             ],
             [
              0.8888888888888888,
              "#fdca26"
             ],
             [
              1,
              "#f0f921"
             ]
            ],
            "type": "heatmap"
           }
          ],
          "heatmapgl": [
           {
            "colorbar": {
             "outlinewidth": 0,
             "ticks": ""
            },
            "colorscale": [
             [
              0,
              "#0d0887"
             ],
             [
              0.1111111111111111,
              "#46039f"
             ],
             [
              0.2222222222222222,
              "#7201a8"
             ],
             [
              0.3333333333333333,
              "#9c179e"
             ],
             [
              0.4444444444444444,
              "#bd3786"
             ],
             [
              0.5555555555555556,
              "#d8576b"
             ],
             [
              0.6666666666666666,
              "#ed7953"
             ],
             [
              0.7777777777777778,
              "#fb9f3a"
             ],
             [
              0.8888888888888888,
              "#fdca26"
             ],
             [
              1,
              "#f0f921"
             ]
            ],
            "type": "heatmapgl"
           }
          ],
          "histogram": [
           {
            "marker": {
             "colorbar": {
              "outlinewidth": 0,
              "ticks": ""
             }
            },
            "type": "histogram"
           }
          ],
          "histogram2d": [
           {
            "colorbar": {
             "outlinewidth": 0,
             "ticks": ""
            },
            "colorscale": [
             [
              0,
              "#0d0887"
             ],
             [
              0.1111111111111111,
              "#46039f"
             ],
             [
              0.2222222222222222,
              "#7201a8"
             ],
             [
              0.3333333333333333,
              "#9c179e"
             ],
             [
              0.4444444444444444,
              "#bd3786"
             ],
             [
              0.5555555555555556,
              "#d8576b"
             ],
             [
              0.6666666666666666,
              "#ed7953"
             ],
             [
              0.7777777777777778,
              "#fb9f3a"
             ],
             [
              0.8888888888888888,
              "#fdca26"
             ],
             [
              1,
              "#f0f921"
             ]
            ],
            "type": "histogram2d"
           }
          ],
          "histogram2dcontour": [
           {
            "colorbar": {
             "outlinewidth": 0,
             "ticks": ""
            },
            "colorscale": [
             [
              0,
              "#0d0887"
             ],
             [
              0.1111111111111111,
              "#46039f"
             ],
             [
              0.2222222222222222,
              "#7201a8"
             ],
             [
              0.3333333333333333,
              "#9c179e"
             ],
             [
              0.4444444444444444,
              "#bd3786"
             ],
             [
              0.5555555555555556,
              "#d8576b"
             ],
             [
              0.6666666666666666,
              "#ed7953"
             ],
             [
              0.7777777777777778,
              "#fb9f3a"
             ],
             [
              0.8888888888888888,
              "#fdca26"
             ],
             [
              1,
              "#f0f921"
             ]
            ],
            "type": "histogram2dcontour"
           }
          ],
          "mesh3d": [
           {
            "colorbar": {
             "outlinewidth": 0,
             "ticks": ""
            },
            "type": "mesh3d"
           }
          ],
          "parcoords": [
           {
            "line": {
             "colorbar": {
              "outlinewidth": 0,
              "ticks": ""
             }
            },
            "type": "parcoords"
           }
          ],
          "pie": [
           {
            "automargin": true,
            "type": "pie"
           }
          ],
          "scatter": [
           {
            "marker": {
             "colorbar": {
              "outlinewidth": 0,
              "ticks": ""
             }
            },
            "type": "scatter"
           }
          ],
          "scatter3d": [
           {
            "line": {
             "colorbar": {
              "outlinewidth": 0,
              "ticks": ""
             }
            },
            "marker": {
             "colorbar": {
              "outlinewidth": 0,
              "ticks": ""
             }
            },
            "type": "scatter3d"
           }
          ],
          "scattercarpet": [
           {
            "marker": {
             "colorbar": {
              "outlinewidth": 0,
              "ticks": ""
             }
            },
            "type": "scattercarpet"
           }
          ],
          "scattergeo": [
           {
            "marker": {
             "colorbar": {
              "outlinewidth": 0,
              "ticks": ""
             }
            },
            "type": "scattergeo"
           }
          ],
          "scattergl": [
           {
            "marker": {
             "colorbar": {
              "outlinewidth": 0,
              "ticks": ""
             }
            },
            "type": "scattergl"
           }
          ],
          "scattermapbox": [
           {
            "marker": {
             "colorbar": {
              "outlinewidth": 0,
              "ticks": ""
             }
            },
            "type": "scattermapbox"
           }
          ],
          "scatterpolar": [
           {
            "marker": {
             "colorbar": {
              "outlinewidth": 0,
              "ticks": ""
             }
            },
            "type": "scatterpolar"
           }
          ],
          "scatterpolargl": [
           {
            "marker": {
             "colorbar": {
              "outlinewidth": 0,
              "ticks": ""
             }
            },
            "type": "scatterpolargl"
           }
          ],
          "scatterternary": [
           {
            "marker": {
             "colorbar": {
              "outlinewidth": 0,
              "ticks": ""
             }
            },
            "type": "scatterternary"
           }
          ],
          "surface": [
           {
            "colorbar": {
             "outlinewidth": 0,
             "ticks": ""
            },
            "colorscale": [
             [
              0,
              "#0d0887"
             ],
             [
              0.1111111111111111,
              "#46039f"
             ],
             [
              0.2222222222222222,
              "#7201a8"
             ],
             [
              0.3333333333333333,
              "#9c179e"
             ],
             [
              0.4444444444444444,
              "#bd3786"
             ],
             [
              0.5555555555555556,
              "#d8576b"
             ],
             [
              0.6666666666666666,
              "#ed7953"
             ],
             [
              0.7777777777777778,
              "#fb9f3a"
             ],
             [
              0.8888888888888888,
              "#fdca26"
             ],
             [
              1,
              "#f0f921"
             ]
            ],
            "type": "surface"
           }
          ],
          "table": [
           {
            "cells": {
             "fill": {
              "color": "#EBF0F8"
             },
             "line": {
              "color": "white"
             }
            },
            "header": {
             "fill": {
              "color": "#C8D4E3"
             },
             "line": {
              "color": "white"
             }
            },
            "type": "table"
           }
          ]
         },
         "layout": {
          "annotationdefaults": {
           "arrowcolor": "#2a3f5f",
           "arrowhead": 0,
           "arrowwidth": 1
          },
          "autotypenumbers": "strict",
          "coloraxis": {
           "colorbar": {
            "outlinewidth": 0,
            "ticks": ""
           }
          },
          "colorscale": {
           "diverging": [
            [
             0,
             "#8e0152"
            ],
            [
             0.1,
             "#c51b7d"
            ],
            [
             0.2,
             "#de77ae"
            ],
            [
             0.3,
             "#f1b6da"
            ],
            [
             0.4,
             "#fde0ef"
            ],
            [
             0.5,
             "#f7f7f7"
            ],
            [
             0.6,
             "#e6f5d0"
            ],
            [
             0.7,
             "#b8e186"
            ],
            [
             0.8,
             "#7fbc41"
            ],
            [
             0.9,
             "#4d9221"
            ],
            [
             1,
             "#276419"
            ]
           ],
           "sequential": [
            [
             0,
             "#0d0887"
            ],
            [
             0.1111111111111111,
             "#46039f"
            ],
            [
             0.2222222222222222,
             "#7201a8"
            ],
            [
             0.3333333333333333,
             "#9c179e"
            ],
            [
             0.4444444444444444,
             "#bd3786"
            ],
            [
             0.5555555555555556,
             "#d8576b"
            ],
            [
             0.6666666666666666,
             "#ed7953"
            ],
            [
             0.7777777777777778,
             "#fb9f3a"
            ],
            [
             0.8888888888888888,
             "#fdca26"
            ],
            [
             1,
             "#f0f921"
            ]
           ],
           "sequentialminus": [
            [
             0,
             "#0d0887"
            ],
            [
             0.1111111111111111,
             "#46039f"
            ],
            [
             0.2222222222222222,
             "#7201a8"
            ],
            [
             0.3333333333333333,
             "#9c179e"
            ],
            [
             0.4444444444444444,
             "#bd3786"
            ],
            [
             0.5555555555555556,
             "#d8576b"
            ],
            [
             0.6666666666666666,
             "#ed7953"
            ],
            [
             0.7777777777777778,
             "#fb9f3a"
            ],
            [
             0.8888888888888888,
             "#fdca26"
            ],
            [
             1,
             "#f0f921"
            ]
           ]
          },
          "colorway": [
           "#636efa",
           "#EF553B",
           "#00cc96",
           "#ab63fa",
           "#FFA15A",
           "#19d3f3",
           "#FF6692",
           "#B6E880",
           "#FF97FF",
           "#FECB52"
          ],
          "font": {
           "color": "#2a3f5f"
          },
          "geo": {
           "bgcolor": "white",
           "lakecolor": "white",
           "landcolor": "#E5ECF6",
           "showlakes": true,
           "showland": true,
           "subunitcolor": "white"
          },
          "hoverlabel": {
           "align": "left"
          },
          "hovermode": "closest",
          "mapbox": {
           "style": "light"
          },
          "paper_bgcolor": "white",
          "plot_bgcolor": "#E5ECF6",
          "polar": {
           "angularaxis": {
            "gridcolor": "white",
            "linecolor": "white",
            "ticks": ""
           },
           "bgcolor": "#E5ECF6",
           "radialaxis": {
            "gridcolor": "white",
            "linecolor": "white",
            "ticks": ""
           }
          },
          "scene": {
           "xaxis": {
            "backgroundcolor": "#E5ECF6",
            "gridcolor": "white",
            "gridwidth": 2,
            "linecolor": "white",
            "showbackground": true,
            "ticks": "",
            "zerolinecolor": "white"
           },
           "yaxis": {
            "backgroundcolor": "#E5ECF6",
            "gridcolor": "white",
            "gridwidth": 2,
            "linecolor": "white",
            "showbackground": true,
            "ticks": "",
            "zerolinecolor": "white"
           },
           "zaxis": {
            "backgroundcolor": "#E5ECF6",
            "gridcolor": "white",
            "gridwidth": 2,
            "linecolor": "white",
            "showbackground": true,
            "ticks": "",
            "zerolinecolor": "white"
           }
          },
          "shapedefaults": {
           "line": {
            "color": "#2a3f5f"
           }
          },
          "ternary": {
           "aaxis": {
            "gridcolor": "white",
            "linecolor": "white",
            "ticks": ""
           },
           "baxis": {
            "gridcolor": "white",
            "linecolor": "white",
            "ticks": ""
           },
           "bgcolor": "#E5ECF6",
           "caxis": {
            "gridcolor": "white",
            "linecolor": "white",
            "ticks": ""
           }
          },
          "title": {
           "x": 0.05
          },
          "xaxis": {
           "automargin": true,
           "gridcolor": "white",
           "linecolor": "white",
           "ticks": "",
           "title": {
            "standoff": 15
           },
           "zerolinecolor": "white",
           "zerolinewidth": 2
          },
          "yaxis": {
           "automargin": true,
           "gridcolor": "white",
           "linecolor": "white",
           "ticks": "",
           "title": {
            "standoff": 15
           },
           "zerolinecolor": "white",
           "zerolinewidth": 2
          }
         }
        },
        "title": {
         "font": {
          "color": "Purple",
          "family": "Times New Roman"
         },
         "text": "Housing Prices Change for Top 5 Asian popular areas"
        },
        "xaxis": {
         "anchor": "y",
         "domain": [
          0,
          1
         ],
         "title": {
          "text": "Date"
         }
        },
        "yaxis": {
         "anchor": "x",
         "domain": [
          0,
          1
         ],
         "title": {
          "text": "Housing Prices"
         }
        }
       }
      },
      "text/html": [
       "<div>                            <div id=\"c50e1f81-feaf-4e15-9c2c-ca3f7b2d4788\" class=\"plotly-graph-div\" style=\"height:525px; width:100%;\"></div>            <script type=\"text/javascript\">                require([\"plotly\"], function(Plotly) {                    window.PLOTLYENV=window.PLOTLYENV || {};                                    if (document.getElementById(\"c50e1f81-feaf-4e15-9c2c-ca3f7b2d4788\")) {                    Plotly.newPlot(                        \"c50e1f81-feaf-4e15-9c2c-ca3f7b2d4788\",                        [{\"hovertemplate\": \"City=Monterey Park<br>date=%{x}<br>value=%{y}<extra></extra>\", \"legendgroup\": \"Monterey Park\", \"line\": {\"color\": \"#636efa\", \"dash\": \"solid\"}, \"mode\": \"lines\", \"name\": \"Monterey Park\", \"showlegend\": true, \"type\": \"scattergl\", \"x\": [\"1996-01-31\", \"1996-02-29\", \"1996-03-31\", \"1996-04-30\", \"1996-05-31\", \"1996-06-30\", \"1996-07-31\", \"1996-08-31\", \"1996-09-30\", \"1996-10-31\", \"1996-11-30\", \"1996-12-31\", \"1997-01-31\", \"1997-02-28\", \"1997-03-31\", \"1997-04-30\", \"1997-05-31\", \"1997-06-30\", \"1997-07-31\", \"1997-08-31\", \"1997-09-30\", \"1997-10-31\", \"1997-11-30\", \"1997-12-31\", \"1998-01-31\", \"1998-02-28\", \"1998-03-31\", \"1998-04-30\", \"1998-05-31\", \"1998-06-30\", \"1998-07-31\", \"1998-08-31\", \"1998-09-30\", \"1998-10-31\", \"1998-11-30\", \"1998-12-31\", \"1999-01-31\", \"1999-02-28\", \"1999-03-31\", \"1999-04-30\", \"1999-05-31\", \"1999-06-30\", \"1999-07-31\", \"1999-08-31\", \"1999-09-30\", \"1999-10-31\", \"1999-11-30\", \"1999-12-31\", \"2000-01-31\", \"2000-02-29\", \"2000-03-31\", \"2000-04-30\", \"2000-05-31\", \"2000-06-30\", \"2000-07-31\", \"2000-08-31\", \"2000-09-30\", \"2000-10-31\", \"2000-11-30\", \"2000-12-31\", \"2001-01-31\", \"2001-02-28\", \"2001-03-31\", \"2001-04-30\", \"2001-05-31\", \"2001-06-30\", \"2001-07-31\", \"2001-08-31\", \"2001-09-30\", \"2001-10-31\", \"2001-11-30\", \"2001-12-31\", \"2002-01-31\", \"2002-02-28\", \"2002-03-31\", \"2002-04-30\", \"2002-05-31\", \"2002-06-30\", \"2002-07-31\", \"2002-08-31\", \"2002-09-30\", \"2002-10-31\", \"2002-11-30\", \"2002-12-31\", \"2003-01-31\", \"2003-02-28\", \"2003-03-31\", \"2003-04-30\", \"2003-05-31\", \"2003-06-30\", \"2003-07-31\", \"2003-08-31\", \"2003-09-30\", \"2003-10-31\", \"2003-11-30\", \"2003-12-31\", \"2004-01-31\", \"2004-02-29\", \"2004-03-31\", \"2004-04-30\", \"2004-05-31\", \"2004-06-30\", \"2004-07-31\", \"2004-08-31\", \"2004-09-30\", \"2004-10-31\", \"2004-11-30\", \"2004-12-31\", \"2005-01-31\", \"2005-02-28\", \"2005-03-31\", \"2005-04-30\", \"2005-05-31\", \"2005-06-30\", \"2005-07-31\", \"2005-08-31\", \"2005-09-30\", \"2005-10-31\", \"2005-11-30\", \"2005-12-31\", \"2006-01-31\", \"2006-02-28\", \"2006-03-31\", \"2006-04-30\", \"2006-05-31\", \"2006-06-30\", \"2006-07-31\", \"2006-08-31\", \"2006-09-30\", \"2006-10-31\", \"2006-11-30\", \"2006-12-31\", \"2007-01-31\", \"2007-02-28\", \"2007-03-31\", \"2007-04-30\", \"2007-05-31\", \"2007-06-30\", \"2007-07-31\", \"2007-08-31\", \"2007-09-30\", \"2007-10-31\", \"2007-11-30\", \"2007-12-31\", \"2008-01-31\", \"2008-02-29\", \"2008-03-31\", \"2008-04-30\", \"2008-05-31\", \"2008-06-30\", \"2008-07-31\", \"2008-08-31\", \"2008-09-30\", \"2008-10-31\", \"2008-11-30\", \"2008-12-31\", \"2009-01-31\", \"2009-02-28\", \"2009-03-31\", \"2009-04-30\", \"2009-05-31\", \"2009-06-30\", \"2009-07-31\", \"2009-08-31\", \"2009-09-30\", \"2009-10-31\", \"2009-11-30\", \"2009-12-31\", \"2010-01-31\", \"2010-02-28\", \"2010-03-31\", \"2010-04-30\", \"2010-05-31\", \"2010-06-30\", \"2010-07-31\", \"2010-08-31\", \"2010-09-30\", \"2010-10-31\", \"2010-11-30\", \"2010-12-31\", \"2011-01-31\", \"2011-02-28\", \"2011-03-31\", \"2011-04-30\", \"2011-05-31\", \"2011-06-30\", \"2011-07-31\", \"2011-08-31\", \"2011-09-30\", \"2011-10-31\", \"2011-11-30\", \"2011-12-31\", \"2012-01-31\", \"2012-02-29\", \"2012-03-31\", \"2012-04-30\", \"2012-05-31\", \"2012-06-30\", \"2012-07-31\", \"2012-08-31\", \"2012-09-30\", \"2012-10-31\", \"2012-11-30\", \"2012-12-31\", \"2013-01-31\", \"2013-02-28\", \"2013-03-31\", \"2013-04-30\", \"2013-05-31\", \"2013-06-30\", \"2013-07-31\", \"2013-08-31\", \"2013-09-30\", \"2013-10-31\", \"2013-11-30\", \"2013-12-31\", \"2014-01-31\", \"2014-02-28\", \"2014-03-31\", \"2014-04-30\", \"2014-05-31\", \"2014-06-30\", \"2014-07-31\", \"2014-08-31\", \"2014-09-30\", \"2014-10-31\", \"2014-11-30\", \"2014-12-31\", \"2015-01-31\", \"2015-02-28\", \"2015-03-31\", \"2015-04-30\", \"2015-05-31\", \"2015-06-30\", \"2015-07-31\", \"2015-08-31\", \"2015-09-30\", \"2015-10-31\", \"2015-11-30\", \"2015-12-31\", \"2016-01-31\", \"2016-02-29\", \"2016-03-31\", \"2016-04-30\", \"2016-05-31\", \"2016-06-30\", \"2016-07-31\", \"2016-08-31\", \"2016-09-30\", \"2016-10-31\", \"2016-11-30\", \"2016-12-31\", \"2017-01-31\", \"2017-02-28\", \"2017-03-31\", \"2017-04-30\", \"2017-05-31\", \"2017-06-30\", \"2017-07-31\", \"2017-08-31\", \"2017-09-30\", \"2017-10-31\", \"2017-11-30\", \"2017-12-31\", \"2018-01-31\", \"2018-02-28\", \"2018-03-31\", \"2018-04-30\", \"2018-05-31\", \"2018-06-30\", \"2018-07-31\", \"2018-08-31\", \"2018-09-30\", \"2018-10-31\", \"2018-11-30\", \"2018-12-31\", \"2019-01-31\", \"2019-02-28\", \"2019-03-31\", \"2019-04-30\", \"2019-05-31\", \"2019-06-30\", \"2019-07-31\", \"2019-08-31\", \"2019-09-30\", \"2019-10-31\", \"2019-11-30\", \"2019-12-31\", \"2020-01-31\", \"2020-02-29\", \"2020-03-31\", \"2020-04-30\", \"2020-05-31\", \"2020-06-30\", \"2020-07-31\", \"2020-08-31\", \"2020-09-30\", \"2020-10-31\", \"2020-11-30\", \"2020-12-31\", \"2021-01-31\", \"2021-02-28\", \"2021-03-31\"], \"xaxis\": \"x\", \"y\": [191157.0, 190865.0, 190874.0, 190782.0, 190701.0, 190528.0, 190572.0, 190443.0, 190194.0, 189910.0, 189765.0, 190028.0, 189211.0, 188777.0, 187971.0, 188054.0, 188245.0, 188585.0, 188893.0, 189571.0, 190470.0, 191330.0, 191846.0, 192318.0, 194358.0, 196465.0, 198716.0, 199997.0, 201377.0, 202498.0, 203343.0, 204466.0, 206000.0, 207811.0, 209961.0, 211544.0, 213295.0, 214738.0, 216205.0, 217231.0, 217823.0, 219531.0, 221289.0, 222170.0, 222341.0, 222970.0, 224157.0, 224939.0, 225356.0, 226011.0, 227516.0, 229375.0, 231494.0, 233093.0, 234999.0, 237804.0, 240884.0, 243047.0, 244800.0, 247288.0, 249840.0, 252196.0, 253924.0, 256287.0, 258845.0, 261608.0, 263585.0, 264836.0, 265969.0, 268358.0, 270852.0, 273045.0, 275188.0, 278070.0, 281662.0, 285039.0, 287902.0, 291101.0, 295396.0, 300827.0, 306265.0, 311286.0, 316569.0, 322301.0, 327546.0, 331677.0, 335653.0, 339326.0, 344124.0, 348010.0, 352987.0, 357265.0, 362083.0, 366422.0, 372311.0, 378725.0, 386613.0, 394521.0, 402832.0, 412488.0, 423307.0, 434003.0, 442747.0, 450976.0, 460259.0, 469224.0, 476171.0, 482045.0, 486811.0, 494334.0, 501143.0, 508061.0, 512127.0, 518292.0, 525942.0, 534970.0, 543830.0, 553537.0, 561603.0, 568743.0, 575651.0, 580993.0, 587313.0, 591680.0, 598093.0, 602068.0, 605441.0, 606961.0, 605700.0, 603890.0, 602766.0, 603527.0, 602712.0, 601243.0, 598968.0, 599327.0, 598219.0, 596974.0, 592906.0, 587470.0, 580627.0, 572707.0, 566737.0, 561020.0, 556445.0, 549865.0, 540753.0, 528471.0, 515230.0, 504808.0, 495587.0, 489202.0, 485252.0, 483104.0, 478289.0, 469198.0, 462708.0, 459695.0, 458191.0, 456421.0, 455789.0, 455037.0, 456600.0, 459624.0, 463500.0, 466079.0, 469832.0, 476481.0, 479951.0, 480019.0, 482364.0, 486824.0, 493422.0, 493528.0, 491041.0, 486410.0, 482109.0, 479427.0, 475010.0, 472900.0, 471171.0, 470748.0, 467569.0, 462791.0, 456180.0, 455360.0, 456318.0, 456657.0, 455127.0, 451677.0, 451154.0, 447797.0, 446033.0, 444224.0, 443984.0, 444607.0, 446047.0, 447014.0, 448042.0, 448063.0, 449373.0, 453039.0, 457399.0, 464774.0, 469840.0, 478458.0, 487247.0, 499086.0, 508440.0, 517098.0, 524910.0, 537100.0, 547574.0, 555068.0, 559358.0, 561403.0, 565292.0, 564228.0, 563272.0, 560020.0, 559516.0, 560069.0, 563299.0, 562314.0, 561461.0, 560130.0, 562994.0, 565138.0, 568443.0, 572228.0, 576130.0, 576910.0, 578849.0, 579662.0, 578523.0, 576864.0, 576984.0, 579841.0, 581981.0, 586166.0, 588492.0, 592085.0, 594274.0, 600009.0, 603117.0, 606737.0, 609838.0, 616000.0, 622097.0, 627330.0, 628858.0, 629850.0, 632230.0, 635100.0, 638067.0, 639687.0, 643527.0, 647351.0, 650531.0, 653361.0, 655038.0, 657647.0, 662603.0, 667933.0, 672652.0, 677028.0, 682406.0, 687417.0, 691280.0, 693153.0, 694670.0, 693118.0, 692773.0, 692807.0, 694757.0, 694791.0, 694514.0, 691154.0, 687137.0, 685678.0, 688512.0, 694367.0, 695071.0, 696086.0, 696320.0, 698384.0, 699225.0, 701331.0, 705038.0, 710084.0, 717485.0, 724462.0, 728401.0, 729896.0, 735951.0, 743366.0, 751140.0, 757236.0, 762957.0, 768586.0, 773227.0, 778568.0, 782313.0], \"yaxis\": \"y\"}, {\"hovertemplate\": \"City=Walnut<br>date=%{x}<br>value=%{y}<extra></extra>\", \"legendgroup\": \"Walnut\", \"line\": {\"color\": \"#EF553B\", \"dash\": \"solid\"}, \"mode\": \"lines\", \"name\": \"Walnut\", \"showlegend\": true, \"type\": \"scattergl\", \"x\": [\"1996-01-31\", \"1996-02-29\", \"1996-03-31\", \"1996-04-30\", \"1996-05-31\", \"1996-06-30\", \"1996-07-31\", \"1996-08-31\", \"1996-09-30\", \"1996-10-31\", \"1996-11-30\", \"1996-12-31\", \"1997-01-31\", \"1997-02-28\", \"1997-03-31\", \"1997-04-30\", \"1997-05-31\", \"1997-06-30\", \"1997-07-31\", \"1997-08-31\", \"1997-09-30\", \"1997-10-31\", \"1997-11-30\", \"1997-12-31\", \"1998-01-31\", \"1998-02-28\", \"1998-03-31\", \"1998-04-30\", \"1998-05-31\", \"1998-06-30\", \"1998-07-31\", \"1998-08-31\", \"1998-09-30\", \"1998-10-31\", \"1998-11-30\", \"1998-12-31\", \"1999-01-31\", \"1999-02-28\", \"1999-03-31\", \"1999-04-30\", \"1999-05-31\", \"1999-06-30\", \"1999-07-31\", \"1999-08-31\", \"1999-09-30\", \"1999-10-31\", \"1999-11-30\", \"1999-12-31\", \"2000-01-31\", \"2000-02-29\", \"2000-03-31\", \"2000-04-30\", \"2000-05-31\", \"2000-06-30\", \"2000-07-31\", \"2000-08-31\", \"2000-09-30\", \"2000-10-31\", \"2000-11-30\", \"2000-12-31\", \"2001-01-31\", \"2001-02-28\", \"2001-03-31\", \"2001-04-30\", \"2001-05-31\", \"2001-06-30\", \"2001-07-31\", \"2001-08-31\", \"2001-09-30\", \"2001-10-31\", \"2001-11-30\", \"2001-12-31\", \"2002-01-31\", \"2002-02-28\", \"2002-03-31\", \"2002-04-30\", \"2002-05-31\", \"2002-06-30\", \"2002-07-31\", \"2002-08-31\", \"2002-09-30\", \"2002-10-31\", \"2002-11-30\", \"2002-12-31\", \"2003-01-31\", \"2003-02-28\", \"2003-03-31\", \"2003-04-30\", \"2003-05-31\", \"2003-06-30\", \"2003-07-31\", \"2003-08-31\", \"2003-09-30\", \"2003-10-31\", \"2003-11-30\", \"2003-12-31\", \"2004-01-31\", \"2004-02-29\", \"2004-03-31\", \"2004-04-30\", \"2004-05-31\", \"2004-06-30\", \"2004-07-31\", \"2004-08-31\", \"2004-09-30\", \"2004-10-31\", \"2004-11-30\", \"2004-12-31\", \"2005-01-31\", \"2005-02-28\", \"2005-03-31\", \"2005-04-30\", \"2005-05-31\", \"2005-06-30\", \"2005-07-31\", \"2005-08-31\", \"2005-09-30\", \"2005-10-31\", \"2005-11-30\", \"2005-12-31\", \"2006-01-31\", \"2006-02-28\", \"2006-03-31\", \"2006-04-30\", \"2006-05-31\", \"2006-06-30\", \"2006-07-31\", \"2006-08-31\", \"2006-09-30\", \"2006-10-31\", \"2006-11-30\", \"2006-12-31\", \"2007-01-31\", \"2007-02-28\", \"2007-03-31\", \"2007-04-30\", \"2007-05-31\", \"2007-06-30\", \"2007-07-31\", \"2007-08-31\", \"2007-09-30\", \"2007-10-31\", \"2007-11-30\", \"2007-12-31\", \"2008-01-31\", \"2008-02-29\", \"2008-03-31\", \"2008-04-30\", \"2008-05-31\", \"2008-06-30\", \"2008-07-31\", \"2008-08-31\", \"2008-09-30\", \"2008-10-31\", \"2008-11-30\", \"2008-12-31\", \"2009-01-31\", \"2009-02-28\", \"2009-03-31\", \"2009-04-30\", \"2009-05-31\", \"2009-06-30\", \"2009-07-31\", \"2009-08-31\", \"2009-09-30\", \"2009-10-31\", \"2009-11-30\", \"2009-12-31\", \"2010-01-31\", \"2010-02-28\", \"2010-03-31\", \"2010-04-30\", \"2010-05-31\", \"2010-06-30\", \"2010-07-31\", \"2010-08-31\", \"2010-09-30\", \"2010-10-31\", \"2010-11-30\", \"2010-12-31\", \"2011-01-31\", \"2011-02-28\", \"2011-03-31\", \"2011-04-30\", \"2011-05-31\", \"2011-06-30\", \"2011-07-31\", \"2011-08-31\", \"2011-09-30\", \"2011-10-31\", \"2011-11-30\", \"2011-12-31\", \"2012-01-31\", \"2012-02-29\", \"2012-03-31\", \"2012-04-30\", \"2012-05-31\", \"2012-06-30\", \"2012-07-31\", \"2012-08-31\", \"2012-09-30\", \"2012-10-31\", \"2012-11-30\", \"2012-12-31\", \"2013-01-31\", \"2013-02-28\", \"2013-03-31\", \"2013-04-30\", \"2013-05-31\", \"2013-06-30\", \"2013-07-31\", \"2013-08-31\", \"2013-09-30\", \"2013-10-31\", \"2013-11-30\", \"2013-12-31\", \"2014-01-31\", \"2014-02-28\", \"2014-03-31\", \"2014-04-30\", \"2014-05-31\", \"2014-06-30\", \"2014-07-31\", \"2014-08-31\", \"2014-09-30\", \"2014-10-31\", \"2014-11-30\", \"2014-12-31\", \"2015-01-31\", \"2015-02-28\", \"2015-03-31\", \"2015-04-30\", \"2015-05-31\", \"2015-06-30\", \"2015-07-31\", \"2015-08-31\", \"2015-09-30\", \"2015-10-31\", \"2015-11-30\", \"2015-12-31\", \"2016-01-31\", \"2016-02-29\", \"2016-03-31\", \"2016-04-30\", \"2016-05-31\", \"2016-06-30\", \"2016-07-31\", \"2016-08-31\", \"2016-09-30\", \"2016-10-31\", \"2016-11-30\", \"2016-12-31\", \"2017-01-31\", \"2017-02-28\", \"2017-03-31\", \"2017-04-30\", \"2017-05-31\", \"2017-06-30\", \"2017-07-31\", \"2017-08-31\", \"2017-09-30\", \"2017-10-31\", \"2017-11-30\", \"2017-12-31\", \"2018-01-31\", \"2018-02-28\", \"2018-03-31\", \"2018-04-30\", \"2018-05-31\", \"2018-06-30\", \"2018-07-31\", \"2018-08-31\", \"2018-09-30\", \"2018-10-31\", \"2018-11-30\", \"2018-12-31\", \"2019-01-31\", \"2019-02-28\", \"2019-03-31\", \"2019-04-30\", \"2019-05-31\", \"2019-06-30\", \"2019-07-31\", \"2019-08-31\", \"2019-09-30\", \"2019-10-31\", \"2019-11-30\", \"2019-12-31\", \"2020-01-31\", \"2020-02-29\", \"2020-03-31\", \"2020-04-30\", \"2020-05-31\", \"2020-06-30\", \"2020-07-31\", \"2020-08-31\", \"2020-09-30\", \"2020-10-31\", \"2020-11-30\", \"2020-12-31\", \"2021-01-31\", \"2021-02-28\", \"2021-03-31\"], \"xaxis\": \"x\", \"y\": [250114.0, 250097.0, 250234.0, 250360.0, 250516.0, 250722.0, 251338.0, 251559.0, 251465.0, 250770.0, 250413.0, 249901.0, 248643.0, 247377.0, 246391.0, 246569.0, 246780.0, 247131.0, 247417.0, 248530.0, 249809.0, 251698.0, 252913.0, 254888.0, 257616.0, 261024.0, 263827.0, 265588.0, 267301.0, 268373.0, 268584.0, 268854.0, 270335.0, 272535.0, 275096.0, 276945.0, 279560.0, 281768.0, 284207.0, 286027.0, 287795.0, 290802.0, 294480.0, 297283.0, 298743.0, 299932.0, 301780.0, 303513.0, 305130.0, 306378.0, 308312.0, 310359.0, 313103.0, 315210.0, 317289.0, 319346.0, 321798.0, 323908.0, 326450.0, 329191.0, 331595.0, 333860.0, 335954.0, 339095.0, 341615.0, 344534.0, 346720.0, 349777.0, 352464.0, 356015.0, 358505.0, 361294.0, 363853.0, 367589.0, 371478.0, 375602.0, 379820.0, 384720.0, 390316.0, 395584.0, 400953.0, 406534.0, 413124.0, 419567.0, 425357.0, 430194.0, 435687.0, 440031.0, 444697.0, 447696.0, 453163.0, 459567.0, 466840.0, 472581.0, 479589.0, 487350.0, 497249.0, 506333.0, 515294.0, 526726.0, 540332.0, 554262.0, 565450.0, 575635.0, 587165.0, 598027.0, 606370.0, 614270.0, 621656.0, 632682.0, 642383.0, 651124.0, 656382.0, 664226.0, 673240.0, 683041.0, 692590.0, 704665.0, 715051.0, 722984.0, 728871.0, 732982.0, 739062.0, 742593.0, 749174.0, 752159.0, 755149.0, 755992.0, 752607.0, 749073.0, 746545.0, 747042.0, 745856.0, 742818.0, 739301.0, 738735.0, 736221.0, 733286.0, 726472.0, 719720.0, 712000.0, 702892.0, 694723.0, 687219.0, 682172.0, 676000.0, 665814.0, 653615.0, 639766.0, 630271.0, 621076.0, 613592.0, 608803.0, 604905.0, 598657.0, 587083.0, 577861.0, 573359.0, 571956.0, 568951.0, 566352.0, 562987.0, 563871.0, 566857.0, 570709.0, 573538.0, 578198.0, 586118.0, 589947.0, 589183.0, 589112.0, 591893.0, 599006.0, 600078.0, 599377.0, 595143.0, 591361.0, 587410.0, 582609.0, 580039.0, 579387.0, 580142.0, 578741.0, 576015.0, 569776.0, 568505.0, 566899.0, 565638.0, 563148.0, 560804.0, 560920.0, 558703.0, 556934.0, 554117.0, 553239.0, 554135.0, 556636.0, 558588.0, 560431.0, 562202.0, 565380.0, 572109.0, 578998.0, 588480.0, 595290.0, 607689.0, 619660.0, 634118.0, 644843.0, 657138.0, 669659.0, 686011.0, 699127.0, 707355.0, 712559.0, 715634.0, 723134.0, 724976.0, 727706.0, 725907.0, 729397.0, 731902.0, 737579.0, 736579.0, 736891.0, 736596.0, 740394.0, 743249.0, 745722.0, 749007.0, 752763.0, 755395.0, 757763.0, 758354.0, 755612.0, 754538.0, 753877.0, 756364.0, 758159.0, 762377.0, 764138.0, 765942.0, 764968.0, 766343.0, 764254.0, 763316.0, 762873.0, 765824.0, 769917.0, 773006.0, 772443.0, 771517.0, 772700.0, 774463.0, 776893.0, 778362.0, 782842.0, 787018.0, 790511.0, 792284.0, 792599.0, 793196.0, 796604.0, 800263.0, 802722.0, 805129.0, 807862.0, 810062.0, 810896.0, 811004.0, 809319.0, 805505.0, 802442.0, 801763.0, 801728.0, 798733.0, 796317.0, 790396.0, 785471.0, 782472.0, 784708.0, 787798.0, 786908.0, 785691.0, 784130.0, 783453.0, 781454.0, 782807.0, 785641.0, 790877.0, 797108.0, 803234.0, 806405.0, 808228.0, 814467.0, 822545.0, 831111.0, 838228.0, 845903.0, 852612.0, 858419.0, 864502.0, 869761.0], \"yaxis\": \"y\"}, {\"hovertemplate\": \"City=Cerritos<br>date=%{x}<br>value=%{y}<extra></extra>\", \"legendgroup\": \"Cerritos\", \"line\": {\"color\": \"#00cc96\", \"dash\": \"solid\"}, \"mode\": \"lines\", \"name\": \"Cerritos\", \"showlegend\": true, \"type\": \"scattergl\", \"x\": [\"1996-01-31\", \"1996-02-29\", \"1996-03-31\", \"1996-04-30\", \"1996-05-31\", \"1996-06-30\", \"1996-07-31\", \"1996-08-31\", \"1996-09-30\", \"1996-10-31\", \"1996-11-30\", \"1996-12-31\", \"1997-01-31\", \"1997-02-28\", \"1997-03-31\", \"1997-04-30\", \"1997-05-31\", \"1997-06-30\", \"1997-07-31\", \"1997-08-31\", \"1997-09-30\", \"1997-10-31\", \"1997-11-30\", \"1997-12-31\", \"1998-01-31\", \"1998-02-28\", \"1998-03-31\", \"1998-04-30\", \"1998-05-31\", \"1998-06-30\", \"1998-07-31\", \"1998-08-31\", \"1998-09-30\", \"1998-10-31\", \"1998-11-30\", \"1998-12-31\", \"1999-01-31\", \"1999-02-28\", \"1999-03-31\", \"1999-04-30\", \"1999-05-31\", \"1999-06-30\", \"1999-07-31\", \"1999-08-31\", \"1999-09-30\", \"1999-10-31\", \"1999-11-30\", \"1999-12-31\", \"2000-01-31\", \"2000-02-29\", \"2000-03-31\", \"2000-04-30\", \"2000-05-31\", \"2000-06-30\", \"2000-07-31\", \"2000-08-31\", \"2000-09-30\", \"2000-10-31\", \"2000-11-30\", \"2000-12-31\", \"2001-01-31\", \"2001-02-28\", \"2001-03-31\", \"2001-04-30\", \"2001-05-31\", \"2001-06-30\", \"2001-07-31\", \"2001-08-31\", \"2001-09-30\", \"2001-10-31\", \"2001-11-30\", \"2001-12-31\", \"2002-01-31\", \"2002-02-28\", \"2002-03-31\", \"2002-04-30\", \"2002-05-31\", \"2002-06-30\", \"2002-07-31\", \"2002-08-31\", \"2002-09-30\", \"2002-10-31\", \"2002-11-30\", \"2002-12-31\", \"2003-01-31\", \"2003-02-28\", \"2003-03-31\", \"2003-04-30\", \"2003-05-31\", \"2003-06-30\", \"2003-07-31\", \"2003-08-31\", \"2003-09-30\", \"2003-10-31\", \"2003-11-30\", \"2003-12-31\", \"2004-01-31\", \"2004-02-29\", \"2004-03-31\", \"2004-04-30\", \"2004-05-31\", \"2004-06-30\", \"2004-07-31\", \"2004-08-31\", \"2004-09-30\", \"2004-10-31\", \"2004-11-30\", \"2004-12-31\", \"2005-01-31\", \"2005-02-28\", \"2005-03-31\", \"2005-04-30\", \"2005-05-31\", \"2005-06-30\", \"2005-07-31\", \"2005-08-31\", \"2005-09-30\", \"2005-10-31\", \"2005-11-30\", \"2005-12-31\", \"2006-01-31\", \"2006-02-28\", \"2006-03-31\", \"2006-04-30\", \"2006-05-31\", \"2006-06-30\", \"2006-07-31\", \"2006-08-31\", \"2006-09-30\", \"2006-10-31\", \"2006-11-30\", \"2006-12-31\", \"2007-01-31\", \"2007-02-28\", \"2007-03-31\", \"2007-04-30\", \"2007-05-31\", \"2007-06-30\", \"2007-07-31\", \"2007-08-31\", \"2007-09-30\", \"2007-10-31\", \"2007-11-30\", \"2007-12-31\", \"2008-01-31\", \"2008-02-29\", \"2008-03-31\", \"2008-04-30\", \"2008-05-31\", \"2008-06-30\", \"2008-07-31\", \"2008-08-31\", \"2008-09-30\", \"2008-10-31\", \"2008-11-30\", \"2008-12-31\", \"2009-01-31\", \"2009-02-28\", \"2009-03-31\", \"2009-04-30\", \"2009-05-31\", \"2009-06-30\", \"2009-07-31\", \"2009-08-31\", \"2009-09-30\", \"2009-10-31\", \"2009-11-30\", \"2009-12-31\", \"2010-01-31\", \"2010-02-28\", \"2010-03-31\", \"2010-04-30\", \"2010-05-31\", \"2010-06-30\", \"2010-07-31\", \"2010-08-31\", \"2010-09-30\", \"2010-10-31\", \"2010-11-30\", \"2010-12-31\", \"2011-01-31\", \"2011-02-28\", \"2011-03-31\", \"2011-04-30\", \"2011-05-31\", \"2011-06-30\", \"2011-07-31\", \"2011-08-31\", \"2011-09-30\", \"2011-10-31\", \"2011-11-30\", \"2011-12-31\", \"2012-01-31\", \"2012-02-29\", \"2012-03-31\", \"2012-04-30\", \"2012-05-31\", \"2012-06-30\", \"2012-07-31\", \"2012-08-31\", \"2012-09-30\", \"2012-10-31\", \"2012-11-30\", \"2012-12-31\", \"2013-01-31\", \"2013-02-28\", \"2013-03-31\", \"2013-04-30\", \"2013-05-31\", \"2013-06-30\", \"2013-07-31\", \"2013-08-31\", \"2013-09-30\", \"2013-10-31\", \"2013-11-30\", \"2013-12-31\", \"2014-01-31\", \"2014-02-28\", \"2014-03-31\", \"2014-04-30\", \"2014-05-31\", \"2014-06-30\", \"2014-07-31\", \"2014-08-31\", \"2014-09-30\", \"2014-10-31\", \"2014-11-30\", \"2014-12-31\", \"2015-01-31\", \"2015-02-28\", \"2015-03-31\", \"2015-04-30\", \"2015-05-31\", \"2015-06-30\", \"2015-07-31\", \"2015-08-31\", \"2015-09-30\", \"2015-10-31\", \"2015-11-30\", \"2015-12-31\", \"2016-01-31\", \"2016-02-29\", \"2016-03-31\", \"2016-04-30\", \"2016-05-31\", \"2016-06-30\", \"2016-07-31\", \"2016-08-31\", \"2016-09-30\", \"2016-10-31\", \"2016-11-30\", \"2016-12-31\", \"2017-01-31\", \"2017-02-28\", \"2017-03-31\", \"2017-04-30\", \"2017-05-31\", \"2017-06-30\", \"2017-07-31\", \"2017-08-31\", \"2017-09-30\", \"2017-10-31\", \"2017-11-30\", \"2017-12-31\", \"2018-01-31\", \"2018-02-28\", \"2018-03-31\", \"2018-04-30\", \"2018-05-31\", \"2018-06-30\", \"2018-07-31\", \"2018-08-31\", \"2018-09-30\", \"2018-10-31\", \"2018-11-30\", \"2018-12-31\", \"2019-01-31\", \"2019-02-28\", \"2019-03-31\", \"2019-04-30\", \"2019-05-31\", \"2019-06-30\", \"2019-07-31\", \"2019-08-31\", \"2019-09-30\", \"2019-10-31\", \"2019-11-30\", \"2019-12-31\", \"2020-01-31\", \"2020-02-29\", \"2020-03-31\", \"2020-04-30\", \"2020-05-31\", \"2020-06-30\", \"2020-07-31\", \"2020-08-31\", \"2020-09-30\", \"2020-10-31\", \"2020-11-30\", \"2020-12-31\", \"2021-01-31\", \"2021-02-28\", \"2021-03-31\"], \"xaxis\": \"x\", \"y\": [235918.0, 235929.0, 236059.0, 236272.0, 236567.0, 236770.0, 237166.0, 237189.0, 237138.0, 236911.0, 236955.0, 237061.0, 236400.0, 235943.0, 235648.0, 236358.0, 236817.0, 237575.0, 238447.0, 240253.0, 241996.0, 243962.0, 245469.0, 247511.0, 250468.0, 253636.0, 256475.0, 258189.0, 260448.0, 262258.0, 263433.0, 264516.0, 266550.0, 268953.0, 271413.0, 272993.0, 275252.0, 277264.0, 279339.0, 281044.0, 282467.0, 284967.0, 288211.0, 290445.0, 291786.0, 293049.0, 295347.0, 297729.0, 299795.0, 301575.0, 303790.0, 306236.0, 309035.0, 311466.0, 313466.0, 315744.0, 318097.0, 320084.0, 321867.0, 323715.0, 325705.0, 327900.0, 330352.0, 333298.0, 335853.0, 338289.0, 340292.0, 342816.0, 345201.0, 348516.0, 351717.0, 355515.0, 359104.0, 363188.0, 367213.0, 371765.0, 376391.0, 381655.0, 387422.0, 393439.0, 399901.0, 406646.0, 413714.0, 420411.0, 426255.0, 431489.0, 437175.0, 441792.0, 446811.0, 450907.0, 457348.0, 464047.0, 470815.0, 476213.0, 483195.0, 491252.0, 501400.0, 511119.0, 520885.0, 532536.0, 546140.0, 559418.0, 570463.0, 580335.0, 592041.0, 602968.0, 611663.0, 619232.0, 625724.0, 635156.0, 643644.0, 652124.0, 657751.0, 665783.0, 675417.0, 686212.0, 696352.0, 707508.0, 716048.0, 723029.0, 729231.0, 734007.0, 739865.0, 743111.0, 748873.0, 752104.0, 753254.0, 752100.0, 747080.0, 743212.0, 740984.0, 741306.0, 739482.0, 736703.0, 733528.0, 733437.0, 730653.0, 727188.0, 721897.0, 715563.0, 708437.0, 698946.0, 690960.0, 683206.0, 676413.0, 667389.0, 654156.0, 637941.0, 621825.0, 609983.0, 599130.0, 590739.0, 584756.0, 580950.0, 574999.0, 563909.0, 556543.0, 552500.0, 551796.0, 550244.0, 549269.0, 547206.0, 546398.0, 548716.0, 552353.0, 555965.0, 560078.0, 567533.0, 570652.0, 570828.0, 572667.0, 576832.0, 584037.0, 584595.0, 585746.0, 583103.0, 580930.0, 576947.0, 571626.0, 567894.0, 566081.0, 565827.0, 563612.0, 561023.0, 554237.0, 553457.0, 551183.0, 550283.0, 546783.0, 543366.0, 542728.0, 540528.0, 539560.0, 538014.0, 536914.0, 535799.0, 536336.0, 537030.0, 538819.0, 538347.0, 539549.0, 543138.0, 547780.0, 554652.0, 558748.0, 566818.0, 574497.0, 584764.0, 593979.0, 602944.0, 611224.0, 621661.0, 630113.0, 635663.0, 638773.0, 639913.0, 642194.0, 640139.0, 639942.0, 638592.0, 638167.0, 636046.0, 636387.0, 635280.0, 634957.0, 634212.0, 636490.0, 638954.0, 643496.0, 648302.0, 652601.0, 652548.0, 654671.0, 657506.0, 659561.0, 661102.0, 662748.0, 666914.0, 670104.0, 675212.0, 677272.0, 679613.0, 680117.0, 685251.0, 687478.0, 690047.0, 689662.0, 691764.0, 695241.0, 698734.0, 699333.0, 698275.0, 700094.0, 702603.0, 706069.0, 707539.0, 711094.0, 713438.0, 718650.0, 723426.0, 727646.0, 729320.0, 733573.0, 738733.0, 742492.0, 745784.0, 749008.0, 751776.0, 753903.0, 757215.0, 758785.0, 757735.0, 754945.0, 754822.0, 754887.0, 753269.0, 752011.0, 748107.0, 744550.0, 742931.0, 746001.0, 750780.0, 750643.0, 749301.0, 748243.0, 749520.0, 750716.0, 752735.0, 755529.0, 759836.0, 766102.0, 772422.0, 775871.0, 776611.0, 781831.0, 789595.0, 798326.0, 804835.0, 811100.0, 817660.0, 823938.0, 830834.0, 836454.0], \"yaxis\": \"y\"}, {\"hovertemplate\": \"City=Rosemea<br>date=%{x}<br>value=%{y}<extra></extra>\", \"legendgroup\": \"Rosemea\", \"line\": {\"color\": \"#ab63fa\", \"dash\": \"solid\"}, \"mode\": \"lines\", \"name\": \"Rosemea\", \"showlegend\": true, \"type\": \"scattergl\", \"x\": [\"1996-01-31\", \"1996-02-29\", \"1996-03-31\", \"1996-04-30\", \"1996-05-31\", \"1996-06-30\", \"1996-07-31\", \"1996-08-31\", \"1996-09-30\", \"1996-10-31\", \"1996-11-30\", \"1996-12-31\", \"1997-01-31\", \"1997-02-28\", \"1997-03-31\", \"1997-04-30\", \"1997-05-31\", \"1997-06-30\", \"1997-07-31\", \"1997-08-31\", \"1997-09-30\", \"1997-10-31\", \"1997-11-30\", \"1997-12-31\", \"1998-01-31\", \"1998-02-28\", \"1998-03-31\", \"1998-04-30\", \"1998-05-31\", \"1998-06-30\", \"1998-07-31\", \"1998-08-31\", \"1998-09-30\", \"1998-10-31\", \"1998-11-30\", \"1998-12-31\", \"1999-01-31\", \"1999-02-28\", \"1999-03-31\", \"1999-04-30\", \"1999-05-31\", \"1999-06-30\", \"1999-07-31\", \"1999-08-31\", \"1999-09-30\", \"1999-10-31\", \"1999-11-30\", \"1999-12-31\", \"2000-01-31\", \"2000-02-29\", \"2000-03-31\", \"2000-04-30\", \"2000-05-31\", \"2000-06-30\", \"2000-07-31\", \"2000-08-31\", \"2000-09-30\", \"2000-10-31\", \"2000-11-30\", \"2000-12-31\", \"2001-01-31\", \"2001-02-28\", \"2001-03-31\", \"2001-04-30\", \"2001-05-31\", \"2001-06-30\", \"2001-07-31\", \"2001-08-31\", \"2001-09-30\", \"2001-10-31\", \"2001-11-30\", \"2001-12-31\", \"2002-01-31\", \"2002-02-28\", \"2002-03-31\", \"2002-04-30\", \"2002-05-31\", \"2002-06-30\", \"2002-07-31\", \"2002-08-31\", \"2002-09-30\", \"2002-10-31\", \"2002-11-30\", \"2002-12-31\", \"2003-01-31\", \"2003-02-28\", \"2003-03-31\", \"2003-04-30\", \"2003-05-31\", \"2003-06-30\", \"2003-07-31\", \"2003-08-31\", \"2003-09-30\", \"2003-10-31\", \"2003-11-30\", \"2003-12-31\", \"2004-01-31\", \"2004-02-29\", \"2004-03-31\", \"2004-04-30\", \"2004-05-31\", \"2004-06-30\", \"2004-07-31\", \"2004-08-31\", \"2004-09-30\", \"2004-10-31\", \"2004-11-30\", \"2004-12-31\", \"2005-01-31\", \"2005-02-28\", \"2005-03-31\", \"2005-04-30\", \"2005-05-31\", \"2005-06-30\", \"2005-07-31\", \"2005-08-31\", \"2005-09-30\", \"2005-10-31\", \"2005-11-30\", \"2005-12-31\", \"2006-01-31\", \"2006-02-28\", \"2006-03-31\", \"2006-04-30\", \"2006-05-31\", \"2006-06-30\", \"2006-07-31\", \"2006-08-31\", \"2006-09-30\", \"2006-10-31\", \"2006-11-30\", \"2006-12-31\", \"2007-01-31\", \"2007-02-28\", \"2007-03-31\", \"2007-04-30\", \"2007-05-31\", \"2007-06-30\", \"2007-07-31\", \"2007-08-31\", \"2007-09-30\", \"2007-10-31\", \"2007-11-30\", \"2007-12-31\", \"2008-01-31\", \"2008-02-29\", \"2008-03-31\", \"2008-04-30\", \"2008-05-31\", \"2008-06-30\", \"2008-07-31\", \"2008-08-31\", \"2008-09-30\", \"2008-10-31\", \"2008-11-30\", \"2008-12-31\", \"2009-01-31\", \"2009-02-28\", \"2009-03-31\", \"2009-04-30\", \"2009-05-31\", \"2009-06-30\", \"2009-07-31\", \"2009-08-31\", \"2009-09-30\", \"2009-10-31\", \"2009-11-30\", \"2009-12-31\", \"2010-01-31\", \"2010-02-28\", \"2010-03-31\", \"2010-04-30\", \"2010-05-31\", \"2010-06-30\", \"2010-07-31\", \"2010-08-31\", \"2010-09-30\", \"2010-10-31\", \"2010-11-30\", \"2010-12-31\", \"2011-01-31\", \"2011-02-28\", \"2011-03-31\", \"2011-04-30\", \"2011-05-31\", \"2011-06-30\", \"2011-07-31\", \"2011-08-31\", \"2011-09-30\", \"2011-10-31\", \"2011-11-30\", \"2011-12-31\", \"2012-01-31\", \"2012-02-29\", \"2012-03-31\", \"2012-04-30\", \"2012-05-31\", \"2012-06-30\", \"2012-07-31\", \"2012-08-31\", \"2012-09-30\", \"2012-10-31\", \"2012-11-30\", \"2012-12-31\", \"2013-01-31\", \"2013-02-28\", \"2013-03-31\", \"2013-04-30\", \"2013-05-31\", \"2013-06-30\", \"2013-07-31\", \"2013-08-31\", \"2013-09-30\", \"2013-10-31\", \"2013-11-30\", \"2013-12-31\", \"2014-01-31\", \"2014-02-28\", \"2014-03-31\", \"2014-04-30\", \"2014-05-31\", \"2014-06-30\", \"2014-07-31\", \"2014-08-31\", \"2014-09-30\", \"2014-10-31\", \"2014-11-30\", \"2014-12-31\", \"2015-01-31\", \"2015-02-28\", \"2015-03-31\", \"2015-04-30\", \"2015-05-31\", \"2015-06-30\", \"2015-07-31\", \"2015-08-31\", \"2015-09-30\", \"2015-10-31\", \"2015-11-30\", \"2015-12-31\", \"2016-01-31\", \"2016-02-29\", \"2016-03-31\", \"2016-04-30\", \"2016-05-31\", \"2016-06-30\", \"2016-07-31\", \"2016-08-31\", \"2016-09-30\", \"2016-10-31\", \"2016-11-30\", \"2016-12-31\", \"2017-01-31\", \"2017-02-28\", \"2017-03-31\", \"2017-04-30\", \"2017-05-31\", \"2017-06-30\", \"2017-07-31\", \"2017-08-31\", \"2017-09-30\", \"2017-10-31\", \"2017-11-30\", \"2017-12-31\", \"2018-01-31\", \"2018-02-28\", \"2018-03-31\", \"2018-04-30\", \"2018-05-31\", \"2018-06-30\", \"2018-07-31\", \"2018-08-31\", \"2018-09-30\", \"2018-10-31\", \"2018-11-30\", \"2018-12-31\", \"2019-01-31\", \"2019-02-28\", \"2019-03-31\", \"2019-04-30\", \"2019-05-31\", \"2019-06-30\", \"2019-07-31\", \"2019-08-31\", \"2019-09-30\", \"2019-10-31\", \"2019-11-30\", \"2019-12-31\", \"2020-01-31\", \"2020-02-29\", \"2020-03-31\", \"2020-04-30\", \"2020-05-31\", \"2020-06-30\", \"2020-07-31\", \"2020-08-31\", \"2020-09-30\", \"2020-10-31\", \"2020-11-30\", \"2020-12-31\", \"2021-01-31\", \"2021-02-28\", \"2021-03-31\"], \"xaxis\": \"x\", \"y\": [170881.0, 170847.0, 170889.0, 171055.0, 171467.0, 172200.0, 172970.0, 173387.0, 173245.0, 172838.0, 172750.0, 172604.0, 171936.0, 171061.0, 170436.0, 170239.0, 169700.0, 168713.0, 168005.0, 167804.0, 168224.0, 168832.0, 168958.0, 169445.0, 170303.0, 171970.0, 173353.0, 174357.0, 175156.0, 175681.0, 175580.0, 175798.0, 176548.0, 177733.0, 178809.0, 179513.0, 180782.0, 181819.0, 182837.0, 183607.0, 184725.0, 186670.0, 188883.0, 190210.0, 190731.0, 191048.0, 192177.0, 193201.0, 194375.0, 195222.0, 196855.0, 198566.0, 200696.0, 202199.0, 203367.0, 204325.0, 205978.0, 207740.0, 209778.0, 211861.0, 213415.0, 215292.0, 216680.0, 218631.0, 220032.0, 222090.0, 224647.0, 228061.0, 230709.0, 233222.0, 235071.0, 237628.0, 240669.0, 244010.0, 247500.0, 250855.0, 254130.0, 257741.0, 261426.0, 265453.0, 269728.0, 274823.0, 280229.0, 284838.0, 288267.0, 291475.0, 295434.0, 299527.0, 304065.0, 307994.0, 313070.0, 318079.0, 323176.0, 327360.0, 332933.0, 339852.0, 348823.0, 356854.0, 364814.0, 373173.0, 383477.0, 393352.0, 401509.0, 408795.0, 417462.0, 425565.0, 431917.0, 437165.0, 441351.0, 448322.0, 454566.0, 461803.0, 466145.0, 471706.0, 478757.0, 487341.0, 496435.0, 506892.0, 514977.0, 522064.0, 528603.0, 534348.0, 540632.0, 544379.0, 549972.0, 554435.0, 557725.0, 559048.0, 556591.0, 553881.0, 552971.0, 553800.0, 553123.0, 551129.0, 548661.0, 549012.0, 548451.0, 547318.0, 543999.0, 539192.0, 533981.0, 527343.0, 521284.0, 515499.0, 510362.0, 504060.0, 495828.0, 484346.0, 471280.0, 460168.0, 450940.0, 444261.0, 439009.0, 434692.0, 429449.0, 420653.0, 415805.0, 413156.0, 411853.0, 409733.0, 408340.0, 408056.0, 408217.0, 409529.0, 411756.0, 414164.0, 417628.0, 422554.0, 422668.0, 419555.0, 418811.0, 420812.0, 425684.0, 423623.0, 421328.0, 417353.0, 414512.0, 411866.0, 407305.0, 405070.0, 403925.0, 404807.0, 402709.0, 399892.0, 394553.0, 394147.0, 394154.0, 394223.0, 392487.0, 388860.0, 387806.0, 384980.0, 384236.0, 383248.0, 383094.0, 383253.0, 384491.0, 386984.0, 389258.0, 390086.0, 391147.0, 395476.0, 399816.0, 406710.0, 410341.0, 417220.0, 424754.0, 434739.0, 442963.0, 449579.0, 455398.0, 464582.0, 473270.0, 479181.0, 483315.0, 484885.0, 488533.0, 487731.0, 487720.0, 485825.0, 485865.0, 485974.0, 488821.0, 489245.0, 489940.0, 490345.0, 492937.0, 495232.0, 498765.0, 503139.0, 507246.0, 507944.0, 509359.0, 510893.0, 512095.0, 512989.0, 514120.0, 516342.0, 518245.0, 522085.0, 524249.0, 527210.0, 528749.0, 533708.0, 536824.0, 539932.0, 540872.0, 543598.0, 547431.0, 551941.0, 554037.0, 556035.0, 558952.0, 561761.0, 564644.0, 567125.0, 571233.0, 574507.0, 577262.0, 580055.0, 582151.0, 584709.0, 589131.0, 593244.0, 597141.0, 601229.0, 606177.0, 609418.0, 612349.0, 615405.0, 620630.0, 622092.0, 622968.0, 622009.0, 623064.0, 622605.0, 622520.0, 619847.0, 616844.0, 616255.0, 619455.0, 624679.0, 623377.0, 621765.0, 620332.0, 622865.0, 624086.0, 626301.0, 629472.0, 634882.0, 641173.0, 647108.0, 649355.0, 650012.0, 654988.0, 662056.0, 669421.0, 674552.0, 679402.0, 684278.0, 688250.0, 691800.0, 694809.0], \"yaxis\": \"y\"}, {\"hovertemplate\": \"City=Cupertino<br>date=%{x}<br>value=%{y}<extra></extra>\", \"legendgroup\": \"Cupertino\", \"line\": {\"color\": \"#FFA15A\", \"dash\": \"solid\"}, \"mode\": \"lines\", \"name\": \"Cupertino\", \"showlegend\": true, \"type\": \"scattergl\", \"x\": [\"1996-01-31\", \"1996-02-29\", \"1996-03-31\", \"1996-04-30\", \"1996-05-31\", \"1996-06-30\", \"1996-07-31\", \"1996-08-31\", \"1996-09-30\", \"1996-10-31\", \"1996-11-30\", \"1996-12-31\", \"1997-01-31\", \"1997-02-28\", \"1997-03-31\", \"1997-04-30\", \"1997-05-31\", \"1997-06-30\", \"1997-07-31\", \"1997-08-31\", \"1997-09-30\", \"1997-10-31\", \"1997-11-30\", \"1997-12-31\", \"1998-01-31\", \"1998-02-28\", \"1998-03-31\", \"1998-04-30\", \"1998-05-31\", \"1998-06-30\", \"1998-07-31\", \"1998-08-31\", \"1998-09-30\", \"1998-10-31\", \"1998-11-30\", \"1998-12-31\", \"1999-01-31\", \"1999-02-28\", \"1999-03-31\", \"1999-04-30\", \"1999-05-31\", \"1999-06-30\", \"1999-07-31\", \"1999-08-31\", \"1999-09-30\", \"1999-10-31\", \"1999-11-30\", \"1999-12-31\", \"2000-01-31\", \"2000-02-29\", \"2000-03-31\", \"2000-04-30\", \"2000-05-31\", \"2000-06-30\", \"2000-07-31\", \"2000-08-31\", \"2000-09-30\", \"2000-10-31\", \"2000-11-30\", \"2000-12-31\", \"2001-01-31\", \"2001-02-28\", \"2001-03-31\", \"2001-04-30\", \"2001-05-31\", \"2001-06-30\", \"2001-07-31\", \"2001-08-31\", \"2001-09-30\", \"2001-10-31\", \"2001-11-30\", \"2001-12-31\", \"2002-01-31\", \"2002-02-28\", \"2002-03-31\", \"2002-04-30\", \"2002-05-31\", \"2002-06-30\", \"2002-07-31\", \"2002-08-31\", \"2002-09-30\", \"2002-10-31\", \"2002-11-30\", \"2002-12-31\", \"2003-01-31\", \"2003-02-28\", \"2003-03-31\", \"2003-04-30\", \"2003-05-31\", \"2003-06-30\", \"2003-07-31\", \"2003-08-31\", \"2003-09-30\", \"2003-10-31\", \"2003-11-30\", \"2003-12-31\", \"2004-01-31\", \"2004-02-29\", \"2004-03-31\", \"2004-04-30\", \"2004-05-31\", \"2004-06-30\", \"2004-07-31\", \"2004-08-31\", \"2004-09-30\", \"2004-10-31\", \"2004-11-30\", \"2004-12-31\", \"2005-01-31\", \"2005-02-28\", \"2005-03-31\", \"2005-04-30\", \"2005-05-31\", \"2005-06-30\", \"2005-07-31\", \"2005-08-31\", \"2005-09-30\", \"2005-10-31\", \"2005-11-30\", \"2005-12-31\", \"2006-01-31\", \"2006-02-28\", \"2006-03-31\", \"2006-04-30\", \"2006-05-31\", \"2006-06-30\", \"2006-07-31\", \"2006-08-31\", \"2006-09-30\", \"2006-10-31\", \"2006-11-30\", \"2006-12-31\", \"2007-01-31\", \"2007-02-28\", \"2007-03-31\", \"2007-04-30\", \"2007-05-31\", \"2007-06-30\", \"2007-07-31\", \"2007-08-31\", \"2007-09-30\", \"2007-10-31\", \"2007-11-30\", \"2007-12-31\", \"2008-01-31\", \"2008-02-29\", \"2008-03-31\", \"2008-04-30\", \"2008-05-31\", \"2008-06-30\", \"2008-07-31\", \"2008-08-31\", \"2008-09-30\", \"2008-10-31\", \"2008-11-30\", \"2008-12-31\", \"2009-01-31\", \"2009-02-28\", \"2009-03-31\", \"2009-04-30\", \"2009-05-31\", \"2009-06-30\", \"2009-07-31\", \"2009-08-31\", \"2009-09-30\", \"2009-10-31\", \"2009-11-30\", \"2009-12-31\", \"2010-01-31\", \"2010-02-28\", \"2010-03-31\", \"2010-04-30\", \"2010-05-31\", \"2010-06-30\", \"2010-07-31\", \"2010-08-31\", \"2010-09-30\", \"2010-10-31\", \"2010-11-30\", \"2010-12-31\", \"2011-01-31\", \"2011-02-28\", \"2011-03-31\", \"2011-04-30\", \"2011-05-31\", \"2011-06-30\", \"2011-07-31\", \"2011-08-31\", \"2011-09-30\", \"2011-10-31\", \"2011-11-30\", \"2011-12-31\", \"2012-01-31\", \"2012-02-29\", \"2012-03-31\", \"2012-04-30\", \"2012-05-31\", \"2012-06-30\", \"2012-07-31\", \"2012-08-31\", \"2012-09-30\", \"2012-10-31\", \"2012-11-30\", \"2012-12-31\", \"2013-01-31\", \"2013-02-28\", \"2013-03-31\", \"2013-04-30\", \"2013-05-31\", \"2013-06-30\", \"2013-07-31\", \"2013-08-31\", \"2013-09-30\", \"2013-10-31\", \"2013-11-30\", \"2013-12-31\", \"2014-01-31\", \"2014-02-28\", \"2014-03-31\", \"2014-04-30\", \"2014-05-31\", \"2014-06-30\", \"2014-07-31\", \"2014-08-31\", \"2014-09-30\", \"2014-10-31\", \"2014-11-30\", \"2014-12-31\", \"2015-01-31\", \"2015-02-28\", \"2015-03-31\", \"2015-04-30\", \"2015-05-31\", \"2015-06-30\", \"2015-07-31\", \"2015-08-31\", \"2015-09-30\", \"2015-10-31\", \"2015-11-30\", \"2015-12-31\", \"2016-01-31\", \"2016-02-29\", \"2016-03-31\", \"2016-04-30\", \"2016-05-31\", \"2016-06-30\", \"2016-07-31\", \"2016-08-31\", \"2016-09-30\", \"2016-10-31\", \"2016-11-30\", \"2016-12-31\", \"2017-01-31\", \"2017-02-28\", \"2017-03-31\", \"2017-04-30\", \"2017-05-31\", \"2017-06-30\", \"2017-07-31\", \"2017-08-31\", \"2017-09-30\", \"2017-10-31\", \"2017-11-30\", \"2017-12-31\", \"2018-01-31\", \"2018-02-28\", \"2018-03-31\", \"2018-04-30\", \"2018-05-31\", \"2018-06-30\", \"2018-07-31\", \"2018-08-31\", \"2018-09-30\", \"2018-10-31\", \"2018-11-30\", \"2018-12-31\", \"2019-01-31\", \"2019-02-28\", \"2019-03-31\", \"2019-04-30\", \"2019-05-31\", \"2019-06-30\", \"2019-07-31\", \"2019-08-31\", \"2019-09-30\", \"2019-10-31\", \"2019-11-30\", \"2019-12-31\", \"2020-01-31\", \"2020-02-29\", \"2020-03-31\", \"2020-04-30\", \"2020-05-31\", \"2020-06-30\", \"2020-07-31\", \"2020-08-31\", \"2020-09-30\", \"2020-10-31\", \"2020-11-30\", \"2020-12-31\", \"2021-01-31\", \"2021-02-28\", \"2021-03-31\"], \"xaxis\": \"x\", \"y\": [442866.0, 441884.0, 442035.0, 442285.0, 443417.0, 444629.0, 445903.0, 447766.0, 449875.0, 453458.0, 458122.0, 463475.0, 469285.0, 475817.0, 482051.0, 487920.0, 492995.0, 499034.0, 505148.0, 511886.0, 518888.0, 524802.0, 530556.0, 536247.0, 540960.0, 545345.0, 549841.0, 556067.0, 563082.0, 568962.0, 575630.0, 580906.0, 587311.0, 592047.0, 594554.0, 595533.0, 598459.0, 603627.0, 608385.0, 609736.0, 611348.0, 614648.0, 619479.0, 623920.0, 626006.0, 630517.0, 637606.0, 648107.0, 658614.0, 668002.0, 678626.0, 695248.0, 712547.0, 732819.0, 750582.0, 774176.0, 799417.0, 825473.0, 851305.0, 873984.0, 894026.0, 908097.0, 920238.0, 925788.0, 928329.0, 923349.0, 917700.0, 907874.0, 898513.0, 886304.0, 871943.0, 858593.0, 847382.0, 843551.0, 842841.0, 845348.0, 850839.0, 857554.0, 865065.0, 867810.0, 867932.0, 868609.0, 871116.0, 870582.0, 869877.0, 869846.0, 868653.0, 864271.0, 855294.0, 849037.0, 844760.0, 845820.0, 851515.0, 856684.0, 861583.0, 868540.0, 877990.0, 885189.0, 890460.0, 900321.0, 913252.0, 927937.0, 938563.0, 950249.0, 958778.0, 972075.0, 988567.0, 1006846.0, 1023605.0, 1039296.0, 1062394.0, 1078616.0, 1094691.0, 1103321.0, 1117536.0, 1129709.0, 1140096.0, 1146626.0, 1148336.0, 1149860.0, 1152005.0, 1155355.0, 1148149.0, 1144387.0, 1141000.0, 1146765.0, 1148281.0, 1144776.0, 1146442.0, 1148408.0, 1153481.0, 1158328.0, 1160616.0, 1166002.0, 1175148.0, 1182418.0, 1187615.0, 1187285.0, 1193006.0, 1203189.0, 1213506.0, 1216870.0, 1214008.0, 1202542.0, 1187630.0, 1167177.0, 1152512.0, 1148397.0, 1149751.0, 1147699.0, 1140343.0, 1136172.0, 1125908.0, 1119456.0, 1114133.0, 1126337.0, 1143058.0, 1164971.0, 1164435.0, 1160876.0, 1152802.0, 1161709.0, 1168532.0, 1165674.0, 1163526.0, 1167607.0, 1182298.0, 1186050.0, 1189013.0, 1189869.0, 1211341.0, 1220133.0, 1229642.0, 1224189.0, 1226630.0, 1233248.0, 1244343.0, 1247753.0, 1234580.0, 1219782.0, 1209147.0, 1201495.0, 1191943.0, 1184660.0, 1172084.0, 1155099.0, 1134536.0, 1123111.0, 1115159.0, 1106053.0, 1110236.0, 1109919.0, 1109021.0, 1100611.0, 1099251.0, 1109390.0, 1128108.0, 1152666.0, 1176496.0, 1195259.0, 1208939.0, 1227141.0, 1246960.0, 1271592.0, 1295170.0, 1316483.0, 1337280.0, 1355003.0, 1373788.0, 1394450.0, 1408653.0, 1418165.0, 1421761.0, 1434845.0, 1437822.0, 1456802.0, 1475680.0, 1507487.0, 1517858.0, 1522216.0, 1515853.0, 1517675.0, 1535251.0, 1561786.0, 1599073.0, 1623627.0, 1652395.0, 1661251.0, 1666415.0, 1671798.0, 1697589.0, 1719781.0, 1762838.0, 1786612.0, 1809904.0, 1813593.0, 1821632.0, 1824231.0, 1824322.0, 1828306.0, 1841068.0, 1845649.0, 1846849.0, 1854646.0, 1844250.0, 1840555.0, 1822677.0, 1827975.0, 1820611.0, 1830800.0, 1839539.0, 1855872.0, 1866247.0, 1881336.0, 1888718.0, 1898001.0, 1905202.0, 1924401.0, 1949777.0, 1989706.0, 2040660.0, 2090868.0, 2137279.0, 2183335.0, 2228270.0, 2271551.0, 2312746.0, 2344295.0, 2383707.0, 2411571.0, 2438635.0, 2417879.0, 2383810.0, 2336141.0, 2305452.0, 2264744.0, 2222137.0, 2185577.0, 2161929.0, 2162905.0, 2163497.0, 2158000.0, 2134172.0, 2113221.0, 2106341.0, 2106901.0, 2112014.0, 2121577.0, 2145781.0, 2174049.0, 2203944.0, 2217091.0, 2224606.0, 2237764.0, 2264914.0, 2306485.0, 2340409.0, 2373693.0, 2396441.0, 2420148.0, 2433401.0, 2441106.0, 2442534.0], \"yaxis\": \"y\"}],                        {\"font\": {\"color\": \"gray\", \"family\": \"Courier New\"}, \"legend\": {\"title\": {\"text\": \"City\"}, \"tracegroupgap\": 0}, \"margin\": {\"t\": 60}, \"template\": {\"data\": {\"bar\": [{\"error_x\": {\"color\": \"#2a3f5f\"}, \"error_y\": {\"color\": \"#2a3f5f\"}, \"marker\": {\"line\": {\"color\": \"#E5ECF6\", \"width\": 0.5}}, \"type\": \"bar\"}], \"barpolar\": [{\"marker\": {\"line\": {\"color\": \"#E5ECF6\", \"width\": 0.5}}, \"type\": \"barpolar\"}], \"carpet\": [{\"aaxis\": {\"endlinecolor\": \"#2a3f5f\", \"gridcolor\": \"white\", \"linecolor\": \"white\", \"minorgridcolor\": \"white\", \"startlinecolor\": \"#2a3f5f\"}, \"baxis\": {\"endlinecolor\": \"#2a3f5f\", \"gridcolor\": \"white\", \"linecolor\": \"white\", \"minorgridcolor\": \"white\", \"startlinecolor\": \"#2a3f5f\"}, \"type\": \"carpet\"}], \"choropleth\": [{\"colorbar\": {\"outlinewidth\": 0, \"ticks\": \"\"}, \"type\": \"choropleth\"}], \"contour\": [{\"colorbar\": {\"outlinewidth\": 0, \"ticks\": \"\"}, \"colorscale\": [[0.0, \"#0d0887\"], [0.1111111111111111, \"#46039f\"], [0.2222222222222222, \"#7201a8\"], [0.3333333333333333, \"#9c179e\"], [0.4444444444444444, \"#bd3786\"], [0.5555555555555556, \"#d8576b\"], [0.6666666666666666, \"#ed7953\"], [0.7777777777777778, \"#fb9f3a\"], [0.8888888888888888, \"#fdca26\"], [1.0, \"#f0f921\"]], \"type\": \"contour\"}], \"contourcarpet\": [{\"colorbar\": {\"outlinewidth\": 0, \"ticks\": \"\"}, \"type\": \"contourcarpet\"}], \"heatmap\": [{\"colorbar\": {\"outlinewidth\": 0, \"ticks\": \"\"}, \"colorscale\": [[0.0, \"#0d0887\"], [0.1111111111111111, \"#46039f\"], [0.2222222222222222, \"#7201a8\"], [0.3333333333333333, \"#9c179e\"], [0.4444444444444444, \"#bd3786\"], [0.5555555555555556, \"#d8576b\"], [0.6666666666666666, \"#ed7953\"], [0.7777777777777778, \"#fb9f3a\"], [0.8888888888888888, \"#fdca26\"], [1.0, \"#f0f921\"]], \"type\": \"heatmap\"}], \"heatmapgl\": [{\"colorbar\": {\"outlinewidth\": 0, \"ticks\": \"\"}, \"colorscale\": [[0.0, \"#0d0887\"], [0.1111111111111111, \"#46039f\"], [0.2222222222222222, \"#7201a8\"], [0.3333333333333333, \"#9c179e\"], [0.4444444444444444, \"#bd3786\"], [0.5555555555555556, \"#d8576b\"], [0.6666666666666666, \"#ed7953\"], [0.7777777777777778, \"#fb9f3a\"], [0.8888888888888888, \"#fdca26\"], [1.0, \"#f0f921\"]], \"type\": \"heatmapgl\"}], \"histogram\": [{\"marker\": {\"colorbar\": {\"outlinewidth\": 0, \"ticks\": \"\"}}, \"type\": \"histogram\"}], \"histogram2d\": [{\"colorbar\": {\"outlinewidth\": 0, \"ticks\": \"\"}, \"colorscale\": [[0.0, \"#0d0887\"], [0.1111111111111111, \"#46039f\"], [0.2222222222222222, \"#7201a8\"], [0.3333333333333333, \"#9c179e\"], [0.4444444444444444, \"#bd3786\"], [0.5555555555555556, \"#d8576b\"], [0.6666666666666666, \"#ed7953\"], [0.7777777777777778, \"#fb9f3a\"], [0.8888888888888888, \"#fdca26\"], [1.0, \"#f0f921\"]], \"type\": \"histogram2d\"}], \"histogram2dcontour\": [{\"colorbar\": {\"outlinewidth\": 0, \"ticks\": \"\"}, \"colorscale\": [[0.0, \"#0d0887\"], [0.1111111111111111, \"#46039f\"], [0.2222222222222222, \"#7201a8\"], [0.3333333333333333, \"#9c179e\"], [0.4444444444444444, \"#bd3786\"], [0.5555555555555556, \"#d8576b\"], [0.6666666666666666, \"#ed7953\"], [0.7777777777777778, \"#fb9f3a\"], [0.8888888888888888, \"#fdca26\"], [1.0, \"#f0f921\"]], \"type\": \"histogram2dcontour\"}], \"mesh3d\": [{\"colorbar\": {\"outlinewidth\": 0, \"ticks\": \"\"}, \"type\": \"mesh3d\"}], \"parcoords\": [{\"line\": {\"colorbar\": {\"outlinewidth\": 0, \"ticks\": \"\"}}, \"type\": \"parcoords\"}], \"pie\": [{\"automargin\": true, \"type\": \"pie\"}], \"scatter\": [{\"marker\": {\"colorbar\": {\"outlinewidth\": 0, \"ticks\": \"\"}}, \"type\": \"scatter\"}], \"scatter3d\": [{\"line\": {\"colorbar\": {\"outlinewidth\": 0, \"ticks\": \"\"}}, \"marker\": {\"colorbar\": {\"outlinewidth\": 0, \"ticks\": \"\"}}, \"type\": \"scatter3d\"}], \"scattercarpet\": [{\"marker\": {\"colorbar\": {\"outlinewidth\": 0, \"ticks\": \"\"}}, \"type\": \"scattercarpet\"}], \"scattergeo\": [{\"marker\": {\"colorbar\": {\"outlinewidth\": 0, \"ticks\": \"\"}}, \"type\": \"scattergeo\"}], \"scattergl\": [{\"marker\": {\"colorbar\": {\"outlinewidth\": 0, \"ticks\": \"\"}}, \"type\": \"scattergl\"}], \"scattermapbox\": [{\"marker\": {\"colorbar\": {\"outlinewidth\": 0, \"ticks\": \"\"}}, \"type\": \"scattermapbox\"}], \"scatterpolar\": [{\"marker\": {\"colorbar\": {\"outlinewidth\": 0, \"ticks\": \"\"}}, \"type\": \"scatterpolar\"}], \"scatterpolargl\": [{\"marker\": {\"colorbar\": {\"outlinewidth\": 0, \"ticks\": \"\"}}, \"type\": \"scatterpolargl\"}], \"scatterternary\": [{\"marker\": {\"colorbar\": {\"outlinewidth\": 0, \"ticks\": \"\"}}, \"type\": \"scatterternary\"}], \"surface\": [{\"colorbar\": {\"outlinewidth\": 0, \"ticks\": \"\"}, \"colorscale\": [[0.0, \"#0d0887\"], [0.1111111111111111, \"#46039f\"], [0.2222222222222222, \"#7201a8\"], [0.3333333333333333, \"#9c179e\"], [0.4444444444444444, \"#bd3786\"], [0.5555555555555556, \"#d8576b\"], [0.6666666666666666, \"#ed7953\"], [0.7777777777777778, \"#fb9f3a\"], [0.8888888888888888, \"#fdca26\"], [1.0, \"#f0f921\"]], \"type\": \"surface\"}], \"table\": [{\"cells\": {\"fill\": {\"color\": \"#EBF0F8\"}, \"line\": {\"color\": \"white\"}}, \"header\": {\"fill\": {\"color\": \"#C8D4E3\"}, \"line\": {\"color\": \"white\"}}, \"type\": \"table\"}]}, \"layout\": {\"annotationdefaults\": {\"arrowcolor\": \"#2a3f5f\", \"arrowhead\": 0, \"arrowwidth\": 1}, \"autotypenumbers\": \"strict\", \"coloraxis\": {\"colorbar\": {\"outlinewidth\": 0, \"ticks\": \"\"}}, \"colorscale\": {\"diverging\": [[0, \"#8e0152\"], [0.1, \"#c51b7d\"], [0.2, \"#de77ae\"], [0.3, \"#f1b6da\"], [0.4, \"#fde0ef\"], [0.5, \"#f7f7f7\"], [0.6, \"#e6f5d0\"], [0.7, \"#b8e186\"], [0.8, \"#7fbc41\"], [0.9, \"#4d9221\"], [1, \"#276419\"]], \"sequential\": [[0.0, \"#0d0887\"], [0.1111111111111111, \"#46039f\"], [0.2222222222222222, \"#7201a8\"], [0.3333333333333333, \"#9c179e\"], [0.4444444444444444, \"#bd3786\"], [0.5555555555555556, \"#d8576b\"], [0.6666666666666666, \"#ed7953\"], [0.7777777777777778, \"#fb9f3a\"], [0.8888888888888888, \"#fdca26\"], [1.0, \"#f0f921\"]], \"sequentialminus\": [[0.0, \"#0d0887\"], [0.1111111111111111, \"#46039f\"], [0.2222222222222222, \"#7201a8\"], [0.3333333333333333, \"#9c179e\"], [0.4444444444444444, \"#bd3786\"], [0.5555555555555556, \"#d8576b\"], [0.6666666666666666, \"#ed7953\"], [0.7777777777777778, \"#fb9f3a\"], [0.8888888888888888, \"#fdca26\"], [1.0, \"#f0f921\"]]}, \"colorway\": [\"#636efa\", \"#EF553B\", \"#00cc96\", \"#ab63fa\", \"#FFA15A\", \"#19d3f3\", \"#FF6692\", \"#B6E880\", \"#FF97FF\", \"#FECB52\"], \"font\": {\"color\": \"#2a3f5f\"}, \"geo\": {\"bgcolor\": \"white\", \"lakecolor\": \"white\", \"landcolor\": \"#E5ECF6\", \"showlakes\": true, \"showland\": true, \"subunitcolor\": \"white\"}, \"hoverlabel\": {\"align\": \"left\"}, \"hovermode\": \"closest\", \"mapbox\": {\"style\": \"light\"}, \"paper_bgcolor\": \"white\", \"plot_bgcolor\": \"#E5ECF6\", \"polar\": {\"angularaxis\": {\"gridcolor\": \"white\", \"linecolor\": \"white\", \"ticks\": \"\"}, \"bgcolor\": \"#E5ECF6\", \"radialaxis\": {\"gridcolor\": \"white\", \"linecolor\": \"white\", \"ticks\": \"\"}}, \"scene\": {\"xaxis\": {\"backgroundcolor\": \"#E5ECF6\", \"gridcolor\": \"white\", \"gridwidth\": 2, \"linecolor\": \"white\", \"showbackground\": true, \"ticks\": \"\", \"zerolinecolor\": \"white\"}, \"yaxis\": {\"backgroundcolor\": \"#E5ECF6\", \"gridcolor\": \"white\", \"gridwidth\": 2, \"linecolor\": \"white\", \"showbackground\": true, \"ticks\": \"\", \"zerolinecolor\": \"white\"}, \"zaxis\": {\"backgroundcolor\": \"#E5ECF6\", \"gridcolor\": \"white\", \"gridwidth\": 2, \"linecolor\": \"white\", \"showbackground\": true, \"ticks\": \"\", \"zerolinecolor\": \"white\"}}, \"shapedefaults\": {\"line\": {\"color\": \"#2a3f5f\"}}, \"ternary\": {\"aaxis\": {\"gridcolor\": \"white\", \"linecolor\": \"white\", \"ticks\": \"\"}, \"baxis\": {\"gridcolor\": \"white\", \"linecolor\": \"white\", \"ticks\": \"\"}, \"bgcolor\": \"#E5ECF6\", \"caxis\": {\"gridcolor\": \"white\", \"linecolor\": \"white\", \"ticks\": \"\"}}, \"title\": {\"x\": 0.05}, \"xaxis\": {\"automargin\": true, \"gridcolor\": \"white\", \"linecolor\": \"white\", \"ticks\": \"\", \"title\": {\"standoff\": 15}, \"zerolinecolor\": \"white\", \"zerolinewidth\": 2}, \"yaxis\": {\"automargin\": true, \"gridcolor\": \"white\", \"linecolor\": \"white\", \"ticks\": \"\", \"title\": {\"standoff\": 15}, \"zerolinecolor\": \"white\", \"zerolinewidth\": 2}}}, \"title\": {\"font\": {\"color\": \"Purple\", \"family\": \"Times New Roman\"}, \"text\": \"Housing Prices Change for Top 5 Asian popular areas\"}, \"xaxis\": {\"anchor\": \"y\", \"domain\": [0.0, 1.0], \"title\": {\"text\": \"Date\"}}, \"yaxis\": {\"anchor\": \"x\", \"domain\": [0.0, 1.0], \"title\": {\"text\": \"Housing Prices\"}}},                        {\"responsive\": true}                    ).then(function(){\n",
       "                            \n",
       "var gd = document.getElementById('c50e1f81-feaf-4e15-9c2c-ca3f7b2d4788');\n",
       "var x = new MutationObserver(function (mutations, observer) {{\n",
       "        var display = window.getComputedStyle(gd).display;\n",
       "        if (!display || display === 'none') {{\n",
       "            console.log([gd, 'removed!']);\n",
       "            Plotly.purge(gd);\n",
       "            observer.disconnect();\n",
       "        }}\n",
       "}});\n",
       "\n",
       "// Listen for the removal of the full notebook cells\n",
       "var notebookContainer = gd.closest('#notebook-container');\n",
       "if (notebookContainer) {{\n",
       "    x.observe(notebookContainer, {childList: true});\n",
       "}}\n",
       "\n",
       "// Listen for the clearing of the current output cell\n",
       "var outputEl = gd.closest('.output');\n",
       "if (outputEl) {{\n",
       "    x.observe(outputEl, {childList: true});\n",
       "}}\n",
       "\n",
       "                        })                };                });            </script>        </div>"
      ]
     },
     "metadata": {},
     "output_type": "display_data"
    }
   ],
   "source": [
    "import plotly.express as px\n",
    "import plotly.graph_objects as go\n",
    "fig = px.line(asiantop, x=\"date\", y=\"value\",color = \"City\")\n",
    "fig.update_layout(title='Housing Prices Change for Top 5 Asian popular areas',\n",
    "                   xaxis_title='Date',\n",
    "                   yaxis_title='Housing Prices',\n",
    "                 font_family=\"Courier New\",\n",
    "    font_color=\"gray\",\n",
    "    title_font_family=\"Times New Roman\",\n",
    "    title_font_color=\"Purple\")\n",
    "fig.show()"
   ]
  },
  {
   "cell_type": "code",
   "execution_count": null,
   "metadata": {},
   "outputs": [],
   "source": []
  }
 ],
 "metadata": {
  "kernelspec": {
   "display_name": "Python [conda env:root] *",
   "language": "python",
   "name": "conda-root-py"
  },
  "language_info": {
   "codemirror_mode": {
    "name": "ipython",
    "version": 3
   },
   "file_extension": ".py",
   "mimetype": "text/x-python",
   "name": "python",
   "nbconvert_exporter": "python",
   "pygments_lexer": "ipython3",
   "version": "3.8.5"
  }
 },
 "nbformat": 4,
 "nbformat_minor": 4
}
